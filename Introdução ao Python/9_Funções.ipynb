{
  "nbformat": 4,
  "nbformat_minor": 0,
  "metadata": {
    "colab": {
      "name": "9 - Funções.ipynb",
      "provenance": [],
      "collapsed_sections": [
        "ZP2b5fbqWpWZ"
      ]
    },
    "kernelspec": {
      "name": "python3",
      "display_name": "Python 3"
    },
    "language_info": {
      "name": "python"
    }
  },
  "cells": [
    {
      "cell_type": "markdown",
      "source": [
        "# Funções\n",
        "\n",
        " - Trechos de código de um programa que recebem um determinado NOME e podem ser CHAMADOS \"n\" vezes durante a execução do programa\n",
        " - Principais vantagens: reutilização de código, modularidade e facilidade de manutenção do sistema, facilidade para programação etc."
      ],
      "metadata": {
        "id": "R1E2OEpuWMB7"
      }
    },
    {
      "cell_type": "markdown",
      "source": [
        "## Funções SEM entrada de parâmetros e SEM retorno"
      ],
      "metadata": {
        "id": "ZP2b5fbqWpWZ"
      }
    },
    {
      "cell_type": "code",
      "source": [
        "def dizOla():\n",
        "  print('Olá, seja muito bem-vind@')\n",
        "  print('Sinta-se em casa! :D')"
      ],
      "metadata": {
        "id": "3ZfdCA3SXE8s"
      },
      "execution_count": null,
      "outputs": []
    },
    {
      "cell_type": "code",
      "source": [
        "dizOla()"
      ],
      "metadata": {
        "colab": {
          "base_uri": "https://localhost:8080/"
        },
        "id": "g1tUvvOoXS6t",
        "outputId": "cc9e8f26-0409-427e-cde6-6db86dd34f07"
      },
      "execution_count": null,
      "outputs": [
        {
          "output_type": "stream",
          "name": "stdout",
          "text": [
            "Olá, seja muito bem-vind@\n",
            "Sinta-se em casa! :D\n"
          ]
        }
      ]
    },
    {
      "cell_type": "code",
      "source": [
        "a = 12 + 34\n",
        "dizOla()\n",
        "print(a)\n",
        "dizOla()"
      ],
      "metadata": {
        "colab": {
          "base_uri": "https://localhost:8080/"
        },
        "id": "wNBZI0QYXVg2",
        "outputId": "65212530-4bec-4e23-ae73-e35bafbd0925"
      },
      "execution_count": null,
      "outputs": [
        {
          "output_type": "stream",
          "name": "stdout",
          "text": [
            "Olá, seja muito bem-vind@\n",
            "Sinta-se em casa! :D\n",
            "46\n",
            "Olá, seja muito bem-vind@\n",
            "Sinta-se em casa! :D\n"
          ]
        }
      ]
    },
    {
      "cell_type": "markdown",
      "source": [
        "## Funções COM entrada de parâmetros e SEM retorno"
      ],
      "metadata": {
        "id": "7GFRmeVUWs2U"
      }
    },
    {
      "cell_type": "code",
      "source": [
        "def dizNome(nome):\n",
        "  print(f'Olá {nome}, seja muito bem-vind@!')"
      ],
      "metadata": {
        "id": "vxb3K53MXmKf"
      },
      "execution_count": null,
      "outputs": []
    },
    {
      "cell_type": "code",
      "source": [
        "dizNome('Thiago')"
      ],
      "metadata": {
        "colab": {
          "base_uri": "https://localhost:8080/"
        },
        "id": "843Qzi9uXxoT",
        "outputId": "f66046ef-8820-4262-b6c1-1148545d4dee"
      },
      "execution_count": null,
      "outputs": [
        {
          "output_type": "stream",
          "name": "stdout",
          "text": [
            "Olá Thiago, seja muito bem-vind@!\n"
          ]
        }
      ]
    },
    {
      "cell_type": "code",
      "source": [
        "b = 10 + 10\n",
        "print(b)\n",
        "\n",
        "dizNome('João')"
      ],
      "metadata": {
        "colab": {
          "base_uri": "https://localhost:8080/"
        },
        "id": "HOtblXBmX0x2",
        "outputId": "f2b9ce42-e65b-480c-a22a-b9536c03565c"
      },
      "execution_count": null,
      "outputs": [
        {
          "output_type": "stream",
          "name": "stdout",
          "text": [
            "20\n",
            "Olá João, seja muito bem-vind@!\n"
          ]
        }
      ]
    },
    {
      "cell_type": "code",
      "source": [
        "dizNome('Joanna')"
      ],
      "metadata": {
        "colab": {
          "base_uri": "https://localhost:8080/"
        },
        "id": "cfnDOO6gX8Rx",
        "outputId": "4a905266-dd3b-4899-dd6a-31de78c606ac"
      },
      "execution_count": null,
      "outputs": [
        {
          "output_type": "stream",
          "name": "stdout",
          "text": [
            "Olá Joanna, seja muito bem-vind@!\n"
          ]
        }
      ]
    },
    {
      "cell_type": "code",
      "source": [
        "def soma(a, b):\n",
        "  print(a + b)"
      ],
      "metadata": {
        "id": "DS7Kz5-KYBow"
      },
      "execution_count": null,
      "outputs": []
    },
    {
      "cell_type": "code",
      "source": [
        "soma(1.30, 49)"
      ],
      "metadata": {
        "colab": {
          "base_uri": "https://localhost:8080/"
        },
        "id": "Hmq-1RPKYFA3",
        "outputId": "789811d0-9204-4844-ddbb-28b4b0d3fe8f"
      },
      "execution_count": null,
      "outputs": [
        {
          "output_type": "stream",
          "name": "stdout",
          "text": [
            "50.3\n"
          ]
        }
      ]
    },
    {
      "cell_type": "markdown",
      "source": [
        "## Funções COM entrada de parâmetros e COM retorno"
      ],
      "metadata": {
        "id": "42o8m8S6W0ES"
      }
    },
    {
      "cell_type": "code",
      "source": [
        "def soma(a, b):\n",
        "  return a + b"
      ],
      "metadata": {
        "id": "hVYz7zi-YRuI"
      },
      "execution_count": null,
      "outputs": []
    },
    {
      "cell_type": "code",
      "source": [
        "soma(20, 4)"
      ],
      "metadata": {
        "colab": {
          "base_uri": "https://localhost:8080/"
        },
        "id": "LnWfF-pTYb9V",
        "outputId": "170942d4-eba0-44dd-d106-e45404b87467"
      },
      "execution_count": null,
      "outputs": [
        {
          "output_type": "execute_result",
          "data": {
            "text/plain": [
              "24"
            ]
          },
          "metadata": {},
          "execution_count": 15
        }
      ]
    },
    {
      "cell_type": "code",
      "source": [
        "x = soma(5, 9)\n",
        "print(x)"
      ],
      "metadata": {
        "colab": {
          "base_uri": "https://localhost:8080/"
        },
        "id": "as9A9ABuYjDe",
        "outputId": "885d0cc1-8e76-4f6c-85d6-5d89f34184f8"
      },
      "execution_count": null,
      "outputs": [
        {
          "output_type": "stream",
          "name": "stdout",
          "text": [
            "14\n"
          ]
        }
      ]
    },
    {
      "cell_type": "code",
      "source": [
        "def calcula_energia_potencial_gravitacional(m, h, g = 10):\n",
        "    '''\n",
        "    Calcula a energia potencial gravitacional\n",
        "    Argumentos:\n",
        "    m: massa, entrada como uma variável float\n",
        "    h: altura, entrada como uma variável float\n",
        "\n",
        "    Argumento opcional:\n",
        "    g: aceleração gravitacional, com valor default de 10\n",
        "    '''\n",
        "    e = g * m * h\n",
        "    return e"
      ],
      "metadata": {
        "id": "CM0H8MGaYoOu"
      },
      "execution_count": null,
      "outputs": []
    },
    {
      "cell_type": "code",
      "source": [
        "calcula_energia_potencial_gravitacional(30, 14)"
      ],
      "metadata": {
        "colab": {
          "base_uri": "https://localhost:8080/"
        },
        "id": "-y1VwogaY_6k",
        "outputId": "4fa39dfe-354b-4e6b-9062-71e31fcc8547"
      },
      "execution_count": null,
      "outputs": [
        {
          "output_type": "execute_result",
          "data": {
            "text/plain": [
              "4200"
            ]
          },
          "metadata": {},
          "execution_count": 18
        }
      ]
    },
    {
      "cell_type": "code",
      "source": [
        "calcula_energia_potencial_gravitacional(30, 12, 9.4)"
      ],
      "metadata": {
        "colab": {
          "base_uri": "https://localhost:8080/"
        },
        "id": "ZRPWSDvCZDqP",
        "outputId": "7e9490e7-00f5-4454-a5d9-989ac67f369b"
      },
      "execution_count": null,
      "outputs": [
        {
          "output_type": "execute_result",
          "data": {
            "text/plain": [
              "3384.0"
            ]
          },
          "metadata": {},
          "execution_count": 19
        }
      ]
    },
    {
      "cell_type": "code",
      "source": [
        "help(calcula_energia_potencial_gravitacional)"
      ],
      "metadata": {
        "colab": {
          "base_uri": "https://localhost:8080/"
        },
        "id": "JU4pFdTBZMEr",
        "outputId": "d7cf278e-4cef-45ae-fa65-ac33fcd05575"
      },
      "execution_count": null,
      "outputs": [
        {
          "output_type": "stream",
          "name": "stdout",
          "text": [
            "Help on function calcula_energia_potencial_gravitacional in module __main__:\n",
            "\n",
            "calcula_energia_potencial_gravitacional(m, h, g=10)\n",
            "    Calcula a energia potencial gravitacional\n",
            "    Argumentos:\n",
            "    m: massa, entrada como uma variável float\n",
            "    h: altura, entrada como uma variável float\n",
            "    \n",
            "    Argumento opcional:\n",
            "    g: aceleração gravitacional, com valor default de 10\n",
            "\n"
          ]
        }
      ]
    },
    {
      "cell_type": "markdown",
      "source": [
        "# Exercícios\n",
        "\n",
        "1. Ler uma temperatura em graus Celsius e apresentá-la convertida em graus Fahrenheit. \n",
        "A fórmula de conversão é F = (9 * C + 160) / 5, na qual F é a temperatura em Fahrenheit e C é a temperatura em graus Celsius\n",
        "  - Função para ler e retorna o valor da temperatura (não recebe parâmetro)\n",
        "  - Função para fazer o cálculo (recebe como parâmetro a temperatura em graus Celsius)\n",
        "  - Função para mostrar o resultado, recebendo como parâmetro o valor e fazendo a impressão\n",
        "\n",
        "\n",
        "\n",
        "\n",
        "2. Efetuar o cálculo da quantidade de litros de combustível gasto em uma viagem, utilizando um automóvel que faz 15 Km por litro. Para obter o cálculo, o usuário deve fornecer o tempo gasto na viagem e a velocidade média durante ela. Desta forma, será possível obter a distância percorrida com a fórmula DISTANCIA = TEMPO * VELOCIDADE. Tendo o valor da distância, basta calcular a quantidade de litros de combustível utilizada na viagem, com a fórmula: LITROS_USADOS = DISTANCIA / 15. O programa deve apresentar os valores da velocidade média, tempo gasto na viagem, a distância percorrida e a quantidade de litros utilizada na viagem\n",
        "  - Função para ler os valores (não recebe parâmetro e retorna os dois valores)\n",
        "  - Função para calcular a distância (recebe como parâmetro o tempo e a velocidade e retorna a distância)\n",
        "  - Função para calcular a quantidade de litros (recebe como parâmetro a distância e retorna os litros)\n",
        "  - Função para apresentar o resultado (recebe como parâmetro os valores e somente imprime o resultado)"
      ],
      "metadata": {
        "id": "jix-g2eGZRJK"
      }
    },
    {
      "cell_type": "markdown",
      "source": [
        "## Resolução do Ex. 1"
      ],
      "metadata": {
        "id": "TOtMMC9v_3GC"
      }
    },
    {
      "cell_type": "code",
      "source": [
        "def ler_temperatura():\n",
        "  temperatura = float(input('Informe a temperatura em grau Celsius: '))\n",
        "  return temperatura"
      ],
      "metadata": {
        "id": "15fKOevx__v-"
      },
      "execution_count": null,
      "outputs": []
    },
    {
      "cell_type": "code",
      "source": [
        "def converte_celsius_fahrenheit(temperatura_c):\n",
        "  temperatura_f = (9 * temperatura_c + 160) / 5\n",
        "  return temperatura_f"
      ],
      "metadata": {
        "id": "fQsJAoOkAtrR"
      },
      "execution_count": null,
      "outputs": []
    },
    {
      "cell_type": "code",
      "source": [
        "def mostrar_resultado(temperatura_c, temperatura_f):\n",
        "  print(f'A temperatura de {temperatura_c}ºC é o mesmo que a {temperatura_f}ºF')"
      ],
      "metadata": {
        "id": "GTLaRdpkBMOc"
      },
      "execution_count": null,
      "outputs": []
    },
    {
      "cell_type": "code",
      "source": [
        "temperatura_c = ler_temperatura()\n",
        "temperatura_f = converte_celsius_fahrenheit(temperatura_c)\n",
        "mostrar_resultado(temperatura_c, temperatura_f)"
      ],
      "metadata": {
        "colab": {
          "base_uri": "https://localhost:8080/"
        },
        "id": "RyOPTwm3BcvM",
        "outputId": "b9f84951-afe5-483d-eadb-ce6cc0c6185e"
      },
      "execution_count": null,
      "outputs": [
        {
          "output_type": "stream",
          "name": "stdout",
          "text": [
            "Informe a temperatura em grau Celsius: 22\n",
            "A temperatura de 22.0ºC é o mesmo que a 71.6ºF\n"
          ]
        }
      ]
    },
    {
      "cell_type": "markdown",
      "source": [
        "## Resolução do Ex. 2\n"
      ],
      "metadata": {
        "id": "-4lQD-ra_6iY"
      }
    },
    {
      "cell_type": "code",
      "source": [
        "def leitura_dados():\n",
        "  tempo = float(input('Informe o tempo de viagem: '))\n",
        "  velocidade = float(input('Informe a velocidade média da viagem: '))\n",
        "  return tempo, velocidade"
      ],
      "metadata": {
        "id": "8Fz3nGR5DLyn"
      },
      "execution_count": null,
      "outputs": []
    },
    {
      "cell_type": "code",
      "source": [
        "def calcula_distancia(tempo, velocidade):\n",
        "  return tempo * velocidade"
      ],
      "metadata": {
        "id": "Rk1J3MmADo4T"
      },
      "execution_count": null,
      "outputs": []
    },
    {
      "cell_type": "code",
      "source": [
        "def calcula_qtd_litros(distancia):\n",
        "  return distancia / 15"
      ],
      "metadata": {
        "id": "hNmCpjP3D0zl"
      },
      "execution_count": null,
      "outputs": []
    },
    {
      "cell_type": "code",
      "source": [
        "def mostra_resultados(velocidade, tempo, distancia, qtd_litros):\n",
        "  print(f'A velocidade média foi de {velocidade}Km/h')\n",
        "  print(f'O tempo médio de viagem foi de {tempo}h')\n",
        "  print(f'A distância percorrida foi de {distancia}Km')\n",
        "  print(f'A quantidade de litros de combustível utilizado foi de {qtd_litros}L')"
      ],
      "metadata": {
        "id": "y8cemVUvECgq"
      },
      "execution_count": null,
      "outputs": []
    },
    {
      "cell_type": "code",
      "source": [
        "temp, velo = leitura_dados()\n",
        "d = calcula_distancia(temp, velo)\n",
        "l = calcula_qtd_litros(d)\n",
        "mostra_resultados(velo, temp, d, l)"
      ],
      "metadata": {
        "colab": {
          "base_uri": "https://localhost:8080/"
        },
        "id": "dbkDXx56E0YF",
        "outputId": "7b2c8fac-73e8-49f5-8412-bb3856faaf5f"
      },
      "execution_count": null,
      "outputs": [
        {
          "output_type": "stream",
          "name": "stdout",
          "text": [
            "Informe o tempo de viagem: 2\n",
            "Informe a velocidade média da viagem: 120\n",
            "A velocidade média foi de 120.0Km/h\n",
            "O tempo médio de viagem foi de 2.0h\n",
            "A distância percorrida foi de 240.0Km\n",
            "A quantidade de litros de combustível utilizado foi de 16.0L\n"
          ]
        }
      ]
    }
  ]
}