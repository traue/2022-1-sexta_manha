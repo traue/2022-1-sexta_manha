{
  "nbformat": 4,
  "nbformat_minor": 0,
  "metadata": {
    "colab": {
      "name": "7 - Coleções.ipynb",
      "provenance": [],
      "collapsed_sections": [
        "EPfN8YU6SwKE",
        "FqzEKe6iU7jF"
      ]
    },
    "kernelspec": {
      "name": "python3",
      "display_name": "Python 3"
    },
    "language_info": {
      "name": "python"
    }
  },
  "cells": [
    {
      "cell_type": "markdown",
      "source": [
        "# Coleções"
      ],
      "metadata": {
        "id": "5boV1dscRbBW"
      }
    },
    {
      "cell_type": "markdown",
      "source": [
        "## Listas:"
      ],
      "metadata": {
        "id": "EPfN8YU6SwKE"
      }
    },
    {
      "cell_type": "code",
      "source": [
        "compras = ['Banana', 'Leite', 'Maçã', 'Chocolate']\n",
        "nomes = ['Thiago', 'Guilherme', 'Giovane', 'Larissa', 'Giovana', 'Edilson', 'Diego']"
      ],
      "metadata": {
        "id": "p1tm6fvXSx76"
      },
      "execution_count": 26,
      "outputs": []
    },
    {
      "cell_type": "code",
      "source": [
        "print(compras)\n",
        "print(nomes)"
      ],
      "metadata": {
        "colab": {
          "base_uri": "https://localhost:8080/"
        },
        "id": "mhdOCDzkTHdj",
        "outputId": "47c31d8f-3d0f-4e4a-afb2-6df09c71ce6c"
      },
      "execution_count": 27,
      "outputs": [
        {
          "output_type": "stream",
          "name": "stdout",
          "text": [
            "['Banana', 'Leite', 'Maçã', 'Chocolate']\n",
            "['Thiago', 'Guilherme', 'Giovane', 'Larissa', 'Giovana', 'Edilson', 'Diego']\n"
          ]
        }
      ]
    },
    {
      "cell_type": "code",
      "source": [
        "lista_maluca = compras + nomes\n",
        "print(lista_maluca)"
      ],
      "metadata": {
        "colab": {
          "base_uri": "https://localhost:8080/"
        },
        "id": "KfIIh2aHTNLH",
        "outputId": "c5f0f486-e232-4920-a9dd-bea2f9a6e2e4"
      },
      "execution_count": 28,
      "outputs": [
        {
          "output_type": "stream",
          "name": "stdout",
          "text": [
            "['Banana', 'Leite', 'Maçã', 'Chocolate', 'Thiago', 'Guilherme', 'Giovane', 'Larissa', 'Giovana', 'Edilson', 'Diego']\n"
          ]
        }
      ]
    },
    {
      "cell_type": "code",
      "source": [
        "print(nomes * 2)"
      ],
      "metadata": {
        "colab": {
          "base_uri": "https://localhost:8080/"
        },
        "id": "UonBzmtyTVeJ",
        "outputId": "0a59e4e5-ac4e-4bd5-9494-036a198c766f"
      },
      "execution_count": 29,
      "outputs": [
        {
          "output_type": "stream",
          "name": "stdout",
          "text": [
            "['Thiago', 'Guilherme', 'Giovane', 'Larissa', 'Giovana', 'Edilson', 'Diego', 'Thiago', 'Guilherme', 'Giovane', 'Larissa', 'Giovana', 'Edilson', 'Diego']\n"
          ]
        }
      ]
    },
    {
      "cell_type": "code",
      "source": [
        "print(compras[2:4])"
      ],
      "metadata": {
        "colab": {
          "base_uri": "https://localhost:8080/"
        },
        "id": "j_KMT9mATgnL",
        "outputId": "6ddfac82-6828-4efa-86e0-d2f8268674bb"
      },
      "execution_count": 30,
      "outputs": [
        {
          "output_type": "stream",
          "name": "stdout",
          "text": [
            "['Maçã', 'Chocolate']\n"
          ]
        }
      ]
    },
    {
      "cell_type": "code",
      "source": [
        "compras.append('Nutella')\n",
        "print(compras)"
      ],
      "metadata": {
        "colab": {
          "base_uri": "https://localhost:8080/"
        },
        "id": "VQsI4PaoTwwB",
        "outputId": "45ae4c6c-ccda-46cc-eeeb-4833ac188e0c"
      },
      "execution_count": 31,
      "outputs": [
        {
          "output_type": "stream",
          "name": "stdout",
          "text": [
            "['Banana', 'Leite', 'Maçã', 'Chocolate', 'Nutella']\n"
          ]
        }
      ]
    },
    {
      "cell_type": "code",
      "source": [
        "compras.remove('Chocolate')\n",
        "print(compras)"
      ],
      "metadata": {
        "colab": {
          "base_uri": "https://localhost:8080/"
        },
        "id": "VMBi9WdLT4PM",
        "outputId": "101ceac1-ce7a-4d4a-aa16-cefbff5849ea"
      },
      "execution_count": 32,
      "outputs": [
        {
          "output_type": "stream",
          "name": "stdout",
          "text": [
            "['Banana', 'Leite', 'Maçã', 'Nutella']\n"
          ]
        }
      ]
    },
    {
      "cell_type": "code",
      "source": [
        "del(lista_maluca) #tira da memória a lista\n",
        "#print(lista_maluca)"
      ],
      "metadata": {
        "id": "4zbTMqkUUQrU"
      },
      "execution_count": 33,
      "outputs": []
    },
    {
      "cell_type": "code",
      "source": [
        "for item in compras:\n",
        "  print(f'Preciso comprrar: {item}')"
      ],
      "metadata": {
        "colab": {
          "base_uri": "https://localhost:8080/"
        },
        "id": "I-H_FzqMUhqR",
        "outputId": "b722024c-2e74-401c-8012-ddbb0c2cf091"
      },
      "execution_count": 34,
      "outputs": [
        {
          "output_type": "stream",
          "name": "stdout",
          "text": [
            "Preciso comprrar: Banana\n",
            "Preciso comprrar: Leite\n",
            "Preciso comprrar: Maçã\n",
            "Preciso comprrar: Nutella\n"
          ]
        }
      ]
    },
    {
      "cell_type": "markdown",
      "source": [
        "## Mapas (dicionários)"
      ],
      "metadata": {
        "id": "FqzEKe6iU7jF"
      }
    },
    {
      "cell_type": "code",
      "source": [
        "estoque = {'Baterias': 8, 'Telas': 10, 'Câmeras': 9, 'Cabos': 3} #assim que se define um map em PY"
      ],
      "metadata": {
        "id": "iyVoJif6CjpK"
      },
      "execution_count": 35,
      "outputs": []
    },
    {
      "cell_type": "code",
      "source": [
        "print(estoque['Baterias'])"
      ],
      "metadata": {
        "colab": {
          "base_uri": "https://localhost:8080/"
        },
        "id": "S6ktefRcEG06",
        "outputId": "6bf0e9ef-a603-49d7-8ac5-0588f2472548"
      },
      "execution_count": 36,
      "outputs": [
        {
          "output_type": "stream",
          "name": "stdout",
          "text": [
            "8\n"
          ]
        }
      ]
    },
    {
      "cell_type": "code",
      "source": [
        "estoque['Placa'] = 20 #acrescenta na lista\n",
        "estoque['Baterias'] = 7 #atualiza um item existente"
      ],
      "metadata": {
        "id": "Te9LbOwIEezQ"
      },
      "execution_count": 37,
      "outputs": []
    },
    {
      "cell_type": "code",
      "source": [
        "print(estoque)"
      ],
      "metadata": {
        "colab": {
          "base_uri": "https://localhost:8080/"
        },
        "id": "CZ885h_7EqFI",
        "outputId": "8ad7bb82-9427-44e9-985d-ff9f9cd3422b"
      },
      "execution_count": 38,
      "outputs": [
        {
          "output_type": "stream",
          "name": "stdout",
          "text": [
            "{'Baterias': 7, 'Telas': 10, 'Câmeras': 9, 'Cabos': 3, 'Placa': 20}\n"
          ]
        }
      ]
    },
    {
      "cell_type": "code",
      "source": [
        "del(estoque['Câmeras'])\n",
        "print(estoque)"
      ],
      "metadata": {
        "colab": {
          "base_uri": "https://localhost:8080/"
        },
        "id": "NRYyRZg0EtFj",
        "outputId": "69608251-583b-4159-b016-8b0f7089e4ff"
      },
      "execution_count": 39,
      "outputs": [
        {
          "output_type": "stream",
          "name": "stdout",
          "text": [
            "{'Baterias': 7, 'Telas': 10, 'Cabos': 3, 'Placa': 20}\n"
          ]
        }
      ]
    },
    {
      "cell_type": "code",
      "source": [
        "print(estoque.items())"
      ],
      "metadata": {
        "colab": {
          "base_uri": "https://localhost:8080/"
        },
        "id": "wTOG1-IsFmP1",
        "outputId": "69a0d50c-485b-442b-ee55-b40a715a8c34"
      },
      "execution_count": 40,
      "outputs": [
        {
          "output_type": "stream",
          "name": "stdout",
          "text": [
            "dict_items([('Baterias', 7), ('Telas', 10), ('Cabos', 3), ('Placa', 20)])\n"
          ]
        }
      ]
    },
    {
      "cell_type": "code",
      "source": [
        "estoque.keys()"
      ],
      "metadata": {
        "colab": {
          "base_uri": "https://localhost:8080/"
        },
        "id": "t75lEr9zGene",
        "outputId": "3ad3de89-89bf-4fc9-b6d7-0dd46b50249b"
      },
      "execution_count": 41,
      "outputs": [
        {
          "output_type": "execute_result",
          "data": {
            "text/plain": [
              "dict_keys(['Baterias', 'Telas', 'Cabos', 'Placa'])"
            ]
          },
          "metadata": {},
          "execution_count": 41
        }
      ]
    },
    {
      "cell_type": "code",
      "source": [
        "estoque2 = {'Fones': 2, 'Protetores': 50, 'Baterias': 20}\n",
        "print(estoque)\n",
        "print(estoque2)"
      ],
      "metadata": {
        "colab": {
          "base_uri": "https://localhost:8080/"
        },
        "id": "O3ddT1W0Gofv",
        "outputId": "49815e70-1960-47a5-b1bb-833628e22d6e"
      },
      "execution_count": 42,
      "outputs": [
        {
          "output_type": "stream",
          "name": "stdout",
          "text": [
            "{'Baterias': 7, 'Telas': 10, 'Cabos': 3, 'Placa': 20}\n",
            "{'Fones': 2, 'Protetores': 50, 'Baterias': 20}\n"
          ]
        }
      ]
    },
    {
      "cell_type": "code",
      "source": [
        "estoque.update(estoque2) #cria itens que não existem e atualiza os existentes\n",
        "print(estoque)"
      ],
      "metadata": {
        "colab": {
          "base_uri": "https://localhost:8080/"
        },
        "id": "XWndtuesG9Gv",
        "outputId": "ea176e11-b7bb-42a3-c418-384c6003853f"
      },
      "execution_count": 43,
      "outputs": [
        {
          "output_type": "stream",
          "name": "stdout",
          "text": [
            "{'Baterias': 20, 'Telas': 10, 'Cabos': 3, 'Placa': 20, 'Fones': 2, 'Protetores': 50}\n"
          ]
        }
      ]
    },
    {
      "cell_type": "code",
      "source": [
        "estoque.items()"
      ],
      "metadata": {
        "colab": {
          "base_uri": "https://localhost:8080/"
        },
        "id": "2EuAdstsHRL0",
        "outputId": "213b36da-55b4-450e-bc8f-8cb635be6ad5"
      },
      "execution_count": 44,
      "outputs": [
        {
          "output_type": "execute_result",
          "data": {
            "text/plain": [
              "dict_items([('Baterias', 20), ('Telas', 10), ('Cabos', 3), ('Placa', 20), ('Fones', 2), ('Protetores', 50)])"
            ]
          },
          "metadata": {},
          "execution_count": 44
        }
      ]
    },
    {
      "cell_type": "code",
      "source": [
        "for material, num_itens in estoque.items():\n",
        "  print(f'Item em estoque \\'{material}\\' -> Quantidade: {num_itens}')"
      ],
      "metadata": {
        "id": "w61mpKw-ILpa",
        "colab": {
          "base_uri": "https://localhost:8080/"
        },
        "outputId": "b494c1fd-cd80-4968-eb21-7e74e05734da"
      },
      "execution_count": 45,
      "outputs": [
        {
          "output_type": "stream",
          "name": "stdout",
          "text": [
            "Item em estoque 'Baterias' -> Quantidade: 20\n",
            "Item em estoque 'Telas' -> Quantidade: 10\n",
            "Item em estoque 'Cabos' -> Quantidade: 3\n",
            "Item em estoque 'Placa' -> Quantidade: 20\n",
            "Item em estoque 'Fones' -> Quantidade: 2\n",
            "Item em estoque 'Protetores' -> Quantidade: 50\n"
          ]
        }
      ]
    },
    {
      "cell_type": "markdown",
      "source": [
        "## Sets (conjuntos)"
      ],
      "metadata": {
        "id": "IfE3SESZJohA"
      }
    },
    {
      "cell_type": "markdown",
      "source": [
        "Os sets são uma coleção de itens desordenados, parcialmente imutáveis e que não podem conter elementos duplicados (repetidos). \n",
        "\n",
        "Além disso, os SETS são utilizados, normalmente, com operações matemáticas como da lógica de conjuntos: união, interseção e diferença simétrica"
      ],
      "metadata": {
        "id": "1DE5IToAJxlb"
      }
    },
    {
      "cell_type": "code",
      "source": [
        "#tupla:\n",
        "biomoleculas = ('ácido nucleioco', 'carboidrato', 'proteina', 'lipídeo', \n",
        "                'carboidrato', 'lipídeo')"
      ],
      "metadata": {
        "id": "pNniBalxJtRq"
      },
      "execution_count": 46,
      "outputs": []
    },
    {
      "cell_type": "code",
      "source": [
        "print(biomoleculas[4])"
      ],
      "metadata": {
        "colab": {
          "base_uri": "https://localhost:8080/"
        },
        "id": "k_r-qdUuLVU2",
        "outputId": "3a85bb2b-cad5-426a-8b9d-75e42c7f118a"
      },
      "execution_count": 53,
      "outputs": [
        {
          "output_type": "stream",
          "name": "stdout",
          "text": [
            "carboidrato\n"
          ]
        }
      ]
    },
    {
      "cell_type": "code",
      "source": [
        "print(biomoleculas)"
      ],
      "metadata": {
        "colab": {
          "base_uri": "https://localhost:8080/"
        },
        "id": "Qu-UFUPHLBx0",
        "outputId": "e576d4ae-f551-49a3-ef94-4169720b157c"
      },
      "execution_count": 47,
      "outputs": [
        {
          "output_type": "stream",
          "name": "stdout",
          "text": [
            "('ácido nucleioco', 'carboidrato', 'proteina', 'lipídeo', 'carboidrato', 'lipídeo')\n"
          ]
        }
      ]
    },
    {
      "cell_type": "code",
      "source": [
        "x = set(biomoleculas)\n",
        "print(x)"
      ],
      "metadata": {
        "colab": {
          "base_uri": "https://localhost:8080/"
        },
        "id": "b3AgQgpALItD",
        "outputId": "38a1640b-06cd-43f5-e2fd-ec7c53058c00"
      },
      "execution_count": 54,
      "outputs": [
        {
          "output_type": "stream",
          "name": "stdout",
          "text": [
            "{'ácido nucleioco', 'carboidrato', 'lipídeo', 'proteina'}\n"
          ]
        }
      ]
    },
    {
      "cell_type": "code",
      "source": [
        "c1 = {1, 2, 3, 4, 5}\n",
        "c2 = {3, 4, 5, 6, 7}\n",
        "\n",
        "c3 = c1.intersection(c2)"
      ],
      "metadata": {
        "id": "_54iaNuOLl71"
      },
      "execution_count": 55,
      "outputs": []
    },
    {
      "cell_type": "code",
      "source": [
        "print(c1)\n",
        "print(c2)\n",
        "print(c3)"
      ],
      "metadata": {
        "colab": {
          "base_uri": "https://localhost:8080/"
        },
        "id": "O01cJjkCLxIR",
        "outputId": "213c71c9-26c9-44d6-f46e-1ef0b4255031"
      },
      "execution_count": 56,
      "outputs": [
        {
          "output_type": "stream",
          "name": "stdout",
          "text": [
            "{1, 2, 3, 4, 5}\n",
            "{3, 4, 5, 6, 7}\n",
            "{3, 4, 5}\n"
          ]
        }
      ]
    },
    {
      "cell_type": "code",
      "source": [
        "c4 = c1.difference(c2)\n",
        "print(c4)"
      ],
      "metadata": {
        "colab": {
          "base_uri": "https://localhost:8080/"
        },
        "id": "-ugFpn-VL3WH",
        "outputId": "646ff53d-9211-48f9-f588-4f11cc9ed957"
      },
      "execution_count": 57,
      "outputs": [
        {
          "output_type": "stream",
          "name": "stdout",
          "text": [
            "{1, 2}\n"
          ]
        }
      ]
    },
    {
      "cell_type": "code",
      "source": [
        "c5 = c2.difference(c1)\n",
        "print(c5)"
      ],
      "metadata": {
        "colab": {
          "base_uri": "https://localhost:8080/"
        },
        "id": "VvXAPhX5L-N9",
        "outputId": "fe9afcf5-57f5-4827-841b-573f9145ffb1"
      },
      "execution_count": 58,
      "outputs": [
        {
          "output_type": "stream",
          "name": "stdout",
          "text": [
            "{6, 7}\n"
          ]
        }
      ]
    }
  ]
}