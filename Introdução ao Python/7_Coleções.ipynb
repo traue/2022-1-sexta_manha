{
  "nbformat": 4,
  "nbformat_minor": 0,
  "metadata": {
    "colab": {
      "name": "7 - Coleções.ipynb",
      "provenance": [],
      "collapsed_sections": [],
      "toc_visible": true
    },
    "kernelspec": {
      "name": "python3",
      "display_name": "Python 3"
    },
    "language_info": {
      "name": "python"
    }
  },
  "cells": [
    {
      "cell_type": "markdown",
      "source": [
        "# Coleções"
      ],
      "metadata": {
        "id": "5boV1dscRbBW"
      }
    },
    {
      "cell_type": "markdown",
      "source": [
        "## Listas:"
      ],
      "metadata": {
        "id": "EPfN8YU6SwKE"
      }
    },
    {
      "cell_type": "code",
      "source": [
        "compras = ['Banana', 'Leite', 'Maçã', 'Chocolate']\n",
        "nomes = ['Thiago', 'Guilherme', 'Giovane', 'Larissa', 'Giovana']"
      ],
      "metadata": {
        "id": "p1tm6fvXSx76"
      },
      "execution_count": 15,
      "outputs": []
    },
    {
      "cell_type": "code",
      "source": [
        "print(compras)\n",
        "print(nomes)"
      ],
      "metadata": {
        "colab": {
          "base_uri": "https://localhost:8080/"
        },
        "id": "mhdOCDzkTHdj",
        "outputId": "d72d7f0c-339d-48bb-d5b6-c04ef25e632b"
      },
      "execution_count": 16,
      "outputs": [
        {
          "output_type": "stream",
          "name": "stdout",
          "text": [
            "['Banana', 'Leite', 'Maçã', 'Chocolate']\n",
            "['Thiago', 'Guilherme', 'Giovane', 'Larissa', 'Giovana']\n"
          ]
        }
      ]
    },
    {
      "cell_type": "code",
      "source": [
        "lista_maluca = compras + nomes\n",
        "print(lista_maluca)"
      ],
      "metadata": {
        "colab": {
          "base_uri": "https://localhost:8080/"
        },
        "id": "KfIIh2aHTNLH",
        "outputId": "431562b1-263f-436d-ff16-271ca9fdb7f1"
      },
      "execution_count": 27,
      "outputs": [
        {
          "output_type": "stream",
          "name": "stdout",
          "text": [
            "['Banana', 'Leite', 'Maçã', 'Nutella', 'Thiago', 'Guilherme', 'Giovane', 'Larissa', 'Giovana']\n"
          ]
        }
      ]
    },
    {
      "cell_type": "code",
      "source": [
        "print(nomes * 2)"
      ],
      "metadata": {
        "colab": {
          "base_uri": "https://localhost:8080/"
        },
        "id": "UonBzmtyTVeJ",
        "outputId": "874c2d52-d37b-4115-9dab-49e3ca76c605"
      },
      "execution_count": 18,
      "outputs": [
        {
          "output_type": "stream",
          "name": "stdout",
          "text": [
            "['Thiago', 'Guilherme', 'Giovane', 'Larissa', 'Giovana', 'Thiago', 'Guilherme', 'Giovane', 'Larissa', 'Giovana']\n"
          ]
        }
      ]
    },
    {
      "cell_type": "code",
      "source": [
        "print(compras[1:3])"
      ],
      "metadata": {
        "colab": {
          "base_uri": "https://localhost:8080/"
        },
        "id": "j_KMT9mATgnL",
        "outputId": "1f81f923-33c3-4993-f41b-7023cad8362e"
      },
      "execution_count": 19,
      "outputs": [
        {
          "output_type": "stream",
          "name": "stdout",
          "text": [
            "['Leite', 'Maçã']\n"
          ]
        }
      ]
    },
    {
      "cell_type": "code",
      "source": [
        "compras.append('Nutella')\n",
        "print(compras)"
      ],
      "metadata": {
        "colab": {
          "base_uri": "https://localhost:8080/"
        },
        "id": "VQsI4PaoTwwB",
        "outputId": "5e1c3733-585f-47fb-e8a4-53e599b08ad4"
      },
      "execution_count": 20,
      "outputs": [
        {
          "output_type": "stream",
          "name": "stdout",
          "text": [
            "['Banana', 'Leite', 'Maçã', 'Chocolate', 'Nutella']\n"
          ]
        }
      ]
    },
    {
      "cell_type": "code",
      "source": [
        "compras.remove('Chocolate')\n",
        "print(compras)"
      ],
      "metadata": {
        "colab": {
          "base_uri": "https://localhost:8080/"
        },
        "id": "VMBi9WdLT4PM",
        "outputId": "548e0883-e786-4947-ba34-5455ae3a13d7"
      },
      "execution_count": 21,
      "outputs": [
        {
          "output_type": "stream",
          "name": "stdout",
          "text": [
            "['Banana', 'Leite', 'Maçã', 'Nutella']\n"
          ]
        }
      ]
    },
    {
      "cell_type": "code",
      "source": [
        "del(lista_maluca) #tira da memória a lista\n",
        "#print(lista_maluca)"
      ],
      "metadata": {
        "id": "4zbTMqkUUQrU"
      },
      "execution_count": 28,
      "outputs": []
    },
    {
      "cell_type": "code",
      "source": [
        "for item in compras:\n",
        "  print(f'Preciso comprrar: {item}')"
      ],
      "metadata": {
        "colab": {
          "base_uri": "https://localhost:8080/"
        },
        "id": "I-H_FzqMUhqR",
        "outputId": "8a910ce9-07e3-4afe-e1f4-e35fe7bb81bf"
      },
      "execution_count": 29,
      "outputs": [
        {
          "output_type": "stream",
          "name": "stdout",
          "text": [
            "Preciso comprrar: Banana\n",
            "Preciso comprrar: Leite\n",
            "Preciso comprrar: Maçã\n",
            "Preciso comprrar: Nutella\n"
          ]
        }
      ]
    },
    {
      "cell_type": "markdown",
      "source": [
        "# Mapas (dicionários)"
      ],
      "metadata": {
        "id": "FqzEKe6iU7jF"
      }
    },
    {
      "cell_type": "markdown",
      "source": [
        "#paramos aqui"
      ],
      "metadata": {
        "id": "zf1nq8qsU_0y"
      }
    }
  ]
}