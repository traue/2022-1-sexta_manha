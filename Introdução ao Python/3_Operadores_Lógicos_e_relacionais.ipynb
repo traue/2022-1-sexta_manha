{
  "nbformat": 4,
  "nbformat_minor": 0,
  "metadata": {
    "colab": {
      "name": "3 - Operadores Lógicos e relacionais.ipynb",
      "provenance": []
    },
    "kernelspec": {
      "name": "python3",
      "display_name": "Python 3"
    },
    "language_info": {
      "name": "python"
    }
  },
  "cells": [
    {
      "cell_type": "markdown",
      "source": [
        "# Operadores Lógicos"
      ],
      "metadata": {
        "id": "T4OaJGDQ8gsF"
      }
    },
    {
      "cell_type": "code",
      "source": [
        "a = False\n",
        "b = True"
      ],
      "metadata": {
        "id": "cAKpZwMr9xZi"
      },
      "execution_count": 19,
      "outputs": []
    },
    {
      "cell_type": "code",
      "source": [
        "print(f'A vairável a é {a} e a variável b é {b}')"
      ],
      "metadata": {
        "colab": {
          "base_uri": "https://localhost:8080/"
        },
        "id": "NGXrS7me9_kA",
        "outputId": "1b60f046-0861-4107-ac0b-d45f063f1bd6"
      },
      "execution_count": 10,
      "outputs": [
        {
          "output_type": "stream",
          "name": "stdout",
          "text": [
            "A vairável a é True e a variável b é False\n"
          ]
        }
      ]
    },
    {
      "cell_type": "code",
      "source": [
        "c = a and b\n",
        "print(c)"
      ],
      "metadata": {
        "colab": {
          "base_uri": "https://localhost:8080/"
        },
        "id": "poHQNi3L-JRn",
        "outputId": "eb9d0f8d-3bcc-440e-823a-1a387e796a2a"
      },
      "execution_count": 11,
      "outputs": [
        {
          "output_type": "stream",
          "name": "stdout",
          "text": [
            "False\n"
          ]
        }
      ]
    },
    {
      "cell_type": "code",
      "source": [
        "c = a & b #é o mesmo que \"and\" apenas uma notação diferente\n",
        "print(c)"
      ],
      "metadata": {
        "colab": {
          "base_uri": "https://localhost:8080/"
        },
        "id": "b3Qtq9zv-YGC",
        "outputId": "729d74a4-1334-4464-ff29-983e0886f3ae"
      },
      "execution_count": 12,
      "outputs": [
        {
          "output_type": "stream",
          "name": "stdout",
          "text": [
            "False\n"
          ]
        }
      ]
    },
    {
      "cell_type": "code",
      "source": [
        "d = a or b\n",
        "print(d)"
      ],
      "metadata": {
        "colab": {
          "base_uri": "https://localhost:8080/"
        },
        "id": "s94JKdcN-mxV",
        "outputId": "7691a96e-cc8f-4e19-94f5-e377ce0c797d"
      },
      "execution_count": 18,
      "outputs": [
        {
          "output_type": "stream",
          "name": "stdout",
          "text": [
            "False\n"
          ]
        }
      ]
    },
    {
      "cell_type": "code",
      "source": [
        "e = not a\n",
        "print(e)"
      ],
      "metadata": {
        "colab": {
          "base_uri": "https://localhost:8080/"
        },
        "id": "7E2m3gAx-xj6",
        "outputId": "82d45bea-1590-445d-9727-9df52bb12097"
      },
      "execution_count": 20,
      "outputs": [
        {
          "output_type": "stream",
          "name": "stdout",
          "text": [
            "True\n"
          ]
        }
      ]
    },
    {
      "cell_type": "markdown",
      "source": [
        "# Operadores relacionais"
      ],
      "metadata": {
        "id": "B5whCZoW-85d"
      }
    },
    {
      "cell_type": "code",
      "source": [
        "#variáveis\n",
        "x = 10\n",
        "y = 20\n",
        "z = 10"
      ],
      "metadata": {
        "id": "ZLf4jZ1q_Azs"
      },
      "execution_count": 21,
      "outputs": []
    },
    {
      "cell_type": "code",
      "source": [
        "print(x > y)"
      ],
      "metadata": {
        "colab": {
          "base_uri": "https://localhost:8080/"
        },
        "id": "pfVRU2hZ_IzZ",
        "outputId": "edc104e9-be62-4207-d57c-775c7383437a"
      },
      "execution_count": 22,
      "outputs": [
        {
          "output_type": "stream",
          "name": "stdout",
          "text": [
            "False\n"
          ]
        }
      ]
    },
    {
      "cell_type": "code",
      "source": [
        "print(x < y)"
      ],
      "metadata": {
        "colab": {
          "base_uri": "https://localhost:8080/"
        },
        "id": "THSgBgiZ_UEf",
        "outputId": "a88e1714-059a-44d8-a8cc-02565dd23eed"
      },
      "execution_count": 23,
      "outputs": [
        {
          "output_type": "stream",
          "name": "stdout",
          "text": [
            "True\n"
          ]
        }
      ]
    },
    {
      "cell_type": "code",
      "source": [
        "print(x >= z)"
      ],
      "metadata": {
        "colab": {
          "base_uri": "https://localhost:8080/"
        },
        "id": "s7EzwvkB_YJr",
        "outputId": "df4932eb-3f10-48fb-b52c-5e6f443464b9"
      },
      "execution_count": 25,
      "outputs": [
        {
          "output_type": "stream",
          "name": "stdout",
          "text": [
            "True\n"
          ]
        }
      ]
    },
    {
      "cell_type": "code",
      "source": [
        "print(x == y)\n",
        "print(x == z)"
      ],
      "metadata": {
        "colab": {
          "base_uri": "https://localhost:8080/"
        },
        "id": "Qby5loa6_hz3",
        "outputId": "39b42a49-bb4f-408b-a703-bf13a1efbc6e"
      },
      "execution_count": 26,
      "outputs": [
        {
          "output_type": "stream",
          "name": "stdout",
          "text": [
            "False\n",
            "True\n"
          ]
        }
      ]
    },
    {
      "cell_type": "code",
      "source": [
        "print(x != y)\n",
        "print(x != z)"
      ],
      "metadata": {
        "colab": {
          "base_uri": "https://localhost:8080/"
        },
        "id": "4ajMthX7_oUW",
        "outputId": "c67173e6-3867-4653-c8dd-d4a5b48024a1"
      },
      "execution_count": 27,
      "outputs": [
        {
          "output_type": "stream",
          "name": "stdout",
          "text": [
            "True\n",
            "False\n"
          ]
        }
      ]
    }
  ]
}