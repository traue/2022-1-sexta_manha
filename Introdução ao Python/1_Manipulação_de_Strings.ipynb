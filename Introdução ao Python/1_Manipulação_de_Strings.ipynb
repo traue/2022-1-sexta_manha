{
  "nbformat": 4,
  "nbformat_minor": 0,
  "metadata": {
    "colab": {
      "name": "1 - Manipulação de Strings.ipynb",
      "provenance": [],
      "collapsed_sections": []
    },
    "kernelspec": {
      "name": "python3",
      "display_name": "Python 3"
    },
    "language_info": {
      "name": "python"
    }
  },
  "cells": [
    {
      "cell_type": "markdown",
      "source": [
        "# Manipulando Strings"
      ],
      "metadata": {
        "id": "x0BFLrK47mey"
      }
    },
    {
      "cell_type": "code",
      "source": [
        "a = 'pato é legal'\n",
        "b = 'azul'\n",
        "c = 'black'\n",
        "\n",
        "print(a)\n",
        "print(b)\n",
        "print(c)"
      ],
      "metadata": {
        "colab": {
          "base_uri": "https://localhost:8080/"
        },
        "id": "dKt7y28Q71YS",
        "outputId": "11d4693c-16f4-4ebb-e718-86d93e40be54"
      },
      "execution_count": 11,
      "outputs": [
        {
          "output_type": "stream",
          "name": "stdout",
          "text": [
            "pato é legal\n",
            "azul\n",
            "black\n"
          ]
        }
      ]
    },
    {
      "cell_type": "code",
      "source": [
        "maiuscula_a = a.upper() #deixa toda a cadeia com caracteres maiúsculos\n",
        "maiuscula_b = b.upper()\n",
        "maiuscula_c = c.upper()\n",
        "\n",
        "print(maiuscula_a)\n",
        "print(maiuscula_b)\n",
        "print(maiuscula_c)"
      ],
      "metadata": {
        "colab": {
          "base_uri": "https://localhost:8080/"
        },
        "id": "py9CuYUe8dUC",
        "outputId": "c5deb0a4-da61-4a2e-9b6a-d7c7f54e2e1a"
      },
      "execution_count": 12,
      "outputs": [
        {
          "output_type": "stream",
          "name": "stdout",
          "text": [
            "PATO É LEGAL\n",
            "AZUL\n",
            "BLACK\n"
          ]
        }
      ]
    },
    {
      "cell_type": "code",
      "source": [
        "capitalizado_a = a.capitalize() #coloca a primeira letra em maiúscula de uma string\n",
        "print(capitalizado_a)"
      ],
      "metadata": {
        "colab": {
          "base_uri": "https://localhost:8080/"
        },
        "id": "ChfPrmTH9CxQ",
        "outputId": "233c9d43-1ea4-4a12-b8fc-0add33892e12"
      },
      "execution_count": 13,
      "outputs": [
        {
          "output_type": "stream",
          "name": "stdout",
          "text": [
            "Pato é legal\n"
          ]
        }
      ]
    },
    {
      "cell_type": "code",
      "source": [
        "minuscula = maiuscula_a.lower() #deixa toda a cadeia com caracteres minusculos\n",
        "print(minuscula)"
      ],
      "metadata": {
        "colab": {
          "base_uri": "https://localhost:8080/"
        },
        "id": "bADBCnr59bjh",
        "outputId": "9ad9cb21-0185-4b01-f243-c5dbd6ba3386"
      },
      "execution_count": 14,
      "outputs": [
        {
          "output_type": "stream",
          "name": "stdout",
          "text": [
            "pato é legal\n"
          ]
        }
      ]
    },
    {
      "cell_type": "code",
      "source": [
        "metade_a = a[0:8]\n",
        "print(metade_a)"
      ],
      "metadata": {
        "colab": {
          "base_uri": "https://localhost:8080/"
        },
        "id": "-i20JG8299C2",
        "outputId": "d8587681-f1a2-44cb-e45d-7dbeb8ab2dae"
      },
      "execution_count": 21,
      "outputs": [
        {
          "output_type": "stream",
          "name": "stdout",
          "text": [
            "pato é l\n"
          ]
        }
      ]
    },
    {
      "cell_type": "code",
      "source": [
        "ultimas_letras = a[6:]\n",
        "print(ultimas_letras)\n",
        "\n",
        "print(a[0:6], ultimas_letras.upper())"
      ],
      "metadata": {
        "colab": {
          "base_uri": "https://localhost:8080/"
        },
        "id": "WAfGMcIn-t14",
        "outputId": "1005b5a1-a60e-49b0-a79e-add7b9f39801"
      },
      "execution_count": 25,
      "outputs": [
        {
          "output_type": "stream",
          "name": "stdout",
          "text": [
            " legal\n",
            "pato é  LEGAL\n"
          ]
        }
      ]
    },
    {
      "cell_type": "code",
      "source": [
        "x = a.replace('legal', 'ave') #substitui uma cadeia por outra\n",
        "print(x)"
      ],
      "metadata": {
        "colab": {
          "base_uri": "https://localhost:8080/"
        },
        "id": "MDMeb2E1_UuB",
        "outputId": "d06b4af9-aaec-4c6b-82a2-470743690080"
      },
      "execution_count": 28,
      "outputs": [
        {
          "output_type": "stream",
          "name": "stdout",
          "text": [
            "pato é ave\n"
          ]
        }
      ]
    },
    {
      "cell_type": "code",
      "source": [
        "y = a.replace('a', 'o')\n",
        "print(y)"
      ],
      "metadata": {
        "colab": {
          "base_uri": "https://localhost:8080/"
        },
        "id": "lhwQ0pNy_2D8",
        "outputId": "e4943e62-1895-44cc-9f11-818f1a470b4c"
      },
      "execution_count": 31,
      "outputs": [
        {
          "output_type": "stream",
          "name": "stdout",
          "text": [
            "poto é legol\n"
          ]
        }
      ]
    },
    {
      "cell_type": "code",
      "source": [
        "f = a.find('legol')\n",
        "print(f)"
      ],
      "metadata": {
        "colab": {
          "base_uri": "https://localhost:8080/"
        },
        "id": "H7kYl0IaAPHp",
        "outputId": "fed84bf1-35bb-40e5-ded7-624faa48b601"
      },
      "execution_count": 38,
      "outputs": [
        {
          "output_type": "stream",
          "name": "stdout",
          "text": [
            "-1\n"
          ]
        }
      ]
    },
    {
      "cell_type": "code",
      "source": [
        "f = a.find('legal')\n",
        "print(f)"
      ],
      "metadata": {
        "colab": {
          "base_uri": "https://localhost:8080/"
        },
        "id": "0Af4MJyjAuRe",
        "outputId": "fa320e5b-472d-4f88-8deb-d7502f1e5878"
      },
      "execution_count": 39,
      "outputs": [
        {
          "output_type": "stream",
          "name": "stdout",
          "text": [
            "7\n"
          ]
        }
      ]
    },
    {
      "cell_type": "code",
      "source": [
        "f = a.find('to')\n",
        "print(f)"
      ],
      "metadata": {
        "colab": {
          "base_uri": "https://localhost:8080/"
        },
        "id": "FnLNVpO0Ax3L",
        "outputId": "31040486-666f-402d-c0f5-f5e0025206f3"
      },
      "execution_count": 41,
      "outputs": [
        {
          "output_type": "stream",
          "name": "stdout",
          "text": [
            "2\n"
          ]
        }
      ]
    },
    {
      "cell_type": "code",
      "source": [
        "b = '  azul ' #espaços contam como caracteres\n",
        "print(len(b)) #len = tamanho\n",
        "\n",
        "s = b.strip()\n",
        "print(s)\n",
        "print(len(s))"
      ],
      "metadata": {
        "colab": {
          "base_uri": "https://localhost:8080/"
        },
        "id": "wU4IQixyA-4E",
        "outputId": "267f3865-f394-4f09-c86f-42e6801afc6e"
      },
      "execution_count": 45,
      "outputs": [
        {
          "output_type": "stream",
          "name": "stdout",
          "text": [
            "7\n",
            "azul\n",
            "4\n"
          ]
        }
      ]
    },
    {
      "cell_type": "code",
      "source": [
        "n1 = 4\n",
        "n2 = 10\n",
        "n3 = 51"
      ],
      "metadata": {
        "id": "OaRGWqhtBoq5"
      },
      "execution_count": 53,
      "outputs": []
    },
    {
      "cell_type": "code",
      "source": [
        "print('Multiplicar', n1, 'por', n2, 'resulta em:', n1*n2)"
      ],
      "metadata": {
        "colab": {
          "base_uri": "https://localhost:8080/"
        },
        "id": "exBIvDzCBwlZ",
        "outputId": "a4e5ee6f-e4f3-423a-d457-c6919609c8e2"
      },
      "execution_count": 47,
      "outputs": [
        {
          "output_type": "stream",
          "name": "stdout",
          "text": [
            "Multiplicar 4 por 10 resulta em: 40\n"
          ]
        }
      ]
    },
    {
      "cell_type": "code",
      "source": [
        "#outra forma de realizar concatenação de Strings é assim (com interpolação):\n",
        "print(f'Multiplicar {n1} por {n2} e por {n3} resulta em: {n1 * n2 * n3}')"
      ],
      "metadata": {
        "colab": {
          "base_uri": "https://localhost:8080/"
        },
        "id": "F5UAZwWmB8ix",
        "outputId": "c9887ab6-a21f-414c-ba07-8281f1f47385"
      },
      "execution_count": 52,
      "outputs": [
        {
          "output_type": "stream",
          "name": "stdout",
          "text": [
            "Multiplicar 4 por 10 e por 51 resulta em: 2040\n"
          ]
        }
      ]
    },
    {
      "cell_type": "code",
      "source": [
        "print(f'{a.capitalize()} pra caramba!')"
      ],
      "metadata": {
        "colab": {
          "base_uri": "https://localhost:8080/"
        },
        "id": "DV-X7griCxRg",
        "outputId": "c926e5bf-5ee1-4975-ca00-f77204338298"
      },
      "execution_count": 57,
      "outputs": [
        {
          "output_type": "stream",
          "name": "stdout",
          "text": [
            "Pato é legal pra caramba!\n"
          ]
        }
      ]
    }
  ]
}