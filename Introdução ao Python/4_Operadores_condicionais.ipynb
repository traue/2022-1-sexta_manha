{
  "nbformat": 4,
  "nbformat_minor": 0,
  "metadata": {
    "colab": {
      "name": "4 - Operadores condicionais.ipynb",
      "provenance": []
    },
    "kernelspec": {
      "name": "python3",
      "display_name": "Python 3"
    },
    "language_info": {
      "name": "python"
    }
  },
  "cells": [
    {
      "cell_type": "markdown",
      "source": [
        "# Operadores condicionais (desvio condicional)"
      ],
      "metadata": {
        "id": "1n1aDglgAhBc"
      }
    },
    {
      "cell_type": "code",
      "source": [
        "x = 10\n",
        "y = 80"
      ],
      "metadata": {
        "id": "LxF9p9MUAnbz"
      },
      "execution_count": 10,
      "outputs": []
    },
    {
      "cell_type": "code",
      "source": [
        "print(x > y)"
      ],
      "metadata": {
        "colab": {
          "base_uri": "https://localhost:8080/"
        },
        "id": "IM9H_SbeAwUB",
        "outputId": "033338f2-13dc-4166-a4b7-b050d6b4958f"
      },
      "execution_count": 5,
      "outputs": [
        {
          "output_type": "stream",
          "name": "stdout",
          "text": [
            "True\n"
          ]
        }
      ]
    },
    {
      "cell_type": "code",
      "source": [
        "if x > y: #so entra no bloco se o resultado lógico for verdadeiro\n",
        "  print('O x é maior que o y!')\n",
        "print('Olá mundo!')"
      ],
      "metadata": {
        "colab": {
          "base_uri": "https://localhost:8080/"
        },
        "id": "xrVw_td0Azg_",
        "outputId": "552cb91a-5b22-40ba-bcee-f39342691c2a"
      },
      "execution_count": 6,
      "outputs": [
        {
          "output_type": "stream",
          "name": "stdout",
          "text": [
            "O x é maior que o y!\n",
            "Olá mundo!\n"
          ]
        }
      ]
    },
    {
      "cell_type": "code",
      "source": [
        "if x <= y:\n",
        "  print('O Y é maior ou igual em relação ao X')\n",
        "else: #senão\n",
        "  print('O Y é menor em relação ao X')"
      ],
      "metadata": {
        "colab": {
          "base_uri": "https://localhost:8080/"
        },
        "id": "liTB6mjYBLaH",
        "outputId": "65161162-57fc-4229-e223-569b76d8bd82"
      },
      "execution_count": 12,
      "outputs": [
        {
          "output_type": "stream",
          "name": "stdout",
          "text": [
            "O Y é maior ou igual em relação ao X\n"
          ]
        }
      ]
    },
    {
      "cell_type": "code",
      "source": [
        "z = 2\n",
        "if z == 1:\n",
        "  print('Z vale 1!')\n",
        "elif z == 2:\n",
        "  print('Z vale 2!')\n",
        "elif z == 3:\n",
        "  print('Z vale 3!')\n",
        "else:\n",
        "  print('Z não vale nem 1, nem 2, nem 3! :P')"
      ],
      "metadata": {
        "colab": {
          "base_uri": "https://localhost:8080/"
        },
        "id": "Th3mCDo5Bq2i",
        "outputId": "83aa3bba-c800-4c7b-b898-74541700fb44"
      },
      "execution_count": 13,
      "outputs": [
        {
          "output_type": "stream",
          "name": "stdout",
          "text": [
            "Z vale 2!\n"
          ]
        }
      ]
    },
    {
      "cell_type": "code",
      "source": [
        "a = 10\n",
        "b = 7\n",
        "if (a > 1) or (b % 2 == 0):\n",
        "  print('A é maior que 1 ou B é par!')\n",
        "else:\n",
        "  print('Uma ou nenhuma das condições foram satisfeitas no if')"
      ],
      "metadata": {
        "colab": {
          "base_uri": "https://localhost:8080/"
        },
        "id": "VWFIjarnCK8Y",
        "outputId": "4f1c98ec-8b9f-4a6e-c466-c12970277f94"
      },
      "execution_count": 19,
      "outputs": [
        {
          "output_type": "stream",
          "name": "stdout",
          "text": [
            "A é maior que 1 ou B é par!\n"
          ]
        }
      ]
    },
    {
      "cell_type": "markdown",
      "source": [
        "# Exercício de fixação"
      ],
      "metadata": {
        "id": "k5IRzegVC4Wm"
      }
    },
    {
      "cell_type": "markdown",
      "source": [
        "1. Leia a idade do usuário e classifique-o em:\n",
        "    - Criança – 0 a 12 anos\n",
        "    - Adolescente – 13 a 17 anos\n",
        "    - Adulto – acima de 18 anos\n",
        "    - Se o usuário digitar um número negativo, mostrar a mensagem que a idade é inválida\n",
        "\n",
        "\n",
        "\n",
        "2. Calcular a média de um aluno que cursou a disciplina de Inteligência Artificia;, a partir da leitura das notas N1, N2 e N3; passando por um cálculo da média aritmética (n1 + n2 + n3) / 3. Após a média calculada, devemos anunciar se o aluno foi aprovado, reprovado ou pegou DP\n",
        "    - Se a média estiver entre 0.0 e 4.0, o aluno está reprovado\n",
        "    - Se a média estiver entre 4.1 e 6.0, o aluno pegou DP\n",
        "    - Se a média for maior do que 6.0, o aluno está aprovado\n",
        "    - Se o aluno pegou DP, deve ser lida a nota da própria DP. Se a nota da DP for maior do que 6.0, está aprovado, senão; está reprovado"
      ],
      "metadata": {
        "id": "KM8ULyakC8vD"
      }
    },
    {
      "cell_type": "markdown",
      "source": [
        "## Resolução do ex. 1"
      ],
      "metadata": {
        "id": "8OG8B-BLDzoP"
      }
    },
    {
      "cell_type": "code",
      "source": [
        "#leitura da idade:\n",
        "idade = int(input('Informe a idade: '))"
      ],
      "metadata": {
        "colab": {
          "base_uri": "https://localhost:8080/"
        },
        "id": "WSjhizU6D4pC",
        "outputId": "5905e9f0-2bf3-422b-c475-8131bff3c547"
      },
      "execution_count": 30,
      "outputs": [
        {
          "name": "stdout",
          "output_type": "stream",
          "text": [
            "Informe a idade: 150\n"
          ]
        }
      ]
    },
    {
      "cell_type": "code",
      "source": [
        "if idade >= 0 and idade <= 12:\n",
        "  print('É uma criança!')\n",
        "elif idade > 12 and idade <= 18:\n",
        "  print('É um adolescente!')\n",
        "elif idade > 18:\n",
        "  print('É adulto!')\n",
        "else:\n",
        "  print('Idade informada é inválida!')"
      ],
      "metadata": {
        "colab": {
          "base_uri": "https://localhost:8080/"
        },
        "id": "dF492xWgEDan",
        "outputId": "b1ddb739-b317-455d-c790-1198a2b53cab"
      },
      "execution_count": 31,
      "outputs": [
        {
          "output_type": "stream",
          "name": "stdout",
          "text": [
            "É adulto!\n"
          ]
        }
      ]
    },
    {
      "cell_type": "markdown",
      "source": [
        "## Resolução do ex. 2"
      ],
      "metadata": {
        "id": "bY6cKZPeE2Jn"
      }
    },
    {
      "cell_type": "code",
      "source": [
        "2\n",
        "#leitura dos dados:\n",
        "n1 = float(input('Informe a Nota 1: '))\n",
        "n2 = float(input('Informe a Nota 2: '))\n",
        "n3 = float(input('Informe a Nota 3: '))"
      ],
      "metadata": {
        "colab": {
          "base_uri": "https://localhost:8080/"
        },
        "id": "FN-EDJz3E7ZC",
        "outputId": "e2e89b82-4ef0-4e65-cfe9-70ef3f4a68ba"
      },
      "execution_count": 41,
      "outputs": [
        {
          "name": "stdout",
          "output_type": "stream",
          "text": [
            "Informe a Nota 1: 0\n",
            "Informe a Nota 2: 1\n",
            "Informe a Nota 3: 2\n"
          ]
        }
      ]
    },
    {
      "cell_type": "code",
      "source": [
        "#cálculo da média:\n",
        "media = (n1 + n2 + n3) / 3\n",
        "print(f'A média é {media}')"
      ],
      "metadata": {
        "colab": {
          "base_uri": "https://localhost:8080/"
        },
        "id": "IfinSXzTFJqE",
        "outputId": "e9fc170b-af78-4d01-c9e7-1c2891204a42"
      },
      "execution_count": 42,
      "outputs": [
        {
          "output_type": "stream",
          "name": "stdout",
          "text": [
            "A média é 1.0\n"
          ]
        }
      ]
    },
    {
      "cell_type": "code",
      "source": [
        "#impressões...:\n",
        "if media >= 0 and media <= 4:\n",
        "  print('Aluno está reprovado :(')\n",
        "elif media >= 4.1 and media <= 6:\n",
        "  dp = float(input('Digite a nota da DP: '))\n",
        "  if dp >= 6.0:\n",
        "    print('Aluno aprovado com DP')\n",
        "  else: \n",
        "    print('Aluno reprovado na DP :(')\n",
        "else:\n",
        "  print('Aluno aprovado! :D')"
      ],
      "metadata": {
        "colab": {
          "base_uri": "https://localhost:8080/"
        },
        "id": "9aELtcmVFdLP",
        "outputId": "dd5ac94a-12e7-40dc-c539-7906ee3bc9ff"
      },
      "execution_count": 43,
      "outputs": [
        {
          "output_type": "stream",
          "name": "stdout",
          "text": [
            "Aluno está reprovado :(\n"
          ]
        }
      ]
    }
  ]
}