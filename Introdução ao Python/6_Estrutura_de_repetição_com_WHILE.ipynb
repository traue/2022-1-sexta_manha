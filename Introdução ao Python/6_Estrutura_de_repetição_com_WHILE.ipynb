{
  "nbformat": 4,
  "nbformat_minor": 0,
  "metadata": {
    "colab": {
      "name": "6 - Estrutura de repetição com WHILE.ipynb",
      "provenance": [],
      "collapsed_sections": [
        "4akElJA3NKVG"
      ]
    },
    "kernelspec": {
      "name": "python3",
      "display_name": "Python 3"
    },
    "language_info": {
      "name": "python"
    }
  },
  "cells": [
    {
      "cell_type": "markdown",
      "source": [
        "# Estrutura de repetição com WHILE"
      ],
      "metadata": {
        "id": "QK5kB_JkKiHh"
      }
    },
    {
      "cell_type": "code",
      "source": [
        "n = 0\n",
        "while n <= 10:\n",
        "  print(n)\n",
        "  n += 1 # é o mesmo que n = n + 1"
      ],
      "metadata": {
        "colab": {
          "base_uri": "https://localhost:8080/"
        },
        "id": "um_tZrKbKqMn",
        "outputId": "6f6a4c75-d996-43f6-9397-6e48d76f6305"
      },
      "execution_count": 3,
      "outputs": [
        {
          "output_type": "stream",
          "name": "stdout",
          "text": [
            "0\n",
            "1\n",
            "2\n",
            "3\n",
            "4\n",
            "5\n",
            "6\n",
            "7\n",
            "8\n",
            "9\n",
            "10\n"
          ]
        }
      ]
    },
    {
      "cell_type": "code",
      "source": [
        "n = 10\n",
        "while n >= 0:\n",
        "  print(n)\n",
        "  n -= 1"
      ],
      "metadata": {
        "colab": {
          "base_uri": "https://localhost:8080/"
        },
        "id": "OksCpOimLDsx",
        "outputId": "a6dee499-0c2d-4118-b439-1d4b2d9a0663"
      },
      "execution_count": 5,
      "outputs": [
        {
          "output_type": "stream",
          "name": "stdout",
          "text": [
            "10\n",
            "9\n",
            "8\n",
            "7\n",
            "6\n",
            "5\n",
            "4\n",
            "3\n",
            "2\n",
            "1\n",
            "0\n"
          ]
        }
      ]
    },
    {
      "cell_type": "code",
      "source": [
        "soma = 1 + 2 + 3 + 4 + 5 + 6 # +...\n",
        "print(soma)"
      ],
      "metadata": {
        "colab": {
          "base_uri": "https://localhost:8080/"
        },
        "id": "EKLr-dbxLQtn",
        "outputId": "3c529cb8-f034-4f94-8309-8979e1690512"
      },
      "execution_count": 6,
      "outputs": [
        {
          "output_type": "stream",
          "name": "stdout",
          "text": [
            "21\n"
          ]
        }
      ]
    },
    {
      "cell_type": "code",
      "source": [
        "soma = 0\n",
        "n = 1\n",
        "while n <= 100:\n",
        "  soma += n\n",
        "  n += 1\n",
        "print(soma)"
      ],
      "metadata": {
        "colab": {
          "base_uri": "https://localhost:8080/"
        },
        "id": "4fm6VXToLVGV",
        "outputId": "1cda85af-be73-4658-d69b-0aeb08423ad5"
      },
      "execution_count": 8,
      "outputs": [
        {
          "output_type": "stream",
          "name": "stdout",
          "text": [
            "5050\n"
          ]
        }
      ]
    },
    {
      "cell_type": "code",
      "source": [
        "x = 13\n",
        "while x <= 1 or x >= 10:\n",
        "  x = int(input('Digite um valor de 1 a 10: '))"
      ],
      "metadata": {
        "colab": {
          "base_uri": "https://localhost:8080/"
        },
        "id": "OvtektMULqx3",
        "outputId": "0a1a5415-7773-4bcc-c2c9-64dfb2e3ab2a"
      },
      "execution_count": 11,
      "outputs": [
        {
          "name": "stdout",
          "output_type": "stream",
          "text": [
            "Digite um valor de 1 a 10: -13231\n",
            "Digite um valor de 1 a 10: -1\n",
            "Digite um valor de 1 a 10: 9909\n",
            "Digite um valor de 1 a 10: 1203120\n",
            "Digite um valor de 1 a 10: 11\n",
            "Digite um valor de 1 a 10: 0\n",
            "Digite um valor de 1 a 10: 10\n",
            "Digite um valor de 1 a 10: 1\n",
            "Digite um valor de 1 a 10: 2\n"
          ]
        }
      ]
    },
    {
      "cell_type": "markdown",
      "source": [
        "# Exercícios de fixação"
      ],
      "metadata": {
        "id": "ni6JQ1olMWxT"
      }
    },
    {
      "cell_type": "markdown",
      "source": [
        "1. Ler 6 notas e informar a média\n",
        "\n",
        "2. Imprimir a tabuada do número 7 (7 x 1 = 1 ... 7 x 10 = 10)"
      ],
      "metadata": {
        "id": "nGZBid4FMZKs"
      }
    },
    {
      "cell_type": "markdown",
      "source": [
        "## Resolução do ex. 1"
      ],
      "metadata": {
        "id": "4akElJA3NKVG"
      }
    },
    {
      "cell_type": "code",
      "source": [
        "#delcaração das variáveis \n",
        "nota = media = soma = 0 #todas as variáveis são declaradas igual a zero"
      ],
      "metadata": {
        "id": "6-NMmPNGNMRl"
      },
      "execution_count": 12,
      "outputs": []
    },
    {
      "cell_type": "code",
      "source": [
        "for _ in range(1, 7):\n",
        "  nota = float(input('Informe a nota: '))\n",
        "  soma += nota"
      ],
      "metadata": {
        "colab": {
          "base_uri": "https://localhost:8080/"
        },
        "id": "He3EvRqENli9",
        "outputId": "1549f1b9-224f-423b-a1c7-159f545a6d5f"
      },
      "execution_count": 15,
      "outputs": [
        {
          "name": "stdout",
          "output_type": "stream",
          "text": [
            "Informe a nota: 2\n",
            "Informe a nota: 10\n",
            "Informe a nota: 9\n",
            "Informe a nota: 10\n",
            "Informe a nota: 8\n",
            "Informe a nota: 8\n"
          ]
        }
      ]
    },
    {
      "cell_type": "code",
      "source": [
        "print(soma)"
      ],
      "metadata": {
        "colab": {
          "base_uri": "https://localhost:8080/"
        },
        "id": "P-EtCB--Nxo7",
        "outputId": "8fe577d0-839a-4044-aac6-bd5e58160ed9"
      },
      "execution_count": 16,
      "outputs": [
        {
          "output_type": "stream",
          "name": "stdout",
          "text": [
            "47.0\n"
          ]
        }
      ]
    },
    {
      "cell_type": "code",
      "source": [
        "media = soma / 6\n",
        "print('A média é de:', media)"
      ],
      "metadata": {
        "colab": {
          "base_uri": "https://localhost:8080/"
        },
        "id": "Gu5taeyFNznO",
        "outputId": "f86e0b64-7081-4dff-cb0f-0d8b5fe49657"
      },
      "execution_count": 17,
      "outputs": [
        {
          "output_type": "stream",
          "name": "stdout",
          "text": [
            "A média é de: 7.833333333333333\n"
          ]
        }
      ]
    },
    {
      "cell_type": "code",
      "source": [
        "# usando while...\n",
        "nota = soma = 0\n",
        "n = 1\n",
        "while n <= 6:\n",
        "  nota = float(input('Informe a nota: '))\n",
        "  soma += nota\n",
        "  n += 1\n",
        "print('A média é:', soma / 6)"
      ],
      "metadata": {
        "colab": {
          "base_uri": "https://localhost:8080/"
        },
        "id": "wtsaEFfVOBBF",
        "outputId": "e435fd7c-99ec-4d78-e2b6-618e1f64641f"
      },
      "execution_count": 18,
      "outputs": [
        {
          "output_type": "stream",
          "name": "stdout",
          "text": [
            "Informe a nota: 2\n",
            "Informe a nota: 10\n",
            "Informe a nota: 9\n",
            "Informe a nota: 10\n",
            "Informe a nota: 8\n",
            "Informe a nota: 8\n",
            "A média é: 7.833333333333333\n"
          ]
        }
      ]
    },
    {
      "cell_type": "markdown",
      "source": [
        "## Resolução do ex. 2"
      ],
      "metadata": {
        "id": "KuO7-Wt5ObdB"
      }
    },
    {
      "cell_type": "code",
      "source": [
        "#usando o for:\n",
        "for i in range(1, 11):\n",
        "  print('7 x {} = {}'.format(i, 7 * i))"
      ],
      "metadata": {
        "colab": {
          "base_uri": "https://localhost:8080/"
        },
        "id": "0BuiaU_iOh6P",
        "outputId": "f11753ea-84e3-4c73-a072-b39d3e1a10b0"
      },
      "execution_count": 19,
      "outputs": [
        {
          "output_type": "stream",
          "name": "stdout",
          "text": [
            "7 x 1 = 7\n",
            "7 x 2 = 14\n",
            "7 x 3 = 21\n",
            "7 x 4 = 28\n",
            "7 x 5 = 35\n",
            "7 x 6 = 42\n",
            "7 x 7 = 49\n",
            "7 x 8 = 56\n",
            "7 x 9 = 63\n",
            "7 x 10 = 70\n"
          ]
        }
      ]
    },
    {
      "cell_type": "code",
      "source": [
        "#usando o whilhe...\n",
        "n = 1\n",
        "while n <= 10:\n",
        "  print('7 x {} = {}'.format(n, 7 * n))\n",
        "  n += 1"
      ],
      "metadata": {
        "colab": {
          "base_uri": "https://localhost:8080/"
        },
        "id": "k-GbpthjO8yH",
        "outputId": "4e89bcc4-c177-4244-c37d-51e0a326e41e"
      },
      "execution_count": 20,
      "outputs": [
        {
          "output_type": "stream",
          "name": "stdout",
          "text": [
            "7 x 1 = 7\n",
            "7 x 2 = 14\n",
            "7 x 3 = 21\n",
            "7 x 4 = 28\n",
            "7 x 5 = 35\n",
            "7 x 6 = 42\n",
            "7 x 7 = 49\n",
            "7 x 8 = 56\n",
            "7 x 9 = 63\n",
            "7 x 10 = 70\n"
          ]
        }
      ]
    },
    {
      "cell_type": "markdown",
      "source": [
        "## Sugestão do Giovane: O usuário informa a tabuada que quer..."
      ],
      "metadata": {
        "id": "xKAQ_oAoPZOr"
      }
    },
    {
      "cell_type": "code",
      "source": [
        "# resoluçãoda sugestão usando o for:\n",
        "\n",
        "taboada = int(input('Qual taboada você quer? '))\n",
        "for i in range(1, 11):\n",
        "  print('{} x {} = {}'.format(taboada, i, taboada * i))"
      ],
      "metadata": {
        "colab": {
          "base_uri": "https://localhost:8080/"
        },
        "id": "YE8thYEcPdsa",
        "outputId": "de136b44-4962-48fd-cef8-0a1be7fd12ee"
      },
      "execution_count": 26,
      "outputs": [
        {
          "output_type": "stream",
          "name": "stdout",
          "text": [
            "Qual taboada você quer? 99\n",
            "99 x 1 = 99\n",
            "99 x 2 = 198\n",
            "99 x 3 = 297\n",
            "99 x 4 = 396\n",
            "99 x 5 = 495\n",
            "99 x 6 = 594\n",
            "99 x 7 = 693\n",
            "99 x 8 = 792\n",
            "99 x 9 = 891\n",
            "99 x 10 = 990\n"
          ]
        }
      ]
    }
  ]
}