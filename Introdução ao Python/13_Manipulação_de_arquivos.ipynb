{
  "nbformat": 4,
  "nbformat_minor": 0,
  "metadata": {
    "colab": {
      "name": "13 - Manipulação de arquivos.ipynb",
      "provenance": [],
      "collapsed_sections": []
    },
    "kernelspec": {
      "name": "python3",
      "display_name": "Python 3"
    },
    "language_info": {
      "name": "python"
    }
  },
  "cells": [
    {
      "cell_type": "markdown",
      "source": [
        "# Manipulando um arquivo"
      ],
      "metadata": {
        "id": "f2pp9nKDaMyv"
      }
    },
    {
      "cell_type": "code",
      "execution_count": 2,
      "metadata": {
        "colab": {
          "base_uri": "https://localhost:8080/"
        },
        "id": "geNK8dsEZjRH",
        "outputId": "407cb9c4-9916-4689-b187-96bdc822a705"
      },
      "outputs": [
        {
          "output_type": "stream",
          "name": "stdout",
          "text": [
            "Estou aprendendo python\n",
            "\n",
            "Estou gostando bastante\n",
            "\n",
            "dessa linguagem\n",
            "\n",
            "top\n",
            "\n",
            "O prof. Truaue é legal\n"
          ]
        }
      ],
      "source": [
        "with open('/content/arquivo_texto.txt') as txt:\n",
        "  for linha in txt:\n",
        "    print(linha)"
      ]
    },
    {
      "cell_type": "code",
      "source": [
        "with open('/content/arquivo_texto.txt') as txt:\n",
        "  r = txt.readlines();\n",
        "print(r)"
      ],
      "metadata": {
        "colab": {
          "base_uri": "https://localhost:8080/"
        },
        "id": "fdTlXL4MawKW",
        "outputId": "116f7dd5-ca61-4e35-9ed6-5bea7ad3333f"
      },
      "execution_count": 4,
      "outputs": [
        {
          "output_type": "stream",
          "name": "stdout",
          "text": [
            "['Estou aprendendo python\\n', 'Estou gostando bastante\\n', 'dessa linguagem\\n', 'top\\n', 'O prof. Truaue é legal']\n"
          ]
        }
      ]
    },
    {
      "cell_type": "code",
      "source": [
        "with open('/content/arquivo_2.txt', 'w') as texto:\n",
        "  texto.write('Olá mundo')"
      ],
      "metadata": {
        "id": "3O1-BMiebCOW"
      },
      "execution_count": 5,
      "outputs": []
    },
    {
      "cell_type": "code",
      "source": [
        "with open('/content/arquivo_2.txt') as txt:\n",
        "  r = txt.readlines();\n",
        "print(r)"
      ],
      "metadata": {
        "colab": {
          "base_uri": "https://localhost:8080/"
        },
        "id": "UaG9PzhdbYn9",
        "outputId": "057845e5-7c85-47d9-953b-97f27c1bcf41"
      },
      "execution_count": 7,
      "outputs": [
        {
          "output_type": "stream",
          "name": "stdout",
          "text": [
            "['Olá mundo']\n"
          ]
        }
      ]
    },
    {
      "cell_type": "markdown",
      "source": [
        "paramos aqui"
      ],
      "metadata": {
        "id": "o3dZTVRcbiTM"
      }
    }
  ]
}