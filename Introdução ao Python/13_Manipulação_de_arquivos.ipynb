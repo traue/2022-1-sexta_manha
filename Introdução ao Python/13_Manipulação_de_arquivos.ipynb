{
  "nbformat": 4,
  "nbformat_minor": 0,
  "metadata": {
    "colab": {
      "name": "13 - Manipulação de arquivos.ipynb",
      "provenance": [],
      "collapsed_sections": []
    },
    "kernelspec": {
      "name": "python3",
      "display_name": "Python 3"
    },
    "language_info": {
      "name": "python"
    }
  },
  "cells": [
    {
      "cell_type": "markdown",
      "source": [
        "# Manipulando um arquivo"
      ],
      "metadata": {
        "id": "f2pp9nKDaMyv"
      }
    },
    {
      "cell_type": "code",
      "execution_count": 1,
      "metadata": {
        "colab": {
          "base_uri": "https://localhost:8080/"
        },
        "id": "geNK8dsEZjRH",
        "outputId": "83cb25ed-bdde-4133-b7d3-486e8d491841"
      },
      "outputs": [
        {
          "output_type": "stream",
          "name": "stdout",
          "text": [
            "Estou aprendendo python\n",
            "\n",
            "Estou gostando bastante\n",
            "\n",
            "dessa linguagem\n",
            "\n",
            "top\n",
            "\n",
            "O prof. Truaue é legal\n"
          ]
        }
      ],
      "source": [
        "with open('/content/arquivo_texto.txt') as txt:\n",
        "  for linha in txt:\n",
        "    print(linha)"
      ]
    },
    {
      "cell_type": "code",
      "source": [
        "with open('/content/arquivo_texto.txt') as txt:\n",
        "  r = txt.readlines();\n",
        "print(r)\n",
        "\n",
        "print(r[4])"
      ],
      "metadata": {
        "colab": {
          "base_uri": "https://localhost:8080/"
        },
        "id": "fdTlXL4MawKW",
        "outputId": "573bbfc0-24b8-498b-a83a-0406671fef6b"
      },
      "execution_count": 6,
      "outputs": [
        {
          "output_type": "stream",
          "name": "stdout",
          "text": [
            "['Estou aprendendo python\\n', 'Estou gostando bastante\\n', 'dessa linguagem\\n', 'top\\n', 'O prof. Truaue é legal']\n",
            "O prof. Truaue é legal\n"
          ]
        }
      ]
    },
    {
      "cell_type": "code",
      "source": [
        "with open('/content/arquivo_2.txt', 'w') as texto:\n",
        "  texto.write('Olá mundo')"
      ],
      "metadata": {
        "id": "3O1-BMiebCOW"
      },
      "execution_count": 7,
      "outputs": []
    },
    {
      "cell_type": "code",
      "source": [
        "with open('/content/arquivo_2.txt', 'r') as txt:\n",
        "  r = txt.readlines();\n",
        "print(r)\n",
        "txt.close()"
      ],
      "metadata": {
        "colab": {
          "base_uri": "https://localhost:8080/"
        },
        "id": "UaG9PzhdbYn9",
        "outputId": "dc0ccea3-3ea2-4c14-b542-350ae037830c"
      },
      "execution_count": 10,
      "outputs": [
        {
          "output_type": "stream",
          "name": "stdout",
          "text": [
            "['Olá mundo']\n"
          ]
        }
      ]
    },
    {
      "cell_type": "markdown",
      "source": [
        "# Exercício de fixação"
      ],
      "metadata": {
        "id": "gPpY2wHBJrlQ"
      }
    },
    {
      "cell_type": "markdown",
      "source": [
        "Considerando o dicionário com o nome dos alunos e suas respectivas notas abaixo, crie uma estrutura de repetição para percorrer cada elemento do dicionário para gravar cada aluno em um novo arquivo de texto, considerando que:\n",
        "\n",
        "- Cada aluno deve ocupar uma linha do novo arquivo de texto\n",
        "- O formato deve ser: nome,nota (Dyego,10.0)\n",
        "- Após a criação do arquivo de texto, faça a leitura do arquivo e mostre todos os alunos\n",
        "\n",
        "alunos = {'Dyego': 10.0, 'Edilson': 9.0, 'Livia': 8.5, 'Lucca': 1.5}"
      ],
      "metadata": {
        "id": "W_VtF_QCJuL3"
      }
    },
    {
      "cell_type": "code",
      "source": [
        "alunos = {'Dyego': 10.0, 'Edilson': 9.0, 'Livia': 8.5, 'Lucca': 1.5}\n",
        "print(alunos)"
      ],
      "metadata": {
        "colab": {
          "base_uri": "https://localhost:8080/"
        },
        "id": "B7z6dxpKKm17",
        "outputId": "7b747a3d-112a-4db8-daa8-e9fde43c521f"
      },
      "execution_count": 13,
      "outputs": [
        {
          "output_type": "stream",
          "name": "stdout",
          "text": [
            "{'Dyego': 10.0, 'Edilson': 9.0, 'Livia': 8.5, 'Lucca': 1.5}\n"
          ]
        }
      ]
    },
    {
      "cell_type": "code",
      "source": [
        "with open('alunos.txt', 'w') as arquivo:\n",
        "  for aluno, nota in alunos.items():\n",
        "    arquivo.write(f'{aluno},{nota}\\n')\n",
        "arquivo.close()"
      ],
      "metadata": {
        "id": "jR0u3vxGK51A"
      },
      "execution_count": 14,
      "outputs": []
    },
    {
      "cell_type": "code",
      "source": [
        "#teste (leitura do arq.):\n",
        "with open('alunos.txt', 'r') as arquivo:\n",
        "  for linha in arquivo:\n",
        "    print(linha)\n",
        "\n",
        "arquivo.close()"
      ],
      "metadata": {
        "colab": {
          "base_uri": "https://localhost:8080/"
        },
        "id": "o57n83ZiLX_l",
        "outputId": "99dd0c26-a936-4916-dfd2-0af8e001285d"
      },
      "execution_count": 15,
      "outputs": [
        {
          "output_type": "stream",
          "name": "stdout",
          "text": [
            "Dyego,10.0\n",
            "\n",
            "Edilson,9.0\n",
            "\n",
            "Livia,8.5\n",
            "\n",
            "Lucca,1.5\n",
            "\n"
          ]
        }
      ]
    }
  ]
}