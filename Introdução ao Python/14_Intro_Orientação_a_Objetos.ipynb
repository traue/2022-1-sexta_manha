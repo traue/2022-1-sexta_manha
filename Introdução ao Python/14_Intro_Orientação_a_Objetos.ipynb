{
  "nbformat": 4,
  "nbformat_minor": 0,
  "metadata": {
    "colab": {
      "name": "14 - Intro Orientação a Objetos.ipynb",
      "provenance": [],
      "collapsed_sections": []
    },
    "kernelspec": {
      "name": "python3",
      "display_name": "Python 3"
    },
    "language_info": {
      "name": "python"
    }
  },
  "cells": [
    {
      "cell_type": "markdown",
      "source": [
        "# Introdução a Orientação a Objetos"
      ],
      "metadata": {
        "id": "xKwUfHkGOpF7"
      }
    },
    {
      "cell_type": "code",
      "execution_count": 2,
      "metadata": {
        "id": "s3WQxLeUOiT_"
      },
      "outputs": [],
      "source": [
        "class Triangulo:\n",
        "  def __init__(self, lado1, lado2, lado3, base, altura): #construtor\n",
        "    self.lado1 = lado1\n",
        "    self.lado2 = lado2\n",
        "    self.lado3 = lado3\n",
        "    self.base = base\n",
        "    self.altura = altura\n",
        "\n",
        "  def area(self):\n",
        "    return (self.base * self.altura) / 2\n",
        "  \n",
        "  def tipo_triangulo(self):\n",
        "    if self.lado1 > self.lado2 + self.lado3:\n",
        "      return 'Isso não é um triângulo!'\n",
        "    elif self.lado1 == self.lado2 or self.lado1 == self.lado3 or self.lado2 == self.lado3:\n",
        "      return 'Triânculo isóceles'\n",
        "    else:\n",
        "      return 'Triângulo de outro tipo'"
      ]
    },
    {
      "cell_type": "code",
      "source": [
        "t1 = Triangulo(5, 1, 4, 2, 2) #lado1, lado2, lado3, base, altura\n",
        "\n",
        "print(t1.lado1, t1.lado2, t1.lado3, t1.base, t1.altura)"
      ],
      "metadata": {
        "colab": {
          "base_uri": "https://localhost:8080/"
        },
        "id": "sPg0OxviRCdj",
        "outputId": "29ee1fe2-de07-4e67-83d1-8e9d5a90284e"
      },
      "execution_count": 19,
      "outputs": [
        {
          "output_type": "stream",
          "name": "stdout",
          "text": [
            "5 1 4 2 2\n"
          ]
        }
      ]
    },
    {
      "cell_type": "code",
      "source": [
        "print(t1.area())"
      ],
      "metadata": {
        "colab": {
          "base_uri": "https://localhost:8080/"
        },
        "id": "2Q-Lm9BrRapg",
        "outputId": "d8c0f7c2-2853-4994-c44e-be75481f40cf"
      },
      "execution_count": 20,
      "outputs": [
        {
          "output_type": "stream",
          "name": "stdout",
          "text": [
            "2.0\n"
          ]
        }
      ]
    },
    {
      "cell_type": "code",
      "source": [
        "print(t1.tipo_triangulo())"
      ],
      "metadata": {
        "colab": {
          "base_uri": "https://localhost:8080/"
        },
        "id": "KcGrp0slRh_j",
        "outputId": "52db8afd-ccf1-4ebe-a662-d8882cac80ec"
      },
      "execution_count": 21,
      "outputs": [
        {
          "output_type": "stream",
          "name": "stdout",
          "text": [
            "Triângulo de outro tipo\n"
          ]
        }
      ]
    },
    {
      "cell_type": "code",
      "source": [
        "t2 = Triangulo(8, 8, 8, 16, 9)\n",
        "print(t2.lado1, t2.lado2, t2.lado3, t2.base, t2.altura)"
      ],
      "metadata": {
        "colab": {
          "base_uri": "https://localhost:8080/"
        },
        "id": "U54H3zpTRynE",
        "outputId": "4f37525d-c8cd-45f6-b120-40c8c1a8b9a1"
      },
      "execution_count": 16,
      "outputs": [
        {
          "output_type": "stream",
          "name": "stdout",
          "text": [
            "8 8 8 16 9\n"
          ]
        }
      ]
    },
    {
      "cell_type": "code",
      "source": [
        "print(t2.area())"
      ],
      "metadata": {
        "colab": {
          "base_uri": "https://localhost:8080/"
        },
        "id": "ZVbWFkh7SELS",
        "outputId": "874b1ce0-cf35-49fe-ef33-4d5475c3b15e"
      },
      "execution_count": 17,
      "outputs": [
        {
          "output_type": "stream",
          "name": "stdout",
          "text": [
            "72.0\n"
          ]
        }
      ]
    },
    {
      "cell_type": "code",
      "source": [
        "print(t2.tipo_triangulo())"
      ],
      "metadata": {
        "colab": {
          "base_uri": "https://localhost:8080/"
        },
        "id": "HJHouPJZSHdx",
        "outputId": "9a11a536-7244-4057-a4c4-c158806ec4e7"
      },
      "execution_count": 18,
      "outputs": [
        {
          "output_type": "stream",
          "name": "stdout",
          "text": [
            "Triânculo isóceles\n"
          ]
        }
      ]
    },
    {
      "cell_type": "markdown",
      "source": [
        "# Exercicio de Fixação"
      ],
      "metadata": {
        "id": "75bVRbo9SRqI"
      }
    },
    {
      "cell_type": "markdown",
      "source": [
        "Crie uma classe chamada aluno com os seguintes atributos:\n",
        "- Nome\n",
        "- Nota 1\n",
        "- Nota 2\n",
        "- Crie um construtor para a classe (__init__)\n",
        "\n",
        "\n",
        "Crie as seguintes funções (métodos):\n",
        "- Calcula média, retornando a média aritmética entre as notas\n",
        "- Mostra dados, que somente imprime o valor de todos os atributos\n",
        "- Resultado, que verifica se o aluno está aprovado ou reprovado (se a média for maior ou igual a 6.0, o aluno está aprovado)\n",
        "\n",
        "\n",
        "Crie dois objetos (aluno1 e aluno2) e teste as funções"
      ],
      "metadata": {
        "id": "Eo5zOR7QSZ7C"
      }
    },
    {
      "cell_type": "markdown",
      "source": [
        "## Resolução do exercício"
      ],
      "metadata": {
        "id": "A0k9lDh_TCQi"
      }
    },
    {
      "cell_type": "code",
      "source": [
        "class Aluno:\n",
        "  def __init__(aluno, nome, nota1, nota2): #construtor do aluno\n",
        "    aluno.nome = nome\n",
        "    aluno.nota1 = nota1\n",
        "    aluno.nota2 = nota2\n",
        "    aluno.media = 0.0\n",
        "\n",
        "  def calcula_media(aluno):\n",
        "    aluno.media = (aluno.nota1 + aluno.nota2) / 2\n",
        "    return aluno.media\n",
        "\n",
        "  def mostrar_dados(aluno):\n",
        "    print(f'Nome do aluno: {aluno.nome}')\n",
        "    print(f'Nota 1 do aluno: {aluno.nota1}')\n",
        "    print(f'Nota 2 do aluno: {aluno.nota2}')\n",
        "    print(f'Média do aluno: {aluno.media}')\n",
        "\n",
        "  def resultado(aluno):\n",
        "    if(aluno.media >= 6.0):\n",
        "      print('Aprovad@! :D')\n",
        "    else:\n",
        "      print('Reprovad@ :(')"
      ],
      "metadata": {
        "id": "0Q50z17iTBP9"
      },
      "execution_count": 29,
      "outputs": []
    },
    {
      "cell_type": "code",
      "source": [
        "#testes....\n",
        "aluno1 = Aluno('Lucca', 1.0, 1.5)\n",
        "media = aluno1.calcula_media()\n",
        "print(media)"
      ],
      "metadata": {
        "colab": {
          "base_uri": "https://localhost:8080/"
        },
        "id": "tEn9NwkvUZZ3",
        "outputId": "bf5c6d13-d234-4666-80d3-8f64f9fb2189"
      },
      "execution_count": 24,
      "outputs": [
        {
          "output_type": "stream",
          "name": "stdout",
          "text": [
            "1.25\n"
          ]
        }
      ]
    },
    {
      "cell_type": "code",
      "source": [
        "aluno1.mostrar_dados()"
      ],
      "metadata": {
        "colab": {
          "base_uri": "https://localhost:8080/"
        },
        "id": "QMvX9THbUqrm",
        "outputId": "2e024a62-ea15-4719-b5df-6326fd700d5d"
      },
      "execution_count": 25,
      "outputs": [
        {
          "output_type": "stream",
          "name": "stdout",
          "text": [
            "Nome do aluno: Lucca\n",
            "Nota 1 do aluno: 1.0\n",
            "Nota 2 do aluno: 1.5\n",
            "Média do aluno: 1.25\n"
          ]
        }
      ]
    },
    {
      "cell_type": "code",
      "source": [
        "aluno1.resultado()"
      ],
      "metadata": {
        "colab": {
          "base_uri": "https://localhost:8080/"
        },
        "id": "PY2Dzf_oUy9S",
        "outputId": "f40d5f99-d027-49b4-d94a-bfbc114c3810"
      },
      "execution_count": 26,
      "outputs": [
        {
          "output_type": "stream",
          "name": "stdout",
          "text": [
            "Reprovado :(\n"
          ]
        }
      ]
    },
    {
      "cell_type": "code",
      "source": [
        "aluno2 = Aluno('Samara', 10.0, 8.5)\n",
        "media = aluno2.calcula_media()\n",
        "aluno2.mostrar_dados()\n",
        "aluno2.resultado()"
      ],
      "metadata": {
        "colab": {
          "base_uri": "https://localhost:8080/"
        },
        "id": "e4-bXdhLU2UI",
        "outputId": "f0dc136f-5ef8-43c3-83ac-2e385c6a14e4"
      },
      "execution_count": 30,
      "outputs": [
        {
          "output_type": "stream",
          "name": "stdout",
          "text": [
            "Nome do aluno: Samara\n",
            "Nota 1 do aluno: 10.0\n",
            "Nota 2 do aluno: 8.5\n",
            "Média do aluno: 9.25\n",
            "Aprovad@! :D\n"
          ]
        }
      ]
    }
  ]
}