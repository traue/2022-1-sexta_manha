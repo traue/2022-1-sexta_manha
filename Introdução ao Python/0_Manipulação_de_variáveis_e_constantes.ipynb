{
  "nbformat": 4,
  "nbformat_minor": 0,
  "metadata": {
    "colab": {
      "name": "0 - Manipulação de variáveis e constantes.ipynb",
      "provenance": [],
      "collapsed_sections": []
    },
    "kernelspec": {
      "name": "python3",
      "display_name": "Python 3"
    },
    "language_info": {
      "name": "python"
    }
  },
  "cells": [
    {
      "cell_type": "markdown",
      "source": [
        "# Manipulação de variáveis e constantes"
      ],
      "metadata": {
        "id": "eDwfpUJ7F7Pj"
      }
    },
    {
      "cell_type": "markdown",
      "source": [
        "## Variáveis e constantes\n",
        "\n",
        "- Por meio das variáveis que um algortimo (ou programa) “guarda” dados de um determinado problema a ser resolvido\n",
        "- Todo dado que tem a possibilidade ou necessidade de ser alterado no decorrer da execução do programa, deverá ser tratado como uma **variável**\n",
        "- Quando um dado não tem nenhuma possibilidade de variar no decorrer da execução do programa, deverá este então ser tratado como uma **constante**\n",
        "\n",
        "**Exemplo:** Calcular o gasto financeiro de uma viagem de carro baseado no consumo de combustível do veículo e no valor deste. Variáveis do contexto: o valor do combustível e o tempo de viagem; constantes do contexto: O consumo do veículo\n",
        "\n",
        "## Tipos de variáveis\n",
        "\n",
        "- Inteiros: valores positivos ou negativos, que não possuem uma parte fracionária. Exemplos: 1, 20, 2, 60, -30; Idade de uma pessoa; número de filhos etc. \n",
        "- Float (real): valores positivos ou negativos, que podem possuir uma parte fracionária (também podem ser inteiros). Exemplos: 1.5, 6.2, 15.3, 400, -232; saldo em conta; altura d uma pessoa; peso etc.\n",
        "- Caracteres (char ou string): qualquer elemento presente no teclado. Exemplos: \"David\", \"Elias\", ‘X’, ‘Y’\n",
        "- Lógico (boleano): verdadeiro ou falso. Exemplos: true, false, 1, 0; fumante ou não etc.\n"
      ],
      "metadata": {
        "id": "OVo0fySOGAc0"
      }
    },
    {
      "cell_type": "markdown",
      "source": [
        "## Variáveis inteiras"
      ],
      "metadata": {
        "id": "xeG6fDLMH3dQ"
      }
    },
    {
      "cell_type": "code",
      "source": [
        "numero = -4\n",
        "numero_filhos = 1\n",
        "numero_alunos = 70"
      ],
      "metadata": {
        "id": "Y8CJs_V2IPVq"
      },
      "execution_count": null,
      "outputs": []
    },
    {
      "cell_type": "code",
      "source": [
        "numero_alunos #aqui no CoLab colcoar o nome da variável faz a impressão dela"
      ],
      "metadata": {
        "colab": {
          "base_uri": "https://localhost:8080/"
        },
        "id": "E3SdDpW3Ih0-",
        "outputId": "e3623242-508b-4e96-fd6b-ea6e44715b04"
      },
      "execution_count": null,
      "outputs": [
        {
          "output_type": "execute_result",
          "data": {
            "text/plain": [
              "70"
            ]
          },
          "metadata": {},
          "execution_count": 12
        }
      ]
    },
    {
      "cell_type": "code",
      "source": [
        "# entretanto, normalmente para exibir valores usamos o print, conforme:\n",
        "print(numero)\n",
        "print(numero_filhos)\n",
        "print(numero_alunos)"
      ],
      "metadata": {
        "colab": {
          "base_uri": "https://localhost:8080/"
        },
        "id": "LcL3uNY3IyBN",
        "outputId": "ce53f7c0-8c68-46c1-ba91-a970f8b75a66"
      },
      "execution_count": null,
      "outputs": [
        {
          "output_type": "stream",
          "name": "stdout",
          "text": [
            "-4\n",
            "1\n",
            "70\n"
          ]
        }
      ]
    },
    {
      "cell_type": "markdown",
      "source": [
        "## Variáveis de ponto flutuante (float)"
      ],
      "metadata": {
        "id": "-c3YM80-JaIH"
      }
    },
    {
      "cell_type": "code",
      "source": [
        "pi = 3.14159265359\n",
        "escala_terremoto = -3.23\n",
        "numero_euler = 2.71"
      ],
      "metadata": {
        "id": "Yw0prsUCJfyG"
      },
      "execution_count": null,
      "outputs": []
    },
    {
      "cell_type": "code",
      "source": [
        "#impressão das variáveis para o 'usuário':\n",
        "print(pi)\n",
        "print(escala_terremoto)\n",
        "print(numero_euler)"
      ],
      "metadata": {
        "colab": {
          "base_uri": "https://localhost:8080/"
        },
        "id": "Nz9twHx6KPHw",
        "outputId": "133ac4e3-b788-41db-b1b6-4867909894d2"
      },
      "execution_count": null,
      "outputs": [
        {
          "output_type": "stream",
          "name": "stdout",
          "text": [
            "3.14159265359\n",
            "-3.23\n",
            "2.71\n"
          ]
        }
      ]
    },
    {
      "cell_type": "markdown",
      "source": [
        "## Strings e Chars"
      ],
      "metadata": {
        "id": "9-HTYy-zKqO9"
      }
    },
    {
      "cell_type": "code",
      "source": [
        "letra = 'A'\n",
        "palavra_1 = 'Python'\n",
        "frase_1 = 'linguagem de programação'\n",
        "opiniao_1 = 'é top!'"
      ],
      "metadata": {
        "id": "Oigz5Va9KyCI"
      },
      "execution_count": null,
      "outputs": []
    },
    {
      "cell_type": "code",
      "source": [
        "print(letra, frase_1, palavra_1, opiniao_1);"
      ],
      "metadata": {
        "colab": {
          "base_uri": "https://localhost:8080/"
        },
        "id": "Y6T5zZhhLLLh",
        "outputId": "12079f55-3121-47f2-b576-76b11ab34463"
      },
      "execution_count": null,
      "outputs": [
        {
          "output_type": "stream",
          "name": "stdout",
          "text": [
            "A linguagem de programação Python é top!\n"
          ]
        }
      ]
    },
    {
      "cell_type": "code",
      "source": [
        "print('Estou curtingo', letra.lower(), frase_1, palavra_1) #.lower faz com que a frase ou letra fique toda minúscula"
      ],
      "metadata": {
        "colab": {
          "base_uri": "https://localhost:8080/"
        },
        "id": "t7qAitv4Lptt",
        "outputId": "4bef4404-6d3e-4761-d93e-50da503b543b"
      },
      "execution_count": null,
      "outputs": [
        {
          "output_type": "stream",
          "name": "stdout",
          "text": [
            "Estou curtingo a linguagem de programação Python\n"
          ]
        }
      ]
    },
    {
      "cell_type": "code",
      "source": [
        "print('Essa', frase_1, 'chama-se', palavra_1)"
      ],
      "metadata": {
        "colab": {
          "base_uri": "https://localhost:8080/"
        },
        "id": "C03WcqW5MQRH",
        "outputId": "ede3ff8b-c54a-4ee0-ae48-7a95b9eac84e"
      },
      "execution_count": null,
      "outputs": [
        {
          "output_type": "stream",
          "name": "stdout",
          "text": [
            "Essa linguagem de programação chama-se Python\n"
          ]
        }
      ]
    },
    {
      "cell_type": "code",
      "source": [
        "#Entrando com dados\n",
        "ano_atual = 2022\n",
        "ano_nascimento = int(input('Informe seu ano de nascimento:')) # input SEMPRE retorna uma \"String\" (text0). Para converter, é preciso colocar o input dentro do tipo desejado\n",
        "idade = ano_atual - ano_nascimento\n",
        "print('Ah, legal, você tem', idade, 'anos!')"
      ],
      "metadata": {
        "colab": {
          "base_uri": "https://localhost:8080/"
        },
        "id": "qYtFBBnYMbJe",
        "outputId": "7f62cf86-c890-4769-e0b0-322afb8c31ea"
      },
      "execution_count": null,
      "outputs": [
        {
          "output_type": "stream",
          "name": "stdout",
          "text": [
            "Informe seu ano de nascimento:1987\n",
            "Ah, legal, você tem 35 anos!\n"
          ]
        }
      ]
    },
    {
      "cell_type": "code",
      "source": [
        "#exemplo com ponto flutuante\n",
        "altura = float(input('Informe sua altura:')) #converte a entrada para ponto flutuante\n",
        "print('Ah, legal, você tem', altura, 'de altura! Top!')"
      ],
      "metadata": {
        "colab": {
          "base_uri": "https://localhost:8080/"
        },
        "id": "URJLSswsNYkd",
        "outputId": "0b788fc5-c142-4e9e-e963-402487b61fe2"
      },
      "execution_count": null,
      "outputs": [
        {
          "output_type": "stream",
          "name": "stdout",
          "text": [
            "Informe sua altura:1.83\n",
            "Ah, legal, você tem 1.83 de altura! Top!\n"
          ]
        }
      ]
    },
    {
      "cell_type": "code",
      "source": [
        "#entrada \"garantida\" como \"String\"\n",
        "nome = str(input('Qual seu nominho?'))\n",
        "print('Olá', nome, 'seja muito bem-vindo(a)')"
      ],
      "metadata": {
        "colab": {
          "base_uri": "https://localhost:8080/"
        },
        "id": "e8YOQI2SN8N-",
        "outputId": "ffc5021c-2dc6-44be-e208-3a7f29651455"
      },
      "execution_count": null,
      "outputs": [
        {
          "output_type": "stream",
          "name": "stdout",
          "text": [
            "Qual seu nominho?Traue\n",
            "Olá Traue seja muito bem-vind(o)(a)\n"
          ]
        }
      ]
    },
    {
      "cell_type": "code",
      "source": [
        "print('Olá', nome, '! Ah legal, você tem', idade, 'anos')"
      ],
      "metadata": {
        "colab": {
          "base_uri": "https://localhost:8080/"
        },
        "id": "K61ceijYOOpE",
        "outputId": "cac1f3d4-cb40-4835-bfba-addb81ff034b"
      },
      "execution_count": null,
      "outputs": [
        {
          "output_type": "stream",
          "name": "stdout",
          "text": [
            "Olá Traue ! Ah legal, você tem 35 anos\n"
          ]
        }
      ]
    },
    {
      "cell_type": "code",
      "source": [
        "# Código do Edilson:\n",
        "\n",
        "nome = str(input('Qual seu nome?'))\n",
        "\n",
        "profissao = str(input('qual a sua profissão?'))\n",
        "\n",
        "print('boa profissão',nome,'vamos ver o que tem pra vc' )\n",
        "\n",
        "tempo = float(input('informe tempo de experiencia:'))\n",
        "\n",
        "print('hum interressante ',tempo, 'tem bastante tempo de experiencia')\n"
      ],
      "metadata": {
        "colab": {
          "base_uri": "https://localhost:8080/"
        },
        "id": "3l6sQbQk5ck-",
        "outputId": "60c9c183-d828-4473-c8a9-1c769c1526ed"
      },
      "execution_count": null,
      "outputs": [
        {
          "output_type": "stream",
          "name": "stdout",
          "text": [
            "Qual seu nome?Thiago\n",
            "qual a sua profissão?Professor\n",
            "boa profissão Thiago vamos ver o que tem pra vc\n",
            "informe tempo de experiencia:19\n",
            "hum interressante  19.0 tem bastante tempo de experiencia\n"
          ]
        }
      ]
    }
  ]
}