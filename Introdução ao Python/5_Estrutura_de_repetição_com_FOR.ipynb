{
  "nbformat": 4,
  "nbformat_minor": 0,
  "metadata": {
    "colab": {
      "name": "5 - Estrutura de repetição com FOR.ipynb",
      "provenance": [],
      "collapsed_sections": []
    },
    "kernelspec": {
      "name": "python3",
      "display_name": "Python 3"
    },
    "language_info": {
      "name": "python"
    }
  },
  "cells": [
    {
      "cell_type": "markdown",
      "source": [
        "# Estrutura de repetição com \"for\""
      ],
      "metadata": {
        "id": "MygGyWCXHD5l"
      }
    },
    {
      "cell_type": "code",
      "source": [
        "print(1)\n",
        "print(2)\n",
        "print(3)\n",
        "print(4)\n",
        "print(5)\n",
        "print(6)\n"
      ],
      "metadata": {
        "colab": {
          "base_uri": "https://localhost:8080/"
        },
        "id": "VOMyzR-7HHbR",
        "outputId": "40427701-45f9-4e97-a1f0-7ae584a23244"
      },
      "execution_count": 1,
      "outputs": [
        {
          "output_type": "stream",
          "name": "stdout",
          "text": [
            "1\n",
            "2\n",
            "3\n",
            "4\n",
            "5\n",
            "6\n"
          ]
        }
      ]
    },
    {
      "cell_type": "code",
      "source": [
        "for numero in range(1, 7): #note que o range no for (x, y) vai de x até y - 1\n",
        "  print(numero)"
      ],
      "metadata": {
        "colab": {
          "base_uri": "https://localhost:8080/"
        },
        "id": "g5tSbPIkHRO1",
        "outputId": "0b2f5d8f-7607-418d-c977-ec51552a454f"
      },
      "execution_count": 4,
      "outputs": [
        {
          "output_type": "stream",
          "name": "stdout",
          "text": [
            "1\n",
            "2\n",
            "3\n",
            "4\n",
            "5\n",
            "6\n"
          ]
        }
      ]
    },
    {
      "cell_type": "code",
      "source": [
        "#loop \"ao contrário\"\n",
        "for numero in range(6, 0, -1): #o -1 representa a condição de passo, ou decremento\n",
        "  print(numero)"
      ],
      "metadata": {
        "colab": {
          "base_uri": "https://localhost:8080/"
        },
        "id": "O9Uq-r6HHyBe",
        "outputId": "5367e3ac-4462-470d-c070-f330a3b1518a"
      },
      "execution_count": 8,
      "outputs": [
        {
          "output_type": "stream",
          "name": "stdout",
          "text": [
            "6\n",
            "5\n",
            "4\n",
            "3\n",
            "2\n",
            "1\n"
          ]
        }
      ]
    },
    {
      "cell_type": "code",
      "source": [
        "soma = 1 + 2 + 3 + 4 + 5 + 6\n",
        "print(soma)"
      ],
      "metadata": {
        "colab": {
          "base_uri": "https://localhost:8080/"
        },
        "id": "l1TrMuM_IKkR",
        "outputId": "421b7a27-5437-4555-d0f4-a00fbe19c677"
      },
      "execution_count": 9,
      "outputs": [
        {
          "output_type": "stream",
          "name": "stdout",
          "text": [
            "21\n"
          ]
        }
      ]
    },
    {
      "cell_type": "code",
      "source": [
        "#alternativa com loop\n",
        "soma = 0\n",
        "for numero in range(1, 7):\n",
        "  soma = soma + numero\n",
        "  print(f'A soma está em {soma} -> à soma anterior + {numero}')\n",
        "print(f'Resultado final: {soma}')"
      ],
      "metadata": {
        "colab": {
          "base_uri": "https://localhost:8080/"
        },
        "id": "RHJ2CQTjIR9r",
        "outputId": "787c937e-4888-49e0-9d86-2a22a2901fd6"
      },
      "execution_count": 12,
      "outputs": [
        {
          "output_type": "stream",
          "name": "stdout",
          "text": [
            "A soma está em 1 -> à soma anterior + 1\n",
            "A soma está em 3 -> à soma anterior + 2\n",
            "A soma está em 6 -> à soma anterior + 3\n",
            "A soma está em 10 -> à soma anterior + 4\n",
            "A soma está em 15 -> à soma anterior + 5\n",
            "A soma está em 21 -> à soma anterior + 6\n",
            "Resultado final: 21\n"
          ]
        }
      ]
    },
    {
      "cell_type": "code",
      "source": [
        "#podemos utilizar loops for com string, também.. veja:\n",
        "palavra = 'Uninove'\n",
        "for letra in palavra:\n",
        "  print(f'A letra atual é: {letra}')\n",
        "  if letra == 'i':\n",
        "    print('Opa, achei o i!')"
      ],
      "metadata": {
        "colab": {
          "base_uri": "https://localhost:8080/"
        },
        "id": "TAD0GtfSI60u",
        "outputId": "fa5f7cd1-49f6-4062-cfea-0e5925073519"
      },
      "execution_count": 16,
      "outputs": [
        {
          "output_type": "stream",
          "name": "stdout",
          "text": [
            "A letra atual é: U\n",
            "A letra atual é: n\n",
            "A letra atual é: i\n",
            "Opa, achei o i!\n",
            "A letra atual é: n\n",
            "A letra atual é: o\n",
            "A letra atual é: v\n",
            "A letra atual é: e\n"
          ]
        }
      ]
    },
    {
      "cell_type": "code",
      "source": [
        "#loop dentro de outro...\n",
        "for i in range(0, 6):\n",
        "  print('I =', i)\n",
        "  print('-------')\n",
        "  for j in range(0, 4):\n",
        "    print('J = ', j)\n",
        "  print()"
      ],
      "metadata": {
        "colab": {
          "base_uri": "https://localhost:8080/"
        },
        "id": "5DIESlMyJgjP",
        "outputId": "5aa6e632-a396-4051-fc27-235e117e9bbb"
      },
      "execution_count": 18,
      "outputs": [
        {
          "output_type": "stream",
          "name": "stdout",
          "text": [
            "I = 0\n",
            "-------\n",
            "J =  0\n",
            "J =  1\n",
            "J =  2\n",
            "J =  3\n",
            "\n",
            "I = 1\n",
            "-------\n",
            "J =  0\n",
            "J =  1\n",
            "J =  2\n",
            "J =  3\n",
            "\n",
            "I = 2\n",
            "-------\n",
            "J =  0\n",
            "J =  1\n",
            "J =  2\n",
            "J =  3\n",
            "\n",
            "I = 3\n",
            "-------\n",
            "J =  0\n",
            "J =  1\n",
            "J =  2\n",
            "J =  3\n",
            "\n",
            "I = 4\n",
            "-------\n",
            "J =  0\n",
            "J =  1\n",
            "J =  2\n",
            "J =  3\n",
            "\n",
            "I = 5\n",
            "-------\n",
            "J =  0\n",
            "J =  1\n",
            "J =  2\n",
            "J =  3\n",
            "\n"
          ]
        }
      ]
    }
  ]
}