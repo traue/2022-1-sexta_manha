{
  "nbformat": 4,
  "nbformat_minor": 0,
  "metadata": {
    "colab": {
      "name": "10_Modulos_uteis.ipynb",
      "provenance": [],
      "collapsed_sections": [
        "6Wr8VGvgG9cr",
        "C9MRhEjPIjlf"
      ]
    },
    "kernelspec": {
      "name": "python3",
      "display_name": "Python 3"
    },
    "language_info": {
      "name": "python"
    }
  },
  "cells": [
    {
      "cell_type": "markdown",
      "source": [
        "# Alguns módulo bastante úteis do Python"
      ],
      "metadata": {
        "id": "n05H3dm2G5mg"
      }
    },
    {
      "cell_type": "markdown",
      "source": [
        "## Biblioteca \"Math\"\n",
        "\n",
        "Link da documentação: https://docs.python.org/pt-br/3.10/library/math.html"
      ],
      "metadata": {
        "id": "6Wr8VGvgG9cr"
      }
    },
    {
      "cell_type": "code",
      "source": [
        "import math"
      ],
      "metadata": {
        "id": "44wy0HuMH23O"
      },
      "execution_count": 1,
      "outputs": []
    },
    {
      "cell_type": "code",
      "source": [
        "math.sqrt(144)"
      ],
      "metadata": {
        "colab": {
          "base_uri": "https://localhost:8080/"
        },
        "id": "Z0MQdfLuIDHY",
        "outputId": "dc956752-f55b-4f3d-b3eb-240daec2a6ee"
      },
      "execution_count": 3,
      "outputs": [
        {
          "output_type": "execute_result",
          "data": {
            "text/plain": [
              "12.0"
            ]
          },
          "metadata": {},
          "execution_count": 3
        }
      ]
    },
    {
      "cell_type": "code",
      "source": [
        "math.cos(45)"
      ],
      "metadata": {
        "colab": {
          "base_uri": "https://localhost:8080/"
        },
        "id": "HJlUhJS9IKDp",
        "outputId": "7d6e1933-5cd9-4173-affc-373031c26358"
      },
      "execution_count": 4,
      "outputs": [
        {
          "output_type": "execute_result",
          "data": {
            "text/plain": [
              "0.5253219888177297"
            ]
          },
          "metadata": {},
          "execution_count": 4
        }
      ]
    },
    {
      "cell_type": "code",
      "source": [
        "math.sin(45)"
      ],
      "metadata": {
        "colab": {
          "base_uri": "https://localhost:8080/"
        },
        "id": "c9coJPyzIO9K",
        "outputId": "41a4d023-ae1b-4f80-c3ba-a9f5243353bd"
      },
      "execution_count": 5,
      "outputs": [
        {
          "output_type": "execute_result",
          "data": {
            "text/plain": [
              "0.8509035245341184"
            ]
          },
          "metadata": {},
          "execution_count": 5
        }
      ]
    },
    {
      "cell_type": "code",
      "source": [
        "math.log(10)"
      ],
      "metadata": {
        "colab": {
          "base_uri": "https://localhost:8080/"
        },
        "id": "5D8u3ErcISvo",
        "outputId": "299d03e4-55a6-41f6-be71-a361cf50e5c6"
      },
      "execution_count": 6,
      "outputs": [
        {
          "output_type": "execute_result",
          "data": {
            "text/plain": [
              "2.302585092994046"
            ]
          },
          "metadata": {},
          "execution_count": 6
        }
      ]
    },
    {
      "cell_type": "code",
      "source": [
        "math.log(32, 2)"
      ],
      "metadata": {
        "colab": {
          "base_uri": "https://localhost:8080/"
        },
        "id": "_duOYlQdIW--",
        "outputId": "a5e3e100-0567-412a-d410-045c37e0d409"
      },
      "execution_count": 7,
      "outputs": [
        {
          "output_type": "execute_result",
          "data": {
            "text/plain": [
              "5.0"
            ]
          },
          "metadata": {},
          "execution_count": 7
        }
      ]
    },
    {
      "cell_type": "code",
      "source": [
        "math.pi"
      ],
      "metadata": {
        "colab": {
          "base_uri": "https://localhost:8080/"
        },
        "id": "0W5z2s6MIbnE",
        "outputId": "aab824fc-60aa-4938-b97f-4c334ed677b0"
      },
      "execution_count": 8,
      "outputs": [
        {
          "output_type": "execute_result",
          "data": {
            "text/plain": [
              "3.141592653589793"
            ]
          },
          "metadata": {},
          "execution_count": 8
        }
      ]
    },
    {
      "cell_type": "markdown",
      "source": [
        "## Biblioteca \"datetime\"\n",
        "\n",
        "Link da documentação: https://docs.python.org/pt-br/3.10/library/datetime.html"
      ],
      "metadata": {
        "id": "C9MRhEjPIjlf"
      }
    },
    {
      "cell_type": "code",
      "source": [
        "import datetime"
      ],
      "metadata": {
        "id": "rwgcRkf6JBE6"
      },
      "execution_count": 9,
      "outputs": []
    },
    {
      "cell_type": "code",
      "source": [
        "datetime.date.today()"
      ],
      "metadata": {
        "colab": {
          "base_uri": "https://localhost:8080/"
        },
        "id": "uOfjc3yWJFnk",
        "outputId": "3987725d-a98c-43c2-8b9e-4f06642b7c54"
      },
      "execution_count": 10,
      "outputs": [
        {
          "output_type": "execute_result",
          "data": {
            "text/plain": [
              "datetime.date(2022, 3, 18)"
            ]
          },
          "metadata": {},
          "execution_count": 10
        }
      ]
    },
    {
      "cell_type": "code",
      "source": [
        "datetime.datetime.now()"
      ],
      "metadata": {
        "colab": {
          "base_uri": "https://localhost:8080/"
        },
        "id": "UpXf1PhPJPpg",
        "outputId": "9e756ab6-623f-464b-ced9-d17ac3bc585c"
      },
      "execution_count": 13,
      "outputs": [
        {
          "output_type": "execute_result",
          "data": {
            "text/plain": [
              "datetime.datetime(2022, 3, 18, 13, 9, 27, 40200)"
            ]
          },
          "metadata": {},
          "execution_count": 13
        }
      ]
    },
    {
      "cell_type": "code",
      "source": [
        "data = datetime.date(1987, 4, 26)"
      ],
      "metadata": {
        "id": "D-C0aJ86Jd1E"
      },
      "execution_count": 14,
      "outputs": []
    },
    {
      "cell_type": "code",
      "source": [
        "data"
      ],
      "metadata": {
        "colab": {
          "base_uri": "https://localhost:8080/"
        },
        "id": "KRvS5R9LJkjx",
        "outputId": "b24b5004-839a-4bb2-8f2f-dd64ded3a3b1"
      },
      "execution_count": 15,
      "outputs": [
        {
          "output_type": "execute_result",
          "data": {
            "text/plain": [
              "datetime.date(1987, 4, 26)"
            ]
          },
          "metadata": {},
          "execution_count": 15
        }
      ]
    },
    {
      "cell_type": "code",
      "source": [
        "data.day"
      ],
      "metadata": {
        "colab": {
          "base_uri": "https://localhost:8080/"
        },
        "id": "gYau7hHGJm8X",
        "outputId": "5572ec2d-f7ec-46b6-fc05-bef1c8cfa94f"
      },
      "execution_count": 16,
      "outputs": [
        {
          "output_type": "execute_result",
          "data": {
            "text/plain": [
              "26"
            ]
          },
          "metadata": {},
          "execution_count": 16
        }
      ]
    },
    {
      "cell_type": "code",
      "source": [
        "data.year"
      ],
      "metadata": {
        "colab": {
          "base_uri": "https://localhost:8080/"
        },
        "id": "gFrNTt5JJpPw",
        "outputId": "51526c2e-1db8-46e7-f833-0795646d13f5"
      },
      "execution_count": 17,
      "outputs": [
        {
          "output_type": "execute_result",
          "data": {
            "text/plain": [
              "1987"
            ]
          },
          "metadata": {},
          "execution_count": 17
        }
      ]
    },
    {
      "cell_type": "code",
      "source": [
        "ano_atual = datetime.date.today().year\n",
        "ano_nascimento = int(input('Informe o ano de nascimento: '))\n",
        "idade = ano_atual - ano_nascimento\n",
        "print(f'O meliante tem {idade} anos!')"
      ],
      "metadata": {
        "colab": {
          "base_uri": "https://localhost:8080/"
        },
        "id": "cUE77iEXJs8v",
        "outputId": "6e1eb70d-589e-47da-8e23-5f75e6904e55"
      },
      "execution_count": 18,
      "outputs": [
        {
          "output_type": "stream",
          "name": "stdout",
          "text": [
            "Informe o ano de nascimento: 1987\n",
            "O meliante tem 35 anos!\n"
          ]
        }
      ]
    },
    {
      "cell_type": "code",
      "source": [
        "def ler_nascimento():\n",
        "  dia = int(input('Que dia você nasceu? '))\n",
        "  mes = int(input('Que mês você nasceu? '))\n",
        "  ano = int(input('Que ano você nasceu? '))\n",
        "  return datetime.date(ano, mes, dia)"
      ],
      "metadata": {
        "id": "Ydns3t8JKinF"
      },
      "execution_count": 19,
      "outputs": []
    },
    {
      "cell_type": "code",
      "source": [
        "nascimento = ler_nascimento()\n",
        "dias_vividos = (datetime.date(2022, 3, 18) - nascimento).days\n",
        "print(f'Você já viveu {dias_vividos} dias')"
      ],
      "metadata": {
        "colab": {
          "base_uri": "https://localhost:8080/"
        },
        "id": "5TXpAzYDK7gj",
        "outputId": "0edfeec4-1112-4a80-872d-fface245b785"
      },
      "execution_count": 23,
      "outputs": [
        {
          "output_type": "stream",
          "name": "stdout",
          "text": [
            "Que dia você nasceu? 26\n",
            "Que mês você nasceu? 04\n",
            "Que ano você nasceu? 1987\n",
            "Você já viveu 12745 dias\n"
          ]
        }
      ]
    },
    {
      "cell_type": "markdown",
      "source": [
        "## Biblioteca \"random\"\n",
        "\n",
        "Link da documentação: https://docs.python.org/pt-br/3.10/library/random.html\n"
      ],
      "metadata": {
        "id": "swrz33XdIq7A"
      }
    },
    {
      "cell_type": "code",
      "source": [
        "import random"
      ],
      "metadata": {
        "id": "aNRm8s0jMqu9"
      },
      "execution_count": 24,
      "outputs": []
    },
    {
      "cell_type": "code",
      "source": [
        "random.random()"
      ],
      "metadata": {
        "colab": {
          "base_uri": "https://localhost:8080/"
        },
        "id": "3NjVvSHeMuh9",
        "outputId": "d63fda1d-eefa-4026-87a4-d8531c61277a"
      },
      "execution_count": 32,
      "outputs": [
        {
          "output_type": "execute_result",
          "data": {
            "text/plain": [
              "0.8161612509584927"
            ]
          },
          "metadata": {},
          "execution_count": 32
        }
      ]
    },
    {
      "cell_type": "code",
      "source": [
        "random.randint(1, 10) #entre 1 e 10"
      ],
      "metadata": {
        "colab": {
          "base_uri": "https://localhost:8080/"
        },
        "id": "kpG8jco_M4qI",
        "outputId": "67f65bdb-7aab-4a7d-e654-1e082dc0712c"
      },
      "execution_count": 40,
      "outputs": [
        {
          "output_type": "execute_result",
          "data": {
            "text/plain": [
              "4"
            ]
          },
          "metadata": {},
          "execution_count": 40
        }
      ]
    },
    {
      "cell_type": "code",
      "source": [
        "random.randrange(0, 10, 2) #entre 0 e 10, mmas apenas múltiplos de 2 :D"
      ],
      "metadata": {
        "colab": {
          "base_uri": "https://localhost:8080/"
        },
        "id": "EUsGx2IrNEX2",
        "outputId": "e779a6d1-aa66-4b73-bc10-fafdccfeeabe"
      },
      "execution_count": 45,
      "outputs": [
        {
          "output_type": "execute_result",
          "data": {
            "text/plain": [
              "8"
            ]
          },
          "metadata": {},
          "execution_count": 45
        }
      ]
    },
    {
      "cell_type": "code",
      "source": [
        "random.randrange(1, 100, 3) #entre 0 e 10, mmas apenas múltiplos de 2 :D"
      ],
      "metadata": {
        "colab": {
          "base_uri": "https://localhost:8080/"
        },
        "id": "hJ14AFVfNuvT",
        "outputId": "73ebc1c0-b9e7-4383-a020-92c3d68ad47e"
      },
      "execution_count": 48,
      "outputs": [
        {
          "output_type": "execute_result",
          "data": {
            "text/plain": [
              "4"
            ]
          },
          "metadata": {},
          "execution_count": 48
        }
      ]
    },
    {
      "cell_type": "code",
      "source": [
        "v = ['A', 'X', 'Traue', 123, 'a']\n",
        "v"
      ],
      "metadata": {
        "colab": {
          "base_uri": "https://localhost:8080/"
        },
        "id": "c-3ioT44OJxO",
        "outputId": "c6071c1c-97bd-46a7-daca-119b7787ce77"
      },
      "execution_count": 51,
      "outputs": [
        {
          "output_type": "execute_result",
          "data": {
            "text/plain": [
              "['A', 'X', 'Traue', 123, 'a']"
            ]
          },
          "metadata": {},
          "execution_count": 51
        }
      ]
    },
    {
      "cell_type": "code",
      "source": [
        "random.choice(v)"
      ],
      "metadata": {
        "colab": {
          "base_uri": "https://localhost:8080/",
          "height": 35
        },
        "id": "PdkIDKtSOZMb",
        "outputId": "91e9e3f0-dd92-41c4-fdcb-d7a2462d2aff"
      },
      "execution_count": 63,
      "outputs": [
        {
          "output_type": "execute_result",
          "data": {
            "text/plain": [
              "'Traue'"
            ],
            "application/vnd.google.colaboratory.intrinsic+json": {
              "type": "string"
            }
          },
          "metadata": {},
          "execution_count": 63
        }
      ]
    },
    {
      "cell_type": "markdown",
      "source": [
        "## Biblioteca \"time\""
      ],
      "metadata": {
        "id": "rjKw3INaIzvU"
      }
    },
    {
      "cell_type": "code",
      "source": [
        "import time as tm"
      ],
      "metadata": {
        "id": "Ugcj7-WHOy3I"
      },
      "execution_count": 2,
      "outputs": []
    },
    {
      "cell_type": "code",
      "source": [
        "tm.time()"
      ],
      "metadata": {
        "colab": {
          "base_uri": "https://localhost:8080/"
        },
        "id": "bjpLC8G2O2_t",
        "outputId": "a16b9218-7bbf-4006-a1d9-57807e336a66"
      },
      "execution_count": 3,
      "outputs": [
        {
          "output_type": "execute_result",
          "data": {
            "text/plain": [
              "1647610629.9383972"
            ]
          },
          "metadata": {},
          "execution_count": 3
        }
      ]
    },
    {
      "cell_type": "code",
      "source": [
        "t_inicial = tm.time()\n",
        "lista = []\n",
        "for i in range(0, 100000000):\n",
        "  lista.append(i)\n",
        "t_final = tm.time()"
      ],
      "metadata": {
        "id": "4hUkaelnPBiL"
      },
      "execution_count": 9,
      "outputs": []
    },
    {
      "cell_type": "code",
      "source": [
        "intervalo = t_final - t_inicial\n",
        "print(f'A execução demorou {intervalo}')"
      ],
      "metadata": {
        "colab": {
          "base_uri": "https://localhost:8080/"
        },
        "id": "Tgmt1tQYPyEI",
        "outputId": "0ec87594-fd0d-47cb-9a32-efac3b6ceb69"
      },
      "execution_count": 10,
      "outputs": [
        {
          "output_type": "stream",
          "name": "stdout",
          "text": [
            "A execução demorou 22.358611822128296\n"
          ]
        }
      ]
    },
    {
      "cell_type": "code",
      "source": [
        "print('Iniciando....')\n",
        "tm.sleep(3) #delay de 3 segundos na execução\n",
        "print('...')\n",
        "tm.sleep(4)\n",
        "print('Acabou...')"
      ],
      "metadata": {
        "colab": {
          "base_uri": "https://localhost:8080/"
        },
        "id": "eAECUTR0RLQ2",
        "outputId": "8c644b21-3305-401d-a438-913484502232"
      },
      "execution_count": 11,
      "outputs": [
        {
          "output_type": "stream",
          "name": "stdout",
          "text": [
            "Iniciando....\n",
            "...\n",
            "Acabou...\n"
          ]
        }
      ]
    }
  ]
}