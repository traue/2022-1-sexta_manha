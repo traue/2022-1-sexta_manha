{
  "nbformat": 4,
  "nbformat_minor": 0,
  "metadata": {
    "colab": {
      "name": "2 - Operações Matemáticas.ipynb",
      "provenance": []
    },
    "kernelspec": {
      "name": "python3",
      "display_name": "Python 3"
    },
    "language_info": {
      "name": "python"
    }
  },
  "cells": [
    {
      "cell_type": "markdown",
      "source": [
        "# Operações matemáticas"
      ],
      "metadata": {
        "id": "cd8ea8ZkHDGl"
      }
    },
    {
      "cell_type": "code",
      "source": [
        "x = 6\n",
        "y = 7"
      ],
      "metadata": {
        "id": "znBH_r6oHGlx"
      },
      "execution_count": 2,
      "outputs": []
    },
    {
      "cell_type": "code",
      "source": [
        "print(x, y)"
      ],
      "metadata": {
        "colab": {
          "base_uri": "https://localhost:8080/"
        },
        "id": "j0RVnYuQHevm",
        "outputId": "814ee49a-ff0c-46cb-f8f6-500a5325b585"
      },
      "execution_count": 3,
      "outputs": [
        {
          "output_type": "stream",
          "name": "stdout",
          "text": [
            "6 7\n"
          ]
        }
      ]
    },
    {
      "cell_type": "code",
      "source": [
        "z = x + y\n",
        "print(f'A soma é {z}')"
      ],
      "metadata": {
        "colab": {
          "base_uri": "https://localhost:8080/"
        },
        "id": "3RBX82N0Hj2q",
        "outputId": "edfa150b-4186-46f7-d952-b88742f5f2cc"
      },
      "execution_count": 8,
      "outputs": [
        {
          "output_type": "stream",
          "name": "stdout",
          "text": [
            "A soma é 13\n"
          ]
        }
      ]
    },
    {
      "cell_type": "code",
      "source": [
        "#outra forma de fazer a operação:\n",
        "print(f'A soma é {x + y}')"
      ],
      "metadata": {
        "colab": {
          "base_uri": "https://localhost:8080/"
        },
        "id": "uqePDOPbH3ja",
        "outputId": "22b78353-8273-497e-d876-8561edb32ff3"
      },
      "execution_count": 9,
      "outputs": [
        {
          "output_type": "stream",
          "name": "stdout",
          "text": [
            "A soma é 13\n"
          ]
        }
      ]
    },
    {
      "cell_type": "code",
      "source": [
        "sub = x - y\n",
        "div = x / y\n",
        "mult = x * y\n",
        "\n",
        "print(f'A subtração é {sub}')\n",
        "print(f'A divisão é {div}')\n",
        "print(f'A multiplicação é {mult}')"
      ],
      "metadata": {
        "colab": {
          "base_uri": "https://localhost:8080/"
        },
        "id": "u6EEKVTcH_nS",
        "outputId": "2857a7a2-502a-455a-a1ea-fd8be6774733"
      },
      "execution_count": 10,
      "outputs": [
        {
          "output_type": "stream",
          "name": "stdout",
          "text": [
            "A subtração é -1\n",
            "A divisão é 0.8571428571428571\n",
            "A multiplicação é 42\n"
          ]
        }
      ]
    },
    {
      "cell_type": "code",
      "source": [
        "operacao_1 = (x + y) * 3 #aqui o Python executa o () primeiro\n",
        "operacao_2 = x + y * 3 #aqui, o Python multiplica primeiro\n",
        "print(operacao_1)\n",
        "print(operacao_2)"
      ],
      "metadata": {
        "colab": {
          "base_uri": "https://localhost:8080/"
        },
        "id": "4uCD8m2EIT2l",
        "outputId": "2314e028-29e8-4dbe-cbfa-8a600fabeb2a"
      },
      "execution_count": 14,
      "outputs": [
        {
          "output_type": "stream",
          "name": "stdout",
          "text": [
            "39\n",
            "27\n"
          ]
        }
      ]
    },
    {
      "cell_type": "code",
      "source": [
        "#resto de uma divisão:\n",
        "\n",
        "resto = x % y\n",
        "print(resto)"
      ],
      "metadata": {
        "colab": {
          "base_uri": "https://localhost:8080/"
        },
        "id": "ek3vehP6I_is",
        "outputId": "eb92bac3-7cf5-4e57-8c5d-79133cdc41f8"
      },
      "execution_count": 16,
      "outputs": [
        {
          "output_type": "stream",
          "name": "stdout",
          "text": [
            "6\n"
          ]
        }
      ]
    },
    {
      "cell_type": "code",
      "source": [
        "#verificar se um número é par:\n",
        "a = 7\n",
        "\n",
        "print(f'Resto da divisão de {a} por 2 = {a % 2}')"
      ],
      "metadata": {
        "colab": {
          "base_uri": "https://localhost:8080/"
        },
        "id": "hCFKkhV4JTSf",
        "outputId": "4763ae33-c221-424f-9999-19642ca7fb0f"
      },
      "execution_count": 20,
      "outputs": [
        {
          "output_type": "stream",
          "name": "stdout",
          "text": [
            "Resto da divisão de 7 por 2 = 1\n"
          ]
        }
      ]
    },
    {
      "cell_type": "code",
      "source": [
        "#potenciação (a^b)\n",
        "pot = a**a\n",
        "print(pot)"
      ],
      "metadata": {
        "colab": {
          "base_uri": "https://localhost:8080/"
        },
        "id": "L1SAszBpLbLn",
        "outputId": "053bab4b-671a-4cac-9cc7-26468d2294ce"
      },
      "execution_count": 25,
      "outputs": [
        {
          "output_type": "stream",
          "name": "stdout",
          "text": [
            "823543\n"
          ]
        }
      ]
    },
    {
      "cell_type": "code",
      "source": [
        "import math #importa o pacote \"math\" que possui várias funções prontas\n",
        "\n",
        "print(math.sqrt(81)) #raiz quadrada\n",
        "print(math.pi)"
      ],
      "metadata": {
        "colab": {
          "base_uri": "https://localhost:8080/"
        },
        "id": "zmDN6GEoLwe6",
        "outputId": "1d3290bf-2ed3-4cf1-d8e5-fe3ae43f20dc"
      },
      "execution_count": 33,
      "outputs": [
        {
          "output_type": "stream",
          "name": "stdout",
          "text": [
            "9.0\n",
            "3.141592653589793\n"
          ]
        }
      ]
    },
    {
      "cell_type": "markdown",
      "source": [
        "## Arredondamento de valores"
      ],
      "metadata": {
        "id": "e2ttkcMgMcFA"
      }
    },
    {
      "cell_type": "code",
      "source": [
        "print(f'x = {x}; y = {y}')\n",
        "print(f'A divisão de x por y = {div}')\n",
        "print(f'Arredondando com 3 casas decimais fica {round(div, 3)}') #arredonda um número, neste caso com 3 caas decimais"
      ],
      "metadata": {
        "colab": {
          "base_uri": "https://localhost:8080/"
        },
        "id": "wb1ycgOsMjJY",
        "outputId": "00c3b5a0-fd30-4e20-ff2e-e9d9d26c231e"
      },
      "execution_count": 55,
      "outputs": [
        {
          "output_type": "stream",
          "name": "stdout",
          "text": [
            "x = 6; y = 7\n",
            "A divisão de x por y = 0.8571428571428571\n",
            "Arredondando com 3 casas decimais fica 0.857\n"
          ]
        }
      ]
    },
    {
      "cell_type": "code",
      "source": [
        "#reforçando o \"f\" em uma cadeia de caracteres:\n",
        "time = 'Bragantino'\n",
        "print('O time do professor é o', time, 'muito legal, não?!')\n",
        "print(f'O time do professor é o {time} muito legal, não?!')"
      ],
      "metadata": {
        "colab": {
          "base_uri": "https://localhost:8080/"
        },
        "id": "-s6NJYaqNbpP",
        "outputId": "03050aa2-c8cd-4a11-dc15-fbe2f4813de6"
      },
      "execution_count": 47,
      "outputs": [
        {
          "output_type": "stream",
          "name": "stdout",
          "text": [
            "O time do professor é o Bragantino muito legal, não?!\n",
            "O time do professor é o Bragantino muito legal, não?!\n"
          ]
        }
      ]
    },
    {
      "cell_type": "markdown",
      "source": [
        "# Exercícios de fixação\n",
        "\n",
        "\n",
        "(não vale nota, apenas para treino):\n",
        "\n",
        "1. Ler dois números inteiros, executar e mostrar o resultado das seguintes operações: adição, subtração, multiplicação e divisão\n",
        "\n",
        "2. Efetuar o cálculo da quantidade de litros de combustível gasto em uma viagem, utilizando um automóvel que faz 15 Km por litro. Para obter o cálculo, o usuário deve fornecer o tempo gasto na viagem e a velocidade média durante ela. Desta forma, será possível obter a distância percorrida com a fórmula DISTANCIA = TEMPO * VELOCIDADE. Tendo o valor da distância, basta calcular a quantidade de litros de combustível utilizada na viagem, com a fórmula: LITROS_USADOS = DISTANCIA / 15. O programa deve apresentar os valores da velocidade média, tempo gasto na viagem, a distância percorrida e a quantidade de litros utilizada na viagem"
      ],
      "metadata": {
        "id": "ACf0ltuePBQy"
      }
    },
    {
      "cell_type": "markdown",
      "source": [
        "### Resolução do EX1"
      ],
      "metadata": {
        "id": "CVN8-Ju2PlKl"
      }
    },
    {
      "cell_type": "code",
      "source": [
        "#Obentáção dos valores a partir do teclado (usuário digita):\n",
        "x = int(input('Informe o primeiro valor: '))\n",
        "y = int(input('Informe o segundo valor: '))"
      ],
      "metadata": {
        "colab": {
          "base_uri": "https://localhost:8080/"
        },
        "id": "IwpLhorJPoGF",
        "outputId": "41f10294-902b-4c40-9342-55fc3b9d8a4a"
      },
      "execution_count": 67,
      "outputs": [
        {
          "name": "stdout",
          "output_type": "stream",
          "text": [
            "Informe o primeiro valor: 100\n",
            "Informe o segundo valor: 5\n"
          ]
        }
      ]
    },
    {
      "cell_type": "code",
      "source": [
        "#realiza as operações e guarda em variáveis locais\n",
        "soma = x + y\n",
        "subtracao = x - y\n",
        "divisao = x / y\n",
        "multiplicacao = x * y"
      ],
      "metadata": {
        "id": "9KdOufRgPv2b"
      },
      "execution_count": 68,
      "outputs": []
    },
    {
      "cell_type": "code",
      "source": [
        "#exibição dos resultados\n",
        "print(f'A soma de {x} e {y} é {soma}')\n",
        "print(f'A subtração de {x} e {y} é {subtracao}')\n",
        "print(f'A multiplicação de {x} e {y} é {multiplicacao}')\n",
        "print(f'A divisão de {x} e {y} é {divisao}')"
      ],
      "metadata": {
        "colab": {
          "base_uri": "https://localhost:8080/"
        },
        "id": "dLzFE8MsQr7P",
        "outputId": "f91175d6-16ef-4740-fe48-9f2789b5cace"
      },
      "execution_count": 69,
      "outputs": [
        {
          "output_type": "stream",
          "name": "stdout",
          "text": [
            "A soma de 100 e 5 é 105\n",
            "A subtração de 100 e 5 é 95\n",
            "A multiplicação de 100 e 5 é 500\n",
            "A divisão de 100 e 5 é 20.0\n"
          ]
        }
      ]
    },
    {
      "cell_type": "markdown",
      "source": [
        "### Resolução do EX2"
      ],
      "metadata": {
        "id": "RdufuyRYRYtr"
      }
    },
    {
      "cell_type": "code",
      "source": [
        "#obtenção dos valores\n",
        "tempo_viagem = float(input('Quanto tempo você gastou na viagem (em h)? '))\n",
        "velocidade_media = float(input('Qual foi a velocidade média do veículo (Em Km/h): '))"
      ],
      "metadata": {
        "colab": {
          "base_uri": "https://localhost:8080/"
        },
        "id": "GlN8-Q4rRgeg",
        "outputId": "59d9ba04-8a48-469a-ae86-fa4920081438"
      },
      "execution_count": 70,
      "outputs": [
        {
          "name": "stdout",
          "output_type": "stream",
          "text": [
            "Quanto tempo você gastou na viagem (em h)? 2\n",
            "Qual foi a velocidade média do veículo (Em Km/h): 90\n"
          ]
        }
      ]
    },
    {
      "cell_type": "code",
      "source": [
        "#cálculos necessários:\n",
        "distancia = tempo_viagem * velocidade_media\n",
        "litros_utilizados = distancia / 15"
      ],
      "metadata": {
        "id": "mZ9DoEYnR4qO"
      },
      "execution_count": 71,
      "outputs": []
    },
    {
      "cell_type": "code",
      "source": [
        "#exibição dos resultados:\n",
        "print(f'A velocidade média foi de {velocidade_media}Km/h')\n",
        "print(f'O tempo gaso na viagem foi de {tempo_viagem}h')\n",
        "print(f'A distância percorrida foi de {distancia}Km')\n",
        "print(f'Utiliouz-se {litros_utilizados}L de combustível')"
      ],
      "metadata": {
        "colab": {
          "base_uri": "https://localhost:8080/"
        },
        "id": "EHcdISwCSLPz",
        "outputId": "711762b4-1a4f-4baf-cb95-a6ed0ff6a116"
      },
      "execution_count": 72,
      "outputs": [
        {
          "output_type": "stream",
          "name": "stdout",
          "text": [
            "A velocidade média foi de 90.0Km/h\n",
            "O tempo gaso na viagem foi de 2.0h\n",
            "A distância percorrida foi de 180.0Km\n",
            "Utiliouz-se 12.0L de combustível\n"
          ]
        }
      ]
    }
  ]
}