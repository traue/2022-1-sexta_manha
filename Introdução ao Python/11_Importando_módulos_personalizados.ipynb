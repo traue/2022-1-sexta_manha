{
  "nbformat": 4,
  "nbformat_minor": 0,
  "metadata": {
    "colab": {
      "name": "11_Importando módulos personalizados.ipynb",
      "provenance": [],
      "collapsed_sections": []
    },
    "kernelspec": {
      "name": "python3",
      "display_name": "Python 3"
    },
    "language_info": {
      "name": "python"
    }
  },
  "cells": [
    {
      "cell_type": "markdown",
      "source": [
        "# Módulos personalizados"
      ],
      "metadata": {
        "id": "APHtvzdlT8Ve"
      }
    },
    {
      "cell_type": "code",
      "execution_count": null,
      "metadata": {
        "id": "_jwn3r4dShDT"
      },
      "outputs": [],
      "source": [
        "import funcoes_uteis as ut"
      ]
    },
    {
      "cell_type": "code",
      "source": [
        "ut.soma(1, 2, 3)"
      ],
      "metadata": {
        "colab": {
          "base_uri": "https://localhost:8080/"
        },
        "id": "caLFYQdPUXpO",
        "outputId": "72327383-c23c-43fd-a099-e86df0329c46"
      },
      "execution_count": null,
      "outputs": [
        {
          "output_type": "execute_result",
          "data": {
            "text/plain": [
              "6"
            ]
          },
          "metadata": {},
          "execution_count": 2
        }
      ]
    },
    {
      "cell_type": "code",
      "source": [
        "ut.multiplica(2, 3, 4)"
      ],
      "metadata": {
        "colab": {
          "base_uri": "https://localhost:8080/"
        },
        "id": "e9VzaUqBUbei",
        "outputId": "edb274a9-f4ad-418c-b63b-522024a43cf9"
      },
      "execution_count": null,
      "outputs": [
        {
          "output_type": "execute_result",
          "data": {
            "text/plain": [
              "24"
            ]
          },
          "metadata": {},
          "execution_count": 3
        }
      ]
    },
    {
      "cell_type": "code",
      "source": [
        "ut.ePalindromo('Thiago')"
      ],
      "metadata": {
        "colab": {
          "base_uri": "https://localhost:8080/"
        },
        "id": "Bf7e03QKUfkz",
        "outputId": "8fba9300-7294-490b-8353-b183e701746b"
      },
      "execution_count": null,
      "outputs": [
        {
          "output_type": "execute_result",
          "data": {
            "text/plain": [
              "False"
            ]
          },
          "metadata": {},
          "execution_count": 4
        }
      ]
    },
    {
      "cell_type": "code",
      "source": [
        "ut.ePalindromo('xyzzyx')"
      ],
      "metadata": {
        "colab": {
          "base_uri": "https://localhost:8080/"
        },
        "id": "zWjLYwClUiVo",
        "outputId": "4e808705-e6de-4d9f-c601-2fcb58dd7cf0"
      },
      "execution_count": null,
      "outputs": [
        {
          "output_type": "execute_result",
          "data": {
            "text/plain": [
              "True"
            ]
          },
          "metadata": {},
          "execution_count": 5
        }
      ]
    },
    {
      "cell_type": "code",
      "source": [
        "ut.ePalindromo('otocomemocoto')"
      ],
      "metadata": {
        "colab": {
          "base_uri": "https://localhost:8080/"
        },
        "id": "l0LKwHzfUvLj",
        "outputId": "3ff3dce1-a4cc-4983-f980-a6a7daeab4db"
      },
      "execution_count": null,
      "outputs": [
        {
          "output_type": "execute_result",
          "data": {
            "text/plain": [
              "True"
            ]
          },
          "metadata": {},
          "execution_count": 7
        }
      ]
    },
    {
      "cell_type": "code",
      "source": [
        "ut.ePalindromo('anilina')"
      ],
      "metadata": {
        "colab": {
          "base_uri": "https://localhost:8080/"
        },
        "id": "HOtpkcqNU6Xv",
        "outputId": "9c685292-10c5-49c7-c006-e3396aea4b2d"
      },
      "execution_count": null,
      "outputs": [
        {
          "output_type": "execute_result",
          "data": {
            "text/plain": [
              "True"
            ]
          },
          "metadata": {},
          "execution_count": 8
        }
      ]
    },
    {
      "cell_type": "code",
      "source": [
        "ut.divisao(10, 2)"
      ],
      "metadata": {
        "colab": {
          "base_uri": "https://localhost:8080/"
        },
        "id": "62PFTug5VH9F",
        "outputId": "aa0f2e4b-a909-44ee-ea7a-98858e2fc735"
      },
      "execution_count": null,
      "outputs": [
        {
          "output_type": "execute_result",
          "data": {
            "text/plain": [
              "5.0"
            ]
          },
          "metadata": {},
          "execution_count": 6
        }
      ]
    },
    {
      "cell_type": "markdown",
      "source": [
        "# Exercício de fixação\n",
        "\n",
        "\n",
        "Crie um arquivo .py com duas funções\n",
        "\n",
        " - Função para ler um string (recebe como parâmetro uma mensagem e retorna o que o usuário digitou)\n",
        " - Função para ler um número float (recebe como parâmetro uma mensagem e retorna o que o usuário digitou)\n",
        " \n",
        "Importe o arquivo e teste"
      ],
      "metadata": {
        "id": "li89G7JkVpn4"
      }
    },
    {
      "cell_type": "markdown",
      "source": [
        "## Resolução do exercício\n",
        "\n",
        "O arquivo \"funcoes_ex_aula_11.py\" foi adicionado ao Colab (ele está disponível no Git)\n",
        "\n",
        "---\n",
        "\n"
      ],
      "metadata": {
        "id": "3-s5_Ig8Dd1l"
      }
    },
    {
      "cell_type": "code",
      "source": [
        "import funcoes_ex_aula_11 as exercicio"
      ],
      "metadata": {
        "id": "yGyhPKcrDmJn"
      },
      "execution_count": 1,
      "outputs": []
    },
    {
      "cell_type": "code",
      "source": [
        "retorno = exercicio.leitura('Informe seu nominho')\n",
        "\n",
        "print(retorno)"
      ],
      "metadata": {
        "colab": {
          "base_uri": "https://localhost:8080/"
        },
        "id": "vjZN1UruDtuv",
        "outputId": "ab1fd7b0-1e3a-42c7-ae54-783d242afeb5"
      },
      "execution_count": 3,
      "outputs": [
        {
          "output_type": "stream",
          "name": "stdout",
          "text": [
            "Informe seu nominhoThiago G. Traue\n",
            "Você digitou: Thiago G. Traue\n"
          ]
        }
      ]
    },
    {
      "cell_type": "code",
      "source": [
        "retorno = exercicio.leitura_float('Informe seu saldo em conta')\n",
        "\n",
        "print(retorno)"
      ],
      "metadata": {
        "colab": {
          "base_uri": "https://localhost:8080/"
        },
        "id": "XC1kyI4xD9MT",
        "outputId": "1c8fe0fa-72a5-44fb-9365-0c45a2dc4572"
      },
      "execution_count": 6,
      "outputs": [
        {
          "output_type": "stream",
          "name": "stdout",
          "text": [
            "Informe seu saldo em conta1.99\n",
            "Você digitou: 1.99\n"
          ]
        }
      ]
    }
  ]
}