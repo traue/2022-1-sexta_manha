{
  "nbformat": 4,
  "nbformat_minor": 0,
  "metadata": {
    "colab": {
      "name": "Aula - Grafo com Busca A*.ipynb",
      "provenance": [],
      "collapsed_sections": []
    },
    "kernelspec": {
      "name": "python3",
      "display_name": "Python 3"
    },
    "language_info": {
      "name": "python"
    }
  },
  "cells": [
    {
      "cell_type": "markdown",
      "source": [
        "# Grafo com Busca A*"
      ],
      "metadata": {
        "id": "LqpkLTk0ijF0"
      }
    },
    {
      "cell_type": "markdown",
      "source": [
        "## Grafo"
      ],
      "metadata": {
        "id": "ZUIlfG9dim4W"
      }
    },
    {
      "cell_type": "code",
      "source": [
        "class Vertice:\n",
        "\n",
        "  def __init__(self, rotulo, distancia_objetivo):\n",
        "    self.rotulo = rotulo\n",
        "    self.visitado = False\n",
        "    self.distancia_objetivo = distancia_objetivo\n",
        "    self.adjacentes = []\n",
        "\n",
        "  def adiciona_adjacente(self, adjacente):\n",
        "    self.adjacentes.append(adjacente)\n",
        "\n",
        "  def mostra_adjacentes(self):\n",
        "    for i in self.adjacentes:\n",
        "      print(i.vertice.rotulo, i.custo)"
      ],
      "metadata": {
        "id": "MLHhfiGLil6R"
      },
      "execution_count": 38,
      "outputs": []
    },
    {
      "cell_type": "code",
      "source": [
        "class Adjacente:\n",
        "  def __init__(self, vertice, custo):\n",
        "    self.vertice = vertice\n",
        "    self.custo = custo\n",
        "    #atributo novo para o algoritmo:\n",
        "    self.distancia_aestrela = vertice.distancia_objetivo + self.custo"
      ],
      "metadata": {
        "id": "CLNDsrDsiuTf"
      },
      "execution_count": 39,
      "outputs": []
    },
    {
      "cell_type": "code",
      "source": [
        "class Grafo:\n",
        "\n",
        "  arad = Vertice('Arad', 366)\n",
        "  zerind = Vertice('Zerind', 374)\n",
        "  oradea = Vertice('Oradea', 380)\n",
        "  sibiu = Vertice('Sibiu', 253)\n",
        "  timisoara = Vertice('Timisoara', 329)\n",
        "  lugoj = Vertice('Lugoj', 244)\n",
        "  mehadia = Vertice('Mehadia', 241)\n",
        "  dobreta = Vertice('Dobreta', 242)\n",
        "  craiova = Vertice('Craiova', 160)\n",
        "  rimnicu = Vertice('Rimnicu', 193)\n",
        "  fagaras = Vertice('Fagaras', 178)\n",
        "  pitesti = Vertice('Pitesti', 98)\n",
        "  bucharest = Vertice('Bucharest', 0)\n",
        "  giurgiu = Vertice('Giurgiu', 77)\n",
        "\n",
        "  arad.adiciona_adjacente(Adjacente(zerind, 75))\n",
        "  arad.adiciona_adjacente(Adjacente(sibiu, 140))\n",
        "  arad.adiciona_adjacente(Adjacente(timisoara, 118))\n",
        "\n",
        "  zerind.adiciona_adjacente(Adjacente(arad, 75))\n",
        "  zerind.adiciona_adjacente(Adjacente(oradea, 71))\n",
        "\n",
        "  oradea.adiciona_adjacente(Adjacente(zerind, 71))\n",
        "  oradea.adiciona_adjacente(Adjacente(sibiu, 151))\n",
        "\n",
        "  sibiu.adiciona_adjacente(Adjacente(oradea, 151))\n",
        "  sibiu.adiciona_adjacente(Adjacente(arad, 140))\n",
        "  sibiu.adiciona_adjacente(Adjacente(fagaras, 99))\n",
        "  sibiu.adiciona_adjacente(Adjacente(rimnicu, 80))\n",
        "\n",
        "  timisoara.adiciona_adjacente(Adjacente(arad, 118))\n",
        "  timisoara.adiciona_adjacente(Adjacente(lugoj, 111))\n",
        "\n",
        "  lugoj.adiciona_adjacente(Adjacente(timisoara, 111))\n",
        "  lugoj.adiciona_adjacente(Adjacente(mehadia, 70))\n",
        "\n",
        "  mehadia.adiciona_adjacente(Adjacente(lugoj, 70))\n",
        "  mehadia.adiciona_adjacente(Adjacente(dobreta, 75))\n",
        "\n",
        "  dobreta.adiciona_adjacente(Adjacente(mehadia, 75))\n",
        "  dobreta.adiciona_adjacente(Adjacente(craiova, 120))\n",
        "\n",
        "  craiova.adiciona_adjacente(Adjacente(dobreta, 120))\n",
        "  craiova.adiciona_adjacente(Adjacente(pitesti, 138))\n",
        "  craiova.adiciona_adjacente(Adjacente(rimnicu, 146))\n",
        "\n",
        "  rimnicu.adiciona_adjacente(Adjacente(craiova, 146))\n",
        "  rimnicu.adiciona_adjacente(Adjacente(sibiu, 80))\n",
        "  rimnicu.adiciona_adjacente(Adjacente(pitesti, 97))\n",
        "\n",
        "  fagaras.adiciona_adjacente(Adjacente(sibiu, 99))\n",
        "  fagaras.adiciona_adjacente(Adjacente(bucharest, 211))\n",
        "\n",
        "  pitesti.adiciona_adjacente(Adjacente(rimnicu, 97))\n",
        "  pitesti.adiciona_adjacente(Adjacente(craiova, 138))\n",
        "  pitesti.adiciona_adjacente(Adjacente(bucharest, 101))\n",
        "\n",
        "  bucharest.adiciona_adjacente(Adjacente(fagaras, 211))\n",
        "  bucharest.adiciona_adjacente(Adjacente(pitesti, 101))\n",
        "  bucharest.adiciona_adjacente(Adjacente(giurgiu, 90))"
      ],
      "metadata": {
        "id": "JDQnkjsajGem"
      },
      "execution_count": 40,
      "outputs": []
    },
    {
      "cell_type": "code",
      "source": [
        "grafo = Grafo()"
      ],
      "metadata": {
        "id": "21okUiNejKLk"
      },
      "execution_count": 41,
      "outputs": []
    },
    {
      "cell_type": "markdown",
      "source": [
        "## Vetor ordenado"
      ],
      "metadata": {
        "id": "2I7QtgPEjOA4"
      }
    },
    {
      "cell_type": "code",
      "source": [
        "import numpy as np"
      ],
      "metadata": {
        "id": "10s7E6vFjS6a"
      },
      "execution_count": 42,
      "outputs": []
    },
    {
      "cell_type": "code",
      "source": [
        "class VetorOrdenado:\n",
        "  \n",
        "  def __init__(self, capacidade):\n",
        "    self.capacidade = capacidade\n",
        "    self.ultima_posicao = -1\n",
        "    # Mudança no tipo de dados\n",
        "    self.valores = np.empty(self.capacidade, dtype=object)\n",
        "\n",
        "  # Referência para o vértice e comparação com a distância para o objetivo\n",
        "  def insere(self, adjacente):\n",
        "    if self.ultima_posicao == self.capacidade - 1:\n",
        "      print('Capacidade máxima atingida')\n",
        "      return\n",
        "    posicao = 0\n",
        "    for i in range(self.ultima_posicao + 1):\n",
        "      posicao = i\n",
        "      if self.valores[i].distancia_aestrela > adjacente.distancia_aestrela:\n",
        "        break\n",
        "      if i == self.ultima_posicao:\n",
        "        posicao = i + 1\n",
        "    x = self.ultima_posicao\n",
        "    while x >= posicao:\n",
        "      self.valores[x + 1] = self.valores[x]\n",
        "      x -= 1\n",
        "    self.valores[posicao] = adjacente\n",
        "    self.ultima_posicao += 1\n",
        "\n",
        "  def imprime(self):\n",
        "    if self.ultima_posicao == -1:\n",
        "      print('O vetor está vazio')\n",
        "    else:\n",
        "      for i in range(self.ultima_posicao + 1):\n",
        "        print(i, ' - ', self.valores[i].vertice.rotulo, ' - Custo:', \n",
        "              self.valores[i].custo, ' - Distância em linha reta:', \n",
        "              self.valores[i].vertice.distancia_objetivo, ' - Soma:',\n",
        "              self.valores[i].distancia_aestrela)  "
      ],
      "metadata": {
        "id": "G95b3VN9jTWA"
      },
      "execution_count": 43,
      "outputs": []
    },
    {
      "cell_type": "code",
      "source": [
        "grafo.arad.adjacentes[0].vertice.rotulo, grafo.arad.adjacentes[0].vertice.distancia_objetivo"
      ],
      "metadata": {
        "colab": {
          "base_uri": "https://localhost:8080/"
        },
        "id": "pl05KQJoljG1",
        "outputId": "ce803ac5-9cc7-46bb-fe9c-5c415ca98969"
      },
      "execution_count": 44,
      "outputs": [
        {
          "output_type": "execute_result",
          "data": {
            "text/plain": [
              "('Zerind', 374)"
            ]
          },
          "metadata": {},
          "execution_count": 44
        }
      ]
    },
    {
      "cell_type": "code",
      "source": [
        "grafo.arad.adjacentes[0].distancia_aestrela"
      ],
      "metadata": {
        "colab": {
          "base_uri": "https://localhost:8080/"
        },
        "id": "K-QHFhZpl8SZ",
        "outputId": "9dabf2eb-416c-411e-bec8-e46ef293ee3e"
      },
      "execution_count": 45,
      "outputs": [
        {
          "output_type": "execute_result",
          "data": {
            "text/plain": [
              "449"
            ]
          },
          "metadata": {},
          "execution_count": 45
        }
      ]
    },
    {
      "cell_type": "code",
      "source": [
        "vetor = VetorOrdenado(20)\n",
        "vetor.insere(grafo.arad.adjacentes[0])\n",
        "vetor.insere(grafo.arad.adjacentes[1])\n",
        "vetor.insere(grafo.arad.adjacentes[2])"
      ],
      "metadata": {
        "id": "HbUPDPmKmIZb"
      },
      "execution_count": 46,
      "outputs": []
    },
    {
      "cell_type": "code",
      "source": [
        "vetor.imprime()"
      ],
      "metadata": {
        "colab": {
          "base_uri": "https://localhost:8080/"
        },
        "id": "B90OEV6HmSHm",
        "outputId": "a0003612-c8b3-45d7-f540-bb2d4cc94752"
      },
      "execution_count": 47,
      "outputs": [
        {
          "output_type": "stream",
          "name": "stdout",
          "text": [
            "0  -  Sibiu  - Custo: 140  - Distância em linha reta: 253  - Soma: 393\n",
            "1  -  Timisoara  - Custo: 118  - Distância em linha reta: 329  - Soma: 447\n",
            "2  -  Zerind  - Custo: 75  - Distância em linha reta: 374  - Soma: 449\n"
          ]
        }
      ]
    },
    {
      "cell_type": "markdown",
      "source": [
        "# Busca A*"
      ],
      "metadata": {
        "id": "vA9KAr_mnWG8"
      }
    },
    {
      "cell_type": "code",
      "source": [
        "class BuscaAEstrela:\n",
        "  def __init__(self, objetivo):\n",
        "    self.objetivo = objetivo\n",
        "    self.encontrado = False\n",
        "  \n",
        "  def buscar(self, atual):\n",
        "    print(\"---------------\")\n",
        "    print(f\"Cidade Atual: {atual.rotulo}\")\n",
        "\n",
        "    if atual == self.objetivo:\n",
        "      self.encontrado = True\n",
        "      print(\"Objetivo encontrado! :D\")\n",
        "    else:\n",
        "      vetor_ordenado = VetorOrdenado(len(atual.adjacentes))\n",
        "      for adjacente in atual.adjacentes:\n",
        "        if adjacente.vertice.visitado == False:\n",
        "          adjacente.vertice.visitado = True\n",
        "          vetor_ordenado.insere(adjacente)\n",
        "      vetor_ordenado.imprime()\n",
        "\n",
        "      if vetor_ordenado.valores[0] != None:\n",
        "        self.buscar(vetor_ordenado.valores[0].vertice)"
      ],
      "metadata": {
        "id": "NdXItD4onYOo"
      },
      "execution_count": 50,
      "outputs": []
    },
    {
      "cell_type": "code",
      "source": [
        "busca_aestrela = BuscaAEstrela(grafo.bucharest)\n",
        "busca_aestrela.buscar(grafo.arad)"
      ],
      "metadata": {
        "colab": {
          "base_uri": "https://localhost:8080/"
        },
        "id": "-C7dbxYroucd",
        "outputId": "d5be2dda-a2c0-4226-8193-94d0547fe67b"
      },
      "execution_count": 51,
      "outputs": [
        {
          "output_type": "stream",
          "name": "stdout",
          "text": [
            "---------------\n",
            "Cidade Atual: Arad\n",
            "0  -  Sibiu  - Custo: 140  - Distância em linha reta: 253  - Soma: 393\n",
            "1  -  Timisoara  - Custo: 118  - Distância em linha reta: 329  - Soma: 447\n",
            "---------------\n",
            "Cidade Atual: Sibiu\n",
            "0  -  Rimnicu  - Custo: 80  - Distância em linha reta: 193  - Soma: 273\n",
            "1  -  Fagaras  - Custo: 99  - Distância em linha reta: 178  - Soma: 277\n",
            "2  -  Arad  - Custo: 140  - Distância em linha reta: 366  - Soma: 506\n",
            "3  -  Oradea  - Custo: 151  - Distância em linha reta: 380  - Soma: 531\n",
            "---------------\n",
            "Cidade Atual: Rimnicu\n",
            "0  -  Pitesti  - Custo: 97  - Distância em linha reta: 98  - Soma: 195\n",
            "1  -  Craiova  - Custo: 146  - Distância em linha reta: 160  - Soma: 306\n",
            "---------------\n",
            "Cidade Atual: Pitesti\n",
            "0  -  Bucharest  - Custo: 101  - Distância em linha reta: 0  - Soma: 101\n",
            "---------------\n",
            "Cidade Atual: Bucharest\n",
            "Objetivo encontrado! :D\n"
          ]
        }
      ]
    }
  ]
}