{
  "nbformat": 4,
  "nbformat_minor": 0,
  "metadata": {
    "colab": {
      "name": "Aula - Vetores Ordenados.ipynb",
      "provenance": [],
      "collapsed_sections": []
    },
    "kernelspec": {
      "name": "python3",
      "display_name": "Python 3"
    },
    "language_info": {
      "name": "python"
    }
  },
  "cells": [
    {
      "cell_type": "markdown",
      "source": [
        "# Vetor ordenado"
      ],
      "metadata": {
        "id": "T8ltJ31ydICZ"
      }
    },
    {
      "cell_type": "code",
      "execution_count": 28,
      "metadata": {
        "id": "YWf6868fdDAL"
      },
      "outputs": [],
      "source": [
        "import numpy as np"
      ]
    },
    {
      "cell_type": "code",
      "source": [
        "class VetorOrdenado:\n",
        " \n",
        "  def __init__(vetor, capacidade):\n",
        "    vetor.capacidade = capacidade\n",
        "    vetor.ultima_posicao = -1\n",
        "    vetor.valores = np.empty(vetor.capacidade, dtype=int)\n",
        "\n",
        "  # O(n)\n",
        "  def imprime(vetor):\n",
        "    if vetor.ultima_posicao == -1:\n",
        "      print('O vetor está vazio')\n",
        "    else:\n",
        "      for i in range(vetor.ultima_posicao + 1):\n",
        "        print('[{}] -> {}'.format(i, vetor.valores[i]))\n",
        "\n",
        "  # O(n)\n",
        "  def insere(vetor, valor):\n",
        "    if vetor.ultima_posicao == vetor.capacidade - 1:\n",
        "      print('Capacidade máxima atingida')\n",
        "      return\n",
        "\n",
        "    posicao = 0\n",
        "    for i in range(vetor.ultima_posicao + 1):\n",
        "      posicao = i\n",
        "      if vetor.valores[i] > valor:\n",
        "        break\n",
        "      if i == vetor.ultima_posicao: # se já percorreu o vetor inteiro deve inserir na última posição\n",
        "        posicao = i + 1\n",
        "\n",
        "    x = vetor.ultima_posicao\n",
        "    while x >= posicao:\n",
        "      vetor.valores[x + 1] = vetor.valores[x]\n",
        "      x -= 1 #x = x - 1\n",
        "\n",
        "    vetor.valores[posicao] = valor\n",
        "    vetor.ultima_posicao += 1\n",
        "\n",
        "  # O(n)\n",
        "  def pesquisa_linear(vetor, valor):\n",
        "    for i in range(vetor.ultima_posicao + 1):\n",
        "      if vetor.valores[i] > valor:\n",
        "        return -1\n",
        "      if vetor.valores[i] == valor:\n",
        "        return i\n",
        "      if i == vetor.ultima_posicao:\n",
        "        return -1\n",
        "\n",
        "  #dódigo corrigido pelo Dyego:\n",
        "  def pesquisa_linear_while(vetor,valor):\n",
        "    i = 0\n",
        "    while(i < len(vetor.valores)) and (vetor.valores[i] < valor):\n",
        "      i+=1\n",
        "    return -1 if(i >= len(vetor.valores) or vetor.valores[i]) != valor else i\n",
        "\n",
        "\n",
        "  def pesquisa_binaria(vetor, valor):\n",
        "    limite_inferior = 0\n",
        "    limite_superior = vetor.ultima_posicao\n",
        "\n",
        "    while True:\n",
        "      posicao_atual = int((limite_inferior + limite_superior) / 2)\n",
        "      #se encontrar na primeira tentativa:\n",
        "      if vetor.valores[posicao_atual] == valor:\n",
        "        return posicao_atual\n",
        "      ##não encontrou...:\n",
        "      elif limite_inferior > limite_superior:\n",
        "        return -1\n",
        "      #dividindo o vetor...:\n",
        "      else:\n",
        "        #limite inferior:\n",
        "        if vetor.valores[posicao_atual] < valor:\n",
        "          limite_inferior = posicao_atual + 1\n",
        "        #limite superior:\n",
        "        else:\n",
        "          limite_superior = posicao_atual - 1\n",
        "\n",
        "  def excluir(vetor, valor):\n",
        "    posicao = vetor.pesquisa_binaria(valor)\n",
        "    if posicao == -1:\n",
        "      return -1\n",
        "    else:\n",
        "      for i in range(posicao, vetor.ultima_posicao):\n",
        "        vetor.valores[i] = vetor.valores[i + 1];\n",
        "      \n",
        "      vetor.ultima_posicao -= 1"
      ],
      "metadata": {
        "id": "g7y-Wb8pdcvF"
      },
      "execution_count": 45,
      "outputs": []
    },
    {
      "cell_type": "markdown",
      "source": [
        "## Testes"
      ],
      "metadata": {
        "id": "ba-M0eKagoGs"
      }
    },
    {
      "cell_type": "code",
      "source": [
        "vetor = VetorOrdenado(4)\n",
        "vetor.imprime()"
      ],
      "metadata": {
        "colab": {
          "base_uri": "https://localhost:8080/"
        },
        "id": "oczZjk7Kgmgx",
        "outputId": "93fd2fa1-c229-45fc-b9dd-96cb70c039a3"
      },
      "execution_count": 30,
      "outputs": [
        {
          "output_type": "stream",
          "name": "stdout",
          "text": [
            "O vetor está vazio\n"
          ]
        }
      ]
    },
    {
      "cell_type": "code",
      "source": [
        "vetor.insere(7)\n",
        "vetor.imprime()"
      ],
      "metadata": {
        "colab": {
          "base_uri": "https://localhost:8080/"
        },
        "id": "AO5SuOwog2tg",
        "outputId": "f08e8b5d-7322-4067-899d-fe1c50478258"
      },
      "execution_count": 31,
      "outputs": [
        {
          "output_type": "stream",
          "name": "stdout",
          "text": [
            "[0] -> 7\n"
          ]
        }
      ]
    },
    {
      "cell_type": "code",
      "source": [
        "vetor.insere(37)\n",
        "vetor.imprime()"
      ],
      "metadata": {
        "colab": {
          "base_uri": "https://localhost:8080/"
        },
        "id": "afKEf_7lhjQC",
        "outputId": "9320c3db-98e4-451b-fdae-1e21f4c503bb"
      },
      "execution_count": 32,
      "outputs": [
        {
          "output_type": "stream",
          "name": "stdout",
          "text": [
            "[0] -> 7\n",
            "[1] -> 37\n"
          ]
        }
      ]
    },
    {
      "cell_type": "code",
      "source": [
        "vetor.insere(4)\n",
        "vetor.imprime()"
      ],
      "metadata": {
        "colab": {
          "base_uri": "https://localhost:8080/"
        },
        "id": "WrJxrjMvhn-Y",
        "outputId": "e5eabd43-b884-40cd-903e-056b5caff8cc"
      },
      "execution_count": 33,
      "outputs": [
        {
          "output_type": "stream",
          "name": "stdout",
          "text": [
            "[0] -> 4\n",
            "[1] -> 7\n",
            "[2] -> 37\n"
          ]
        }
      ]
    },
    {
      "cell_type": "code",
      "source": [
        "vetor.insere(50)"
      ],
      "metadata": {
        "id": "CpbCz-A5hvWy"
      },
      "execution_count": 34,
      "outputs": []
    },
    {
      "cell_type": "code",
      "source": [
        "vetor.pesquisa_linear(37)"
      ],
      "metadata": {
        "colab": {
          "base_uri": "https://localhost:8080/"
        },
        "id": "l6deVSERPCAq",
        "outputId": "10201477-8e33-421f-f567-5c4963d9c953"
      },
      "execution_count": 35,
      "outputs": [
        {
          "output_type": "execute_result",
          "data": {
            "text/plain": [
              "2"
            ]
          },
          "metadata": {},
          "execution_count": 35
        }
      ]
    },
    {
      "cell_type": "code",
      "source": [
        "vetor = VetorOrdenado(10)\n",
        "vetor.insere(8)\n",
        "vetor.insere(9)\n",
        "vetor.insere(4)\n",
        "vetor.insere(1)\n",
        "vetor.insere(5)\n",
        "vetor.insere(7)\n",
        "vetor.insere(11)\n",
        "vetor.insere(13)\n",
        "vetor.insere(2)\n",
        "vetor.insere(6)\n",
        "vetor.imprime()"
      ],
      "metadata": {
        "colab": {
          "base_uri": "https://localhost:8080/"
        },
        "id": "ZvoLWu-lPTi6",
        "outputId": "b716adc2-be55-4d50-ec13-db1f5d04c1ec"
      },
      "execution_count": 46,
      "outputs": [
        {
          "output_type": "stream",
          "name": "stdout",
          "text": [
            "[0] -> 1\n",
            "[1] -> 2\n",
            "[2] -> 4\n",
            "[3] -> 5\n",
            "[4] -> 6\n",
            "[5] -> 7\n",
            "[6] -> 8\n",
            "[7] -> 9\n",
            "[8] -> 11\n",
            "[9] -> 13\n"
          ]
        }
      ]
    },
    {
      "cell_type": "code",
      "source": [
        "print(vetor.pesquisa_linear(13))\n",
        "print(vetor.pesquisa_linear_while(7))"
      ],
      "metadata": {
        "colab": {
          "base_uri": "https://localhost:8080/"
        },
        "id": "1U9mJxBtTGkS",
        "outputId": "ee3faf8f-4739-442c-dc19-82331c27c839"
      },
      "execution_count": 47,
      "outputs": [
        {
          "output_type": "stream",
          "name": "stdout",
          "text": [
            "9\n",
            "5\n"
          ]
        }
      ]
    },
    {
      "cell_type": "code",
      "source": [
        "vetor.pesquisa_linear_while(8)"
      ],
      "metadata": {
        "colab": {
          "base_uri": "https://localhost:8080/"
        },
        "id": "_bKFWkjMTLLl",
        "outputId": "62a31dd5-a912-4d16-fe9a-4c0744b5bee0"
      },
      "execution_count": 48,
      "outputs": [
        {
          "output_type": "execute_result",
          "data": {
            "text/plain": [
              "6"
            ]
          },
          "metadata": {},
          "execution_count": 48
        }
      ]
    },
    {
      "cell_type": "code",
      "source": [
        "vetor.pesquisa_binaria(15)"
      ],
      "metadata": {
        "colab": {
          "base_uri": "https://localhost:8080/"
        },
        "id": "vrZFkqedbiCJ",
        "outputId": "ef8f9cd3-09b9-412b-94a5-702797debad0"
      },
      "execution_count": 49,
      "outputs": [
        {
          "output_type": "execute_result",
          "data": {
            "text/plain": [
              "-1"
            ]
          },
          "metadata": {},
          "execution_count": 49
        }
      ]
    },
    {
      "cell_type": "code",
      "source": [
        "vetor.excluir(9)\n",
        "vetor.imprime()"
      ],
      "metadata": {
        "colab": {
          "base_uri": "https://localhost:8080/"
        },
        "id": "mQeLcnvTcpaR",
        "outputId": "608e292d-0a99-4a8f-85a7-a18b1f5ee9bb"
      },
      "execution_count": 52,
      "outputs": [
        {
          "output_type": "stream",
          "name": "stdout",
          "text": [
            "[0] -> 1\n",
            "[1] -> 2\n",
            "[2] -> 4\n",
            "[3] -> 5\n",
            "[4] -> 6\n",
            "[5] -> 7\n",
            "[6] -> 8\n",
            "[7] -> 11\n",
            "[8] -> 13\n"
          ]
        }
      ]
    },
    {
      "cell_type": "code",
      "source": [
        "vetor.excluir(13)\n",
        "vetor.imprime()"
      ],
      "metadata": {
        "colab": {
          "base_uri": "https://localhost:8080/"
        },
        "id": "Zmx-Aue6cznH",
        "outputId": "5194c267-9697-4717-b057-60b645efbfbd"
      },
      "execution_count": 56,
      "outputs": [
        {
          "output_type": "stream",
          "name": "stdout",
          "text": [
            "[0] -> 1\n",
            "[1] -> 2\n",
            "[2] -> 4\n",
            "[3] -> 5\n",
            "[4] -> 6\n",
            "[5] -> 7\n",
            "[6] -> 8\n",
            "[7] -> 11\n"
          ]
        }
      ]
    },
    {
      "cell_type": "code",
      "source": [
        "vetor.excluir(1)\n",
        "vetor.excluir(2)\n",
        "vetor.excluir(3)\n",
        "vetor.excluir(4)\n",
        "vetor.excluir(5)\n",
        "vetor.excluir(6)\n",
        "vetor.excluir(7)\n",
        "vetor.excluir(11)\n",
        "\n",
        "vetor.imprime()\n",
        "\n",
        "vetor.excluir(8)\n",
        "\n",
        "vetor.imprime()"
      ],
      "metadata": {
        "colab": {
          "base_uri": "https://localhost:8080/"
        },
        "id": "jqLxOyU0c-Zd",
        "outputId": "a7732942-4051-430f-bd64-1dafd9b33414"
      },
      "execution_count": 58,
      "outputs": [
        {
          "output_type": "stream",
          "name": "stdout",
          "text": [
            "[0] -> 8\n",
            "O vetor está vazio\n"
          ]
        }
      ]
    }
  ]
}