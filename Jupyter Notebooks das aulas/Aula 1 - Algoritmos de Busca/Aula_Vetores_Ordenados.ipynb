{
  "nbformat": 4,
  "nbformat_minor": 0,
  "metadata": {
    "colab": {
      "name": "Aula - Vetores Ordenados.ipynb",
      "provenance": [],
      "collapsed_sections": []
    },
    "kernelspec": {
      "name": "python3",
      "display_name": "Python 3"
    },
    "language_info": {
      "name": "python"
    }
  },
  "cells": [
    {
      "cell_type": "markdown",
      "source": [
        "# Vetor ordenado"
      ],
      "metadata": {
        "id": "T8ltJ31ydICZ"
      }
    },
    {
      "cell_type": "code",
      "execution_count": 1,
      "metadata": {
        "id": "YWf6868fdDAL"
      },
      "outputs": [],
      "source": [
        "import numpy as np"
      ]
    },
    {
      "cell_type": "code",
      "source": [
        "class VetorOrdenado:\n",
        "\n",
        "  def __init__(vetor, capacidade):\n",
        "    vetor.capacidade = capacidade\n",
        "    vetor.ultima_posicao = -1\n",
        "    vetor.valores = np.empty(vetor.capacidade, dtype=int)\n",
        "\n",
        "  #impressão dos valores do vetor, consultando índice por íncice\n",
        "  def imprime(vetor):\n",
        "    if(vetor.ultima_posicao == -1):\n",
        "      print(\"O vetor está vazio!\")\n",
        "    else:\n",
        "      for i in range(vetor.ultima_posicao + 1):\n",
        "        print(f'[{i}] -> {vetor.valores[i]}')\n",
        "  \n",
        "  def insere(vetor, valor):\n",
        "    if(vetor.ultima_posicao == vetor.capacidade - 1):\n",
        "      print('Impossível inserir. Capacidade máxima já atingida!')\n",
        "      return\n",
        "    \n",
        "    posicao = 0\n",
        "    for i in range(vetor.ultima_posicao + 1):\n",
        "      posicao = i\n",
        "      if vetor.valores[i] > valor:\n",
        "        break\n",
        "      #se já percorreu o vetor inteiro deve inserir na última posição:\n",
        "      if i == vetor.ultima_posicao:\n",
        "        posicao = i + 1\n",
        "\n",
        "    x = vetor.ultima_posicao\n",
        "    while x >= posicao:\n",
        "      vetor.valores[x + 1] = vetor.valores[x]\n",
        "      x -= 1 #x = x - 1\n",
        "\n",
        "    vetor.valores[posicao] = valor\n",
        "    vetor.ultima_posicao += 1\n",
        "\n",
        "  ##faltam os métodos para busca linear e busca binária, além do método de remoção"
      ],
      "metadata": {
        "id": "g7y-Wb8pdcvF"
      },
      "execution_count": 2,
      "outputs": []
    },
    {
      "cell_type": "markdown",
      "source": [
        "## Testes"
      ],
      "metadata": {
        "id": "ba-M0eKagoGs"
      }
    },
    {
      "cell_type": "code",
      "source": [
        "vetor = VetorOrdenado(10)\n",
        "vetor.imprime()"
      ],
      "metadata": {
        "colab": {
          "base_uri": "https://localhost:8080/"
        },
        "id": "oczZjk7Kgmgx",
        "outputId": "3d03b621-7b60-48ce-ca0b-80807f1854a2"
      },
      "execution_count": 3,
      "outputs": [
        {
          "output_type": "stream",
          "name": "stdout",
          "text": [
            "O vetor está vazio!\n"
          ]
        }
      ]
    },
    {
      "cell_type": "code",
      "source": [
        "vetor.insere(7)\n",
        "vetor.imprime()"
      ],
      "metadata": {
        "colab": {
          "base_uri": "https://localhost:8080/"
        },
        "id": "AO5SuOwog2tg",
        "outputId": "95438ebb-4d85-4b2f-b6d7-a0f0bfcae48f"
      },
      "execution_count": 4,
      "outputs": [
        {
          "output_type": "stream",
          "name": "stdout",
          "text": [
            "[0] -> 7\n"
          ]
        }
      ]
    },
    {
      "cell_type": "code",
      "source": [
        "vetor.insere(37)\n",
        "vetor.imprime()"
      ],
      "metadata": {
        "colab": {
          "base_uri": "https://localhost:8080/"
        },
        "id": "afKEf_7lhjQC",
        "outputId": "93862dca-50ec-45bf-e3c9-06293d3bd0ce"
      },
      "execution_count": 5,
      "outputs": [
        {
          "output_type": "stream",
          "name": "stdout",
          "text": [
            "[0] -> 7\n",
            "[1] -> 37\n"
          ]
        }
      ]
    },
    {
      "cell_type": "code",
      "source": [
        "vetor.insere(4)\n",
        "vetor.imprime()"
      ],
      "metadata": {
        "colab": {
          "base_uri": "https://localhost:8080/"
        },
        "id": "WrJxrjMvhn-Y",
        "outputId": "85279296-c26d-4267-85ea-be2cc916000e"
      },
      "execution_count": 6,
      "outputs": [
        {
          "output_type": "stream",
          "name": "stdout",
          "text": [
            "[0] -> 4\n",
            "[1] -> 7\n",
            "[2] -> 37\n"
          ]
        }
      ]
    },
    {
      "cell_type": "code",
      "source": [
        "vetor.insere(50)\n",
        "vetor.insere(123)\n",
        "vetor.insere(3)\n",
        "vetor.insere(4)\n",
        "vetor.imprime()"
      ],
      "metadata": {
        "colab": {
          "base_uri": "https://localhost:8080/"
        },
        "id": "CpbCz-A5hvWy",
        "outputId": "b9be4205-1b39-4b82-f692-3094a6ca9ba6"
      },
      "execution_count": 7,
      "outputs": [
        {
          "output_type": "stream",
          "name": "stdout",
          "text": [
            "[0] -> 3\n",
            "[1] -> 4\n",
            "[2] -> 4\n",
            "[3] -> 7\n",
            "[4] -> 37\n",
            "[5] -> 50\n",
            "[6] -> 123\n"
          ]
        }
      ]
    }
  ]
}