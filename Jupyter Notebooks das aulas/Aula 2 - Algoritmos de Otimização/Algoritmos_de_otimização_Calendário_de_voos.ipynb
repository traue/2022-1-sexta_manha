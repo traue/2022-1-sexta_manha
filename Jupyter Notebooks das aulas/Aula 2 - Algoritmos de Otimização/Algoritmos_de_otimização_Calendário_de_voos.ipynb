{
  "nbformat": 4,
  "nbformat_minor": 0,
  "metadata": {
    "colab": {
      "name": "Algoritmos de otimização - Calendário de voos.ipynb",
      "provenance": [],
      "collapsed_sections": [],
      "toc_visible": true
    },
    "kernelspec": {
      "name": "python3",
      "display_name": "Python 3"
    },
    "language_info": {
      "name": "python"
    }
  },
  "cells": [
    {
      "cell_type": "markdown",
      "source": [
        "# Algoritmos de otimização - Calendário de voos"
      ],
      "metadata": {
        "id": "1TXEZpDme5H6"
      }
    },
    {
      "cell_type": "markdown",
      "source": [
        "## Representação do problema"
      ],
      "metadata": {
        "id": "aYnlUb_letro"
      }
    },
    {
      "cell_type": "code",
      "source": [
        "#para montar o Drive do Google nos \"contents\"\n",
        "from google.colab import drive\n",
        "drive.mount('/content/drive')"
      ],
      "metadata": {
        "id": "AiQjpKG4e_dG",
        "colab": {
          "base_uri": "https://localhost:8080/"
        },
        "outputId": "a1a1481c-893c-4f7f-a2fd-dd1fd1f3a3a0"
      },
      "execution_count": 3,
      "outputs": [
        {
          "output_type": "stream",
          "name": "stdout",
          "text": [
            "Mounted at /content/drive\n"
          ]
        }
      ]
    },
    {
      "cell_type": "markdown",
      "source": [
        "**A representação dos voos será da seguinte forma:**\n",
        "\n",
        "Vamos definir uma estutura para representar os voos em um MAPA, assim:\n",
        "\n",
        "voos(k,v), onde:\n",
        "\n",
        "k = origem,destino\n",
        "\n",
        "v = hora de saída, hora de chegada, preço\n",
        "\n",
        "EXEMPLO:\n",
        "\n",
        "```\n",
        "voos = {{'BRU', 'FCO'}: ['15:35', '18:40', '382']};\n",
        "\n",
        "print(voos['BRU', 'FCO]) #IMPRIME TODAS AS INFOS DO VOO \n",
        "print(voos[('BRU', 'FCO')][0], #IMPRIME O HORÁRIO DE SAÍDA\n",
        "voos[('BRU', 'FCO')][1], #IMPRIME O HORÁRIO DE CHEGADA\n",
        "voos[('BRU', 'FCO')][2]) #IMPRIME O PREÇO\n",
        "```\n"
      ],
      "metadata": {
        "id": "QXuHR5p1gQp8"
      }
    },
    {
      "cell_type": "code",
      "source": [
        "#cria o mapa para os voos:\n",
        "voos = {}\n",
        "\n",
        "for linha in open('/content/drive/MyDrive/Colab Notebooks/Aula 2 - Algoritmos de Otimização/voos.txt'):\n",
        "  #só pra testar se o arquivo foi aberto...:\n",
        "  #print(linha)\n",
        "  #print(linha.split(',')) #split separa cada item da linha em uma posição em um vetor\n",
        "  \n",
        "  #criamos 5 variáveis para receber as infromações necessárias de cada voo\n",
        "  origem, destino, saida, chegada, preco = linha.split(',')\n",
        "\n",
        "  #gera uma chave (k) para um MAP (no caso, do voo):\n",
        "  voos.setdefault((origem, destino), [])\n",
        "\n",
        "  #acrescenta as informações de voo (v) no (k):\n",
        "  voos[(origem, destino)].append((saida, chegada, int(preco)))"
      ],
      "metadata": {
        "id": "jWvP1KK1iIDW"
      },
      "execution_count": 6,
      "outputs": []
    },
    {
      "cell_type": "code",
      "source": [
        "voos"
      ],
      "metadata": {
        "colab": {
          "base_uri": "https://localhost:8080/"
        },
        "id": "2fjcaHChkb-J",
        "outputId": "3b977c14-5017-45db-f64f-fb85c3410042"
      },
      "execution_count": 7,
      "outputs": [
        {
          "output_type": "execute_result",
          "data": {
            "text/plain": [
              "{('BRU', 'FCO'): [('6:12', '10:22', 230),\n",
              "  ('7:53', '11:37', 433),\n",
              "  ('9:08', '12:12', 364),\n",
              "  ('10:30', '14:57', 290),\n",
              "  ('12:19', '15:25', 342),\n",
              "  ('13:54', '18:02', 294),\n",
              "  ('15:44', '18:55', 382),\n",
              "  ('16:52', '20:48', 448),\n",
              "  ('18:26', '21:29', 464),\n",
              "  ('20:07', '23:27', 473)],\n",
              " ('CDG', 'FCO'): [('6:25', '9:30', 335),\n",
              "  ('7:34', '9:40', 324),\n",
              "  ('9:15', '12:29', 225),\n",
              "  ('11:28', '14:40', 248),\n",
              "  ('12:05', '15:30', 330),\n",
              "  ('14:01', '17:24', 338),\n",
              "  ('15:34', '18:11', 326),\n",
              "  ('17:07', '20:04', 291),\n",
              "  ('18:23', '21:35', 134),\n",
              "  ('19:53', '22:21', 173)],\n",
              " ('DUB', 'FCO'): [('6:17', '8:26', 89),\n",
              "  ('8:04', '10:11', 95),\n",
              "  ('9:45', '11:50', 172),\n",
              "  ('11:16', '13:29', 83),\n",
              "  ('12:34', '15:02', 109),\n",
              "  ('13:40', '15:37', 138),\n",
              "  ('15:27', '17:18', 151),\n",
              "  ('17:11', '18:30', 108),\n",
              "  ('18:34', '19:36', 136),\n",
              "  ('20:17', '22:22', 102)],\n",
              " ('FCO', 'BRU'): [('6:09', '9:49', 414),\n",
              "  ('7:57', '11:15', 347),\n",
              "  ('9:49', '13:51', 229),\n",
              "  ('10:51', '14:16', 256),\n",
              "  ('12:20', '16:34', 500),\n",
              "  ('14:20', '17:32', 332),\n",
              "  ('15:49', '20:10', 497),\n",
              "  ('17:14', '20:59', 277),\n",
              "  ('18:44', '22:42', 351),\n",
              "  ('19:57', '23:15', 512)],\n",
              " ('FCO', 'CDG'): [('6:33', '9:14', 172),\n",
              "  ('8:23', '11:07', 143),\n",
              "  ('9:25', '12:46', 295),\n",
              "  ('11:08', '14:38', 262),\n",
              "  ('12:37', '15:05', 170),\n",
              "  ('14:08', '16:09', 232),\n",
              "  ('15:23', '18:49', 150),\n",
              "  ('16:50', '19:26', 304),\n",
              "  ('18:07', '21:30', 355),\n",
              "  ('20:27', '23:42', 169)],\n",
              " ('FCO', 'DUB'): [('6:39', '8:09', 86),\n",
              "  ('8:23', '10:28', 149),\n",
              "  ('9:58', '11:18', 130),\n",
              "  ('10:33', '12:03', 74),\n",
              "  ('12:08', '14:05', 142),\n",
              "  ('13:39', '15:30', 74),\n",
              "  ('15:25', '16:58', 62),\n",
              "  ('17:03', '18:03', 103),\n",
              "  ('18:24', '20:49', 124),\n",
              "  ('19:58', '21:23', 142)],\n",
              " ('FCO', 'LHR'): [('6:58', '9:01', 238),\n",
              "  ('8:19', '11:16', 122),\n",
              "  ('9:58', '12:56', 249),\n",
              "  ('10:32', '13:16', 139),\n",
              "  ('12:01', '13:41', 267),\n",
              "  ('13:37', '15:33', 142),\n",
              "  ('15:50', '18:45', 243),\n",
              "  ('16:33', '18:15', 253),\n",
              "  ('18:17', '21:04', 259),\n",
              "  ('19:46', '21:45', 214)],\n",
              " ('FCO', 'LIS'): [('6:19', '8:13', 239),\n",
              "  ('8:04', '10:59', 136),\n",
              "  ('9:31', '11:43', 210),\n",
              "  ('11:07', '13:24', 171),\n",
              "  ('12:31', '14:02', 234),\n",
              "  ('14:05', '15:47', 226),\n",
              "  ('15:07', '17:21', 129),\n",
              "  ('16:35', '18:56', 144),\n",
              "  ('18:25', '20:34', 205),\n",
              "  ('20:05', '21:44', 172)],\n",
              " ('FCO', 'MAD'): [('6:03', '8:43', 219),\n",
              "  ('7:50', '10:08', 164),\n",
              "  ('9:11', '10:42', 172),\n",
              "  ('10:33', '13:11', 132),\n",
              "  ('12:08', '14:47', 231),\n",
              "  ('14:19', '17:09', 190),\n",
              "  ('15:04', '17:23', 189),\n",
              "  ('17:06', '20:00', 95),\n",
              "  ('18:33', '20:22', 143),\n",
              "  ('19:32', '21:25', 160)],\n",
              " ('LHR', 'FCO'): [('6:08', '8:06', 224),\n",
              "  ('8:27', '10:45', 139),\n",
              "  ('9:15', '12:14', 247),\n",
              "  ('10:53', '13:36', 189),\n",
              "  ('12:08', '14:59', 149),\n",
              "  ('13:40', '15:38', 137),\n",
              "  ('15:23', '17:25', 232),\n",
              "  ('17:08', '19:08', 262),\n",
              "  ('18:35', '20:28', 204),\n",
              "  ('20:30', '23:11', 114)],\n",
              " ('LIS', 'FCO'): [('6:11', '8:31', 249),\n",
              "  ('7:39', '10:24', 219),\n",
              "  ('9:15', '12:03', 99),\n",
              "  ('11:08', '13:07', 175),\n",
              "  ('12:18', '14:56', 172),\n",
              "  ('13:37', '15:08', 250),\n",
              "  ('15:03', '16:42', 135),\n",
              "  ('16:51', '19:09', 147),\n",
              "  ('18:12', '20:17', 242),\n",
              "  ('20:05', '22:06', 261)],\n",
              " ('MAD', 'FCO'): [('6:05', '8:32', 174),\n",
              "  ('8:25', '10:34', 157),\n",
              "  ('9:42', '11:32', 169),\n",
              "  ('11:01', '12:39', 260),\n",
              "  ('12:44', '14:17', 134),\n",
              "  ('14:22', '16:32', 126),\n",
              "  ('15:58', '18:40', 173),\n",
              "  ('16:43', '19:00', 246),\n",
              "  ('18:48', '21:45', 246),\n",
              "  ('19:50', '22:24', 269)]}"
            ]
          },
          "metadata": {},
          "execution_count": 7
        }
      ]
    },
    {
      "cell_type": "code",
      "source": [
        "#voos específicos de Lisboa até Roma (exemplo):\n",
        "voos['LIS', 'FCO']"
      ],
      "metadata": {
        "colab": {
          "base_uri": "https://localhost:8080/"
        },
        "id": "YacKZF2bk47m",
        "outputId": "0af3372e-7d4e-4c92-fc31-782ea6b107a2"
      },
      "execution_count": 8,
      "outputs": [
        {
          "output_type": "execute_result",
          "data": {
            "text/plain": [
              "[('6:11', '8:31', 249),\n",
              " ('7:39', '10:24', 219),\n",
              " ('9:15', '12:03', 99),\n",
              " ('11:08', '13:07', 175),\n",
              " ('12:18', '14:56', 172),\n",
              " ('13:37', '15:08', 250),\n",
              " ('15:03', '16:42', 135),\n",
              " ('16:51', '19:09', 147),\n",
              " ('18:12', '20:17', 242),\n",
              " ('20:05', '22:06', 261)]"
            ]
          },
          "metadata": {},
          "execution_count": 8
        }
      ]
    },
    {
      "cell_type": "code",
      "source": [
        "#representação dos viajantes (pessoas):\n",
        "\n",
        "pessoas = [('Viajante 1', 'LIS'),  # Lisboa\n",
        "           ('Viajante 2', 'MAD'),  # Madrid\n",
        "           ('Viajante 3', 'CDG'),  # Paris\n",
        "           ('Viajante 4', 'DUB'),  # Dublin\n",
        "           ('Viajante 5', 'BRU'),  # Bruxelas\n",
        "           ('Viajante 6', 'LHR'),] # Londres "
      ],
      "metadata": {
        "id": "R8xNdGa0ltu6"
      },
      "execution_count": 9,
      "outputs": []
    },
    {
      "cell_type": "code",
      "source": [
        "pessoas[0]"
      ],
      "metadata": {
        "colab": {
          "base_uri": "https://localhost:8080/"
        },
        "id": "s3lxfmJfmjeJ",
        "outputId": "67878bb7-9b27-481c-8f4c-0d637377ef21"
      },
      "execution_count": 14,
      "outputs": [
        {
          "output_type": "execute_result",
          "data": {
            "text/plain": [
              "('Viajante 1', 'LIS')"
            ]
          },
          "metadata": {},
          "execution_count": 14
        }
      ]
    },
    {
      "cell_type": "code",
      "source": [
        "# Representação do aeroport do destino:\n",
        "destino = 'FCO' # Roma"
      ],
      "metadata": {
        "id": "b8TirVUnm2A5"
      },
      "execution_count": 15,
      "outputs": []
    },
    {
      "cell_type": "code",
      "source": [
        "# Representação da solução: Será realizada com um VETOR de 12 POSIÇÕES\n",
        "#   -> 6 voos de IDA + 6 voos de volta\n",
        "# (ida e volta para cada pessoa)\n",
        "# pessoa1: ida, volta\n",
        "# pessoa2: ida, volta\n",
        "#\n",
        "# Lembrando que a ordem das pessoas é LISBOA, MADRID, PARIS, DUBLIN, BRUXELAS, LONRES\n",
        "# Vetor resultante (exemplo) será algo assim:\n",
        "# [0] -> DE LISBOA PARA ROMA, VOO 1 (SEGUNDO voo da lista de voos)\n",
        "# [1] -> DE ROMA PARA LISBOA, VOO 2 (TERCEIRO voo da lista de voos)\n",
        "# [2] -> DE MADRID PARA ROMA, VOO 3 (QUARTO voo da lista de voos)\n",
        "# [3] -> DE ROMA PARA MADRID, VOO 2 (TERCEIRO voo da lista de voos)\n",
        "# ...\n",
        "\n",
        "# algo assim...:\n",
        "\n",
        "agenda = [1,2, 3,2, 7,3, 6,3, 2,4, 5,3]\n",
        "len(agenda)"
      ],
      "metadata": {
        "colab": {
          "base_uri": "https://localhost:8080/"
        },
        "id": "mWTfdZHinEda",
        "outputId": "dfc6e495-478f-48ba-9a00-b32661423b19"
      },
      "execution_count": 16,
      "outputs": [
        {
          "output_type": "execute_result",
          "data": {
            "text/plain": [
              "12"
            ]
          },
          "metadata": {},
          "execution_count": 16
        }
      ]
    },
    {
      "cell_type": "code",
      "source": [
        "len(agenda) // 2"
      ],
      "metadata": {
        "colab": {
          "base_uri": "https://localhost:8080/"
        },
        "id": "1iWKicQYpGma",
        "outputId": "13073df7-20c2-4c13-8e8c-4f38562978b7"
      },
      "execution_count": 17,
      "outputs": [
        {
          "output_type": "execute_result",
          "data": {
            "text/plain": [
              "6"
            ]
          },
          "metadata": {},
          "execution_count": 17
        }
      ]
    },
    {
      "cell_type": "code",
      "source": [
        "#Importante lembrar para usarmos no algoritmo de otimização, a representação da origem\n",
        "pessoas[1][1] #origem"
      ],
      "metadata": {
        "colab": {
          "base_uri": "https://localhost:8080/",
          "height": 35
        },
        "id": "MsC0UxSspd67",
        "outputId": "52980241-7333-433f-9b1e-4623794398b5"
      },
      "execution_count": 21,
      "outputs": [
        {
          "output_type": "execute_result",
          "data": {
            "text/plain": [
              "'MAD'"
            ],
            "application/vnd.google.colaboratory.intrinsic+json": {
              "type": "string"
            }
          },
          "metadata": {},
          "execution_count": 21
        }
      ]
    },
    {
      "cell_type": "markdown",
      "source": [
        "## Função para impressão da agenda"
      ],
      "metadata": {
        "id": "FjObxTDep2pA"
      }
    },
    {
      "cell_type": "code",
      "source": [
        "from prettytable import PrettyTable #de https://pypi.org/project/prettytable/\n",
        "\n",
        "def imprimir_voos(agenda):\n",
        "  id_voo = -1\n",
        "  preco_total = 0\n",
        "  tabela = PrettyTable(['Pessoa', 'Origem', 'Destino', 'Hora de Saída', 'Hora de Chegada', 'Valor'])\n",
        "  for i in range(len(agenda) // 2):\n",
        "    nome = pessoas[i][0] #pega o nome do viajante\n",
        "    origem = pessoas[i][1] #pega o aeroporto de origem\n",
        "    id_voo += 1 #auxiliar para percorrer a lista da agenda\n",
        "    ida = voos[(origem, destino)][agenda[id_voo]] #indice da agenda dos voos\n",
        "    preco_total += ida[2]\n",
        "    volta = voos[(destino, origem)][agenda[id_voo]]\n",
        "    preco_total += volta[2]\n",
        "    valor_pessoal = ida[2] + volta[2]\n",
        "\n",
        "\n",
        "    #acrescenta a linha na tabela...:\n",
        "    tabela.add_row([nome, origem, destino, ida[0], ida[1], ida[2]])\n",
        "    tabela.add_row([nome, destino, origem, volta[0], volta[1], volta[2]])\n",
        "    tabela.add_row([' ', ' ', ' ', ' ', 'Total deste passageiro:', valor_pessoal])\n",
        "    tabela.add_row(['-', '-', '-', '-', '-', '-'])\n",
        "\n",
        "  print(tabela)\n",
        "  print(f'Valor total gasto: {preco_total}')"
      ],
      "metadata": {
        "id": "_on4DmPAp6MY"
      },
      "execution_count": 34,
      "outputs": []
    },
    {
      "cell_type": "code",
      "source": [
        "agenda = [2,3, 3,2, 7,3, 6,3, 2,4, 5,3]\n",
        "imprimir_voos(agenda)"
      ],
      "metadata": {
        "colab": {
          "base_uri": "https://localhost:8080/"
        },
        "id": "Ee0mTgVGtYWq",
        "outputId": "94bd3504-0443-4876-cef1-1bb9b176a269"
      },
      "execution_count": 35,
      "outputs": [
        {
          "output_type": "stream",
          "name": "stdout",
          "text": [
            "+------------+--------+---------+---------------+-------------------------+-------+\n",
            "|   Pessoa   | Origem | Destino | Hora de Saída |     Hora de Chegada     | Valor |\n",
            "+------------+--------+---------+---------------+-------------------------+-------+\n",
            "| Viajante 1 |  LIS   |   FCO   |      9:15     |          12:03          |   99  |\n",
            "| Viajante 1 |  FCO   |   LIS   |      9:31     |          11:43          |  210  |\n",
            "|            |        |         |               | Total deste passageiro: |  309  |\n",
            "|     -      |   -    |    -    |       -       |            -            |   -   |\n",
            "| Viajante 2 |  MAD   |   FCO   |     11:01     |          12:39          |  260  |\n",
            "| Viajante 2 |  FCO   |   MAD   |     10:33     |          13:11          |  132  |\n",
            "|            |        |         |               | Total deste passageiro: |  392  |\n",
            "|     -      |   -    |    -    |       -       |            -            |   -   |\n",
            "| Viajante 3 |  CDG   |   FCO   |     11:28     |          14:40          |  248  |\n",
            "| Viajante 3 |  FCO   |   CDG   |     11:08     |          14:38          |  262  |\n",
            "|            |        |         |               | Total deste passageiro: |  510  |\n",
            "|     -      |   -    |    -    |       -       |            -            |   -   |\n",
            "| Viajante 4 |  DUB   |   FCO   |      9:45     |          11:50          |  172  |\n",
            "| Viajante 4 |  FCO   |   DUB   |      9:58     |          11:18          |  130  |\n",
            "|            |        |         |               | Total deste passageiro: |  302  |\n",
            "|     -      |   -    |    -    |       -       |            -            |   -   |\n",
            "| Viajante 5 |  BRU   |   FCO   |     16:52     |          20:48          |  448  |\n",
            "| Viajante 5 |  FCO   |   BRU   |     17:14     |          20:59          |  277  |\n",
            "|            |        |         |               | Total deste passageiro: |  725  |\n",
            "|     -      |   -    |    -    |       -       |            -            |   -   |\n",
            "| Viajante 6 |  LHR   |   FCO   |     10:53     |          13:36          |  189  |\n",
            "| Viajante 6 |  FCO   |   LHR   |     10:32     |          13:16          |  139  |\n",
            "|            |        |         |               | Total deste passageiro: |  328  |\n",
            "|     -      |   -    |    -    |       -       |            -            |   -   |\n",
            "+------------+--------+---------+---------------+-------------------------+-------+\n",
            "Valor total gasto: 2566\n"
          ]
        }
      ]
    },
    {
      "cell_type": "code",
      "source": [
        "#apenas para ILUSTRAR a QUANTIDDE de COMBINAÇÕES possíveis para essa solução:\n",
        "10**12"
      ],
      "metadata": {
        "colab": {
          "base_uri": "https://localhost:8080/"
        },
        "id": "thivhmj-vLgz",
        "outputId": "f198c6f8-dd1a-4f3b-f165-e6b211c3cfcb"
      },
      "execution_count": 36,
      "outputs": [
        {
          "output_type": "execute_result",
          "data": {
            "text/plain": [
              "1000000000000"
            ]
          },
          "metadata": {},
          "execution_count": 36
        }
      ]
    },
    {
      "cell_type": "markdown",
      "source": [
        "## Fitness function (Função de custo)\n",
        "\n",
        "Veremos na próxima aula\n",
        "\n"
      ],
      "metadata": {
        "id": "ahHSy0Qqvq9p"
      }
    }
  ]
}