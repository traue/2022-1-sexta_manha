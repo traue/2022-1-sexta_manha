{
  "nbformat": 4,
  "nbformat_minor": 0,
  "metadata": {
    "colab": {
      "name": "Algoritmos de otimização - Calendário de voos.ipynb",
      "provenance": [],
      "collapsed_sections": []
    },
    "kernelspec": {
      "name": "python3",
      "display_name": "Python 3"
    },
    "language_info": {
      "name": "python"
    }
  },
  "cells": [
    {
      "cell_type": "markdown",
      "source": [
        "# Algoritmos de otimização - Calendário de voos"
      ],
      "metadata": {
        "id": "1TXEZpDme5H6"
      }
    },
    {
      "cell_type": "markdown",
      "source": [
        "## Representação do problema"
      ],
      "metadata": {
        "id": "aYnlUb_letro"
      }
    },
    {
      "cell_type": "code",
      "source": [
        "#para montar o Drive do Google nos \"contents\"\n",
        "from google.colab import drive\n",
        "drive.mount('/content/drive')"
      ],
      "metadata": {
        "id": "AiQjpKG4e_dG",
        "colab": {
          "base_uri": "https://localhost:8080/"
        },
        "outputId": "df86f77b-a985-4034-9d8e-a08f2bc5c68f"
      },
      "execution_count": 35,
      "outputs": [
        {
          "output_type": "stream",
          "name": "stdout",
          "text": [
            "Drive already mounted at /content/drive; to attempt to forcibly remount, call drive.mount(\"/content/drive\", force_remount=True).\n"
          ]
        }
      ]
    },
    {
      "cell_type": "markdown",
      "source": [
        "**A representação dos voos será da seguinte forma:**\n",
        "\n",
        "Vamos definir uma estutura para representar os voos em um MAPA, assim:\n",
        "\n",
        "voos(k,v), onde:\n",
        "\n",
        "k = origem,destino\n",
        "\n",
        "v = hora de saída, hora de chegada, preço\n",
        "\n",
        "EXEMPLO:\n",
        "\n",
        "```\n",
        "voos = {{'BRU', 'FCO'}: ['15:35', '18:40', '382']};\n",
        "\n",
        "print(voos['BRU', 'FCO]) #IMPRIME TODAS AS INFOS DO VOO \n",
        "print(voos[('BRU', 'FCO')][0], #IMPRIME O HORÁRIO DE SAÍDA\n",
        "voos[('BRU', 'FCO')][1], #IMPRIME O HORÁRIO DE CHEGADA\n",
        "voos[('BRU', 'FCO')][2]) #IMPRIME O PREÇO\n",
        "```\n"
      ],
      "metadata": {
        "id": "QXuHR5p1gQp8"
      }
    },
    {
      "cell_type": "code",
      "source": [
        "#cria o mapa para os voos:\n",
        "voos = {}\n",
        "\n",
        "for linha in open('/content/drive/MyDrive/Colab Notebooks/Aula 2 - Algoritmos de Otimização/voos.txt'):\n",
        "  #só pra testar se o arquivo foi aberto...:\n",
        "  #print(linha)\n",
        "  #print(linha.split(',')) #split separa cada item da linha em uma posição em um vetor\n",
        "  \n",
        "  #criamos 5 variáveis para receber as infromações necessárias de cada voo\n",
        "  origem, destino, saida, chegada, preco = linha.split(',')\n",
        "\n",
        "  #gera uma chave (k) para um MAP (no caso, do voo):\n",
        "  voos.setdefault((origem, destino), [])\n",
        "\n",
        "  #acrescenta as informações de voo (v) no (k):\n",
        "  voos[(origem, destino)].append((saida, chegada, int(preco)))"
      ],
      "metadata": {
        "id": "jWvP1KK1iIDW"
      },
      "execution_count": 77,
      "outputs": []
    },
    {
      "cell_type": "code",
      "source": [
        "voos"
      ],
      "metadata": {
        "colab": {
          "base_uri": "https://localhost:8080/"
        },
        "id": "2fjcaHChkb-J",
        "outputId": "515df5af-6581-40d5-e466-109dac1e5eae"
      },
      "execution_count": 78,
      "outputs": [
        {
          "output_type": "execute_result",
          "data": {
            "text/plain": [
              "{('BRU', 'FCO'): [('6:12', '10:22', 230),\n",
              "  ('7:53', '11:37', 433),\n",
              "  ('9:08', '12:12', 364),\n",
              "  ('10:30', '14:57', 290),\n",
              "  ('12:19', '15:25', 342),\n",
              "  ('13:54', '18:02', 294),\n",
              "  ('15:44', '18:55', 382),\n",
              "  ('16:52', '20:48', 448),\n",
              "  ('18:26', '21:29', 464),\n",
              "  ('20:07', '23:27', 473)],\n",
              " ('CDG', 'FCO'): [('6:25', '9:30', 335),\n",
              "  ('7:34', '9:40', 324),\n",
              "  ('9:15', '12:29', 225),\n",
              "  ('11:28', '14:40', 248),\n",
              "  ('12:05', '15:30', 330),\n",
              "  ('14:01', '17:24', 338),\n",
              "  ('15:34', '18:11', 326),\n",
              "  ('17:07', '20:04', 291),\n",
              "  ('18:23', '21:35', 134),\n",
              "  ('19:53', '22:21', 173)],\n",
              " ('DUB', 'FCO'): [('6:17', '8:26', 89),\n",
              "  ('8:04', '10:11', 95),\n",
              "  ('9:45', '11:50', 172),\n",
              "  ('11:16', '13:29', 83),\n",
              "  ('12:34', '15:02', 109),\n",
              "  ('13:40', '15:37', 138),\n",
              "  ('15:27', '17:18', 151),\n",
              "  ('17:11', '18:30', 108),\n",
              "  ('18:34', '19:36', 136),\n",
              "  ('20:17', '22:22', 102)],\n",
              " ('FCO', 'BRU'): [('6:09', '9:49', 414),\n",
              "  ('7:57', '11:15', 347),\n",
              "  ('9:49', '13:51', 229),\n",
              "  ('10:51', '14:16', 256),\n",
              "  ('12:20', '16:34', 500),\n",
              "  ('14:20', '17:32', 332),\n",
              "  ('15:49', '20:10', 497),\n",
              "  ('17:14', '20:59', 277),\n",
              "  ('18:44', '22:42', 351),\n",
              "  ('19:57', '23:15', 512)],\n",
              " ('FCO', 'CDG'): [('6:33', '9:14', 172),\n",
              "  ('8:23', '11:07', 143),\n",
              "  ('9:25', '12:46', 295),\n",
              "  ('11:08', '14:38', 262),\n",
              "  ('12:37', '15:05', 170),\n",
              "  ('14:08', '16:09', 232),\n",
              "  ('15:23', '18:49', 150),\n",
              "  ('16:50', '19:26', 304),\n",
              "  ('18:07', '21:30', 355),\n",
              "  ('20:27', '23:42', 169)],\n",
              " ('FCO', 'DUB'): [('6:39', '8:09', 86),\n",
              "  ('8:23', '10:28', 149),\n",
              "  ('9:58', '11:18', 130),\n",
              "  ('10:33', '12:03', 74),\n",
              "  ('12:08', '14:05', 142),\n",
              "  ('13:39', '15:30', 74),\n",
              "  ('15:25', '16:58', 62),\n",
              "  ('17:03', '18:03', 103),\n",
              "  ('18:24', '20:49', 124),\n",
              "  ('19:58', '21:23', 142)],\n",
              " ('FCO', 'LHR'): [('6:58', '9:01', 238),\n",
              "  ('8:19', '11:16', 122),\n",
              "  ('9:58', '12:56', 249),\n",
              "  ('10:32', '13:16', 139),\n",
              "  ('12:01', '13:41', 267),\n",
              "  ('13:37', '15:33', 142),\n",
              "  ('15:50', '18:45', 243),\n",
              "  ('16:33', '18:15', 253),\n",
              "  ('18:17', '21:04', 259),\n",
              "  ('19:46', '21:45', 214)],\n",
              " ('FCO', 'LIS'): [('6:19', '8:13', 239),\n",
              "  ('8:04', '10:59', 136),\n",
              "  ('9:31', '11:43', 210),\n",
              "  ('11:07', '13:24', 171),\n",
              "  ('12:31', '14:02', 234),\n",
              "  ('14:05', '15:47', 226),\n",
              "  ('15:07', '17:21', 129),\n",
              "  ('16:35', '18:56', 144),\n",
              "  ('18:25', '20:34', 205),\n",
              "  ('20:05', '21:44', 172)],\n",
              " ('FCO', 'MAD'): [('6:03', '8:43', 219),\n",
              "  ('7:50', '10:08', 164),\n",
              "  ('9:11', '10:42', 172),\n",
              "  ('10:33', '13:11', 132),\n",
              "  ('12:08', '14:47', 231),\n",
              "  ('14:19', '17:09', 190),\n",
              "  ('15:04', '17:23', 189),\n",
              "  ('17:06', '20:00', 95),\n",
              "  ('18:33', '20:22', 143),\n",
              "  ('19:32', '21:25', 160)],\n",
              " ('LHR', 'FCO'): [('6:08', '8:06', 224),\n",
              "  ('8:27', '10:45', 139),\n",
              "  ('9:15', '12:14', 247),\n",
              "  ('10:53', '13:36', 189),\n",
              "  ('12:08', '14:59', 149),\n",
              "  ('13:40', '15:38', 137),\n",
              "  ('15:23', '17:25', 232),\n",
              "  ('17:08', '19:08', 262),\n",
              "  ('18:35', '20:28', 204),\n",
              "  ('20:30', '23:11', 114)],\n",
              " ('LIS', 'FCO'): [('6:11', '8:31', 249),\n",
              "  ('7:39', '10:24', 219),\n",
              "  ('9:15', '12:03', 99),\n",
              "  ('11:08', '13:07', 175),\n",
              "  ('12:18', '14:56', 172),\n",
              "  ('13:37', '15:08', 250),\n",
              "  ('15:03', '16:42', 135),\n",
              "  ('16:51', '19:09', 147),\n",
              "  ('18:12', '20:17', 242),\n",
              "  ('20:05', '22:06', 261)],\n",
              " ('MAD', 'FCO'): [('6:05', '8:32', 174),\n",
              "  ('8:25', '10:34', 157),\n",
              "  ('9:42', '11:32', 169),\n",
              "  ('11:01', '12:39', 260),\n",
              "  ('12:44', '14:17', 134),\n",
              "  ('14:22', '16:32', 126),\n",
              "  ('15:58', '18:40', 173),\n",
              "  ('16:43', '19:00', 246),\n",
              "  ('18:48', '21:45', 246),\n",
              "  ('19:50', '22:24', 269)]}"
            ]
          },
          "metadata": {},
          "execution_count": 78
        }
      ]
    },
    {
      "cell_type": "code",
      "source": [
        "#voos específicos de Lisboa até Roma (exemplo):\n",
        "voos['LIS', 'FCO']"
      ],
      "metadata": {
        "colab": {
          "base_uri": "https://localhost:8080/"
        },
        "id": "YacKZF2bk47m",
        "outputId": "89708b37-1857-4b80-81f2-5db9d6f23b4b"
      },
      "execution_count": 38,
      "outputs": [
        {
          "output_type": "execute_result",
          "data": {
            "text/plain": [
              "[('6:11', '8:31', 249),\n",
              " ('7:39', '10:24', 219),\n",
              " ('9:15', '12:03', 99),\n",
              " ('11:08', '13:07', 175),\n",
              " ('12:18', '14:56', 172),\n",
              " ('13:37', '15:08', 250),\n",
              " ('15:03', '16:42', 135),\n",
              " ('16:51', '19:09', 147),\n",
              " ('18:12', '20:17', 242),\n",
              " ('20:05', '22:06', 261)]"
            ]
          },
          "metadata": {},
          "execution_count": 38
        }
      ]
    },
    {
      "cell_type": "code",
      "source": [
        "#representação dos viajantes (pessoas):\n",
        "\n",
        "pessoas = [('Viajante 1', 'LIS'),  # Lisboa\n",
        "           ('Viajante 2', 'MAD'),  # Madrid\n",
        "           ('Viajante 3', 'CDG'),  # Paris\n",
        "           ('Viajante 4', 'DUB'),  # Dublin\n",
        "           ('Viajante 5', 'BRU'),  # Bruxelas\n",
        "           ('Viajante 6', 'LHR')] # Londres "
      ],
      "metadata": {
        "id": "R8xNdGa0ltu6"
      },
      "execution_count": 80,
      "outputs": []
    },
    {
      "cell_type": "code",
      "source": [
        "pessoas[0]"
      ],
      "metadata": {
        "colab": {
          "base_uri": "https://localhost:8080/"
        },
        "id": "s3lxfmJfmjeJ",
        "outputId": "d9fefea4-aa36-42bc-a26e-5a38f3735972"
      },
      "execution_count": 81,
      "outputs": [
        {
          "output_type": "execute_result",
          "data": {
            "text/plain": [
              "('Viajante 1', 'LIS')"
            ]
          },
          "metadata": {},
          "execution_count": 81
        }
      ]
    },
    {
      "cell_type": "code",
      "source": [
        "# Representação do aeroport do destino:\n",
        "destino = 'FCO' # Roma"
      ],
      "metadata": {
        "id": "b8TirVUnm2A5"
      },
      "execution_count": 82,
      "outputs": []
    },
    {
      "cell_type": "code",
      "source": [
        "# Representação da solução: Será realizada com um VETOR de 12 POSIÇÕES\n",
        "#   -> 6 voos de IDA + 6 voos de volta\n",
        "# (ida e volta para cada pessoa)\n",
        "# pessoa1: ida, volta\n",
        "# pessoa2: ida, volta\n",
        "#\n",
        "# Lembrando que a ordem das pessoas é LISBOA, MADRID, PARIS, DUBLIN, BRUXELAS, LONRES\n",
        "# Vetor resultante (exemplo) será algo assim:\n",
        "# [0] -> DE LISBOA PARA ROMA, VOO 1 (SEGUNDO voo da lista de voos)\n",
        "# [1] -> DE ROMA PARA LISBOA, VOO 2 (TERCEIRO voo da lista de voos)\n",
        "# [2] -> DE MADRID PARA ROMA, VOO 3 (QUARTO voo da lista de voos)\n",
        "# [3] -> DE ROMA PARA MADRID, VOO 2 (TERCEIRO voo da lista de voos)\n",
        "# ...\n",
        "\n",
        "# algo assim...:\n",
        "\n",
        "agenda = [1,2, 3,2, 7,3, 6,3, 2,4, 5,3]\n",
        "len(agenda)"
      ],
      "metadata": {
        "colab": {
          "base_uri": "https://localhost:8080/"
        },
        "id": "mWTfdZHinEda",
        "outputId": "03dbd0a5-ada8-459f-f51d-5abf159fd5ea"
      },
      "execution_count": 83,
      "outputs": [
        {
          "output_type": "execute_result",
          "data": {
            "text/plain": [
              "12"
            ]
          },
          "metadata": {},
          "execution_count": 83
        }
      ]
    },
    {
      "cell_type": "code",
      "source": [
        "len(agenda) // 2"
      ],
      "metadata": {
        "colab": {
          "base_uri": "https://localhost:8080/"
        },
        "id": "1iWKicQYpGma",
        "outputId": "5eb5d0a5-b7ed-4302-da37-e8a55a1ac5e2"
      },
      "execution_count": 84,
      "outputs": [
        {
          "output_type": "execute_result",
          "data": {
            "text/plain": [
              "6"
            ]
          },
          "metadata": {},
          "execution_count": 84
        }
      ]
    },
    {
      "cell_type": "code",
      "source": [
        "#Importante lembrar para usarmos no algoritmo de otimização, a representação da origem\n",
        "pessoas[1][1] #origem"
      ],
      "metadata": {
        "colab": {
          "base_uri": "https://localhost:8080/",
          "height": 35
        },
        "id": "MsC0UxSspd67",
        "outputId": "ef1df4ad-46e4-43b6-be66-ad0de9746547"
      },
      "execution_count": 85,
      "outputs": [
        {
          "output_type": "execute_result",
          "data": {
            "text/plain": [
              "'MAD'"
            ],
            "application/vnd.google.colaboratory.intrinsic+json": {
              "type": "string"
            }
          },
          "metadata": {},
          "execution_count": 85
        }
      ]
    },
    {
      "cell_type": "markdown",
      "source": [
        "## Função para impressão da agenda"
      ],
      "metadata": {
        "id": "FjObxTDep2pA"
      }
    },
    {
      "cell_type": "code",
      "source": [
        "from prettytable import PrettyTable #de https://pypi.org/project/prettytable/\n",
        "\n",
        "def imprimir_voos(agenda):\n",
        "  id_voo = -1\n",
        "  preco_total = 0\n",
        "  tabela = PrettyTable(['Pessoa', 'Origem', 'Destino', 'Hora de Saída', 'Hora de Chegada', 'Valor'])\n",
        "  for i in range(len(agenda) // 2):\n",
        "    nome = pessoas[i][0]   #nome da pessoa de de ida (usamos o nome da cidade)\n",
        "    origem = pessoas[i][1] #sigla do aeroporto de origem \n",
        "    id_voo += 1 # auxiliar para percorrer a lista da agenda\n",
        "    ida = voos[(origem, destino)][agenda[id_voo]] #indices da agenda nos voos\n",
        "    preco_total += ida[2]\n",
        "    id_voo += 1\n",
        "    volta = voos[(destino, origem)][agenda[id_voo]]\n",
        "    preco_total += volta[2]\n",
        "    valor_pessoal = ida[2] + volta[2]\n",
        "\n",
        "\n",
        "    #acrescenta a linha na tabela...:\n",
        "    tabela.add_row([nome, origem, destino, ida[0], ida[1], ida[2]])\n",
        "    tabela.add_row([nome, destino, origem, volta[0], volta[1], volta[2]])\n",
        "    tabela.add_row([' ', ' ', ' ', ' ', 'Total deste passageiro:', valor_pessoal])\n",
        "    tabela.add_row(['-', '-', '-', '-', '-', '-'])\n",
        "\n",
        "  print(tabela)\n",
        "  print(f'Valor total gasto: {preco_total}')"
      ],
      "metadata": {
        "id": "_on4DmPAp6MY"
      },
      "execution_count": 86,
      "outputs": []
    },
    {
      "cell_type": "code",
      "source": [
        "agenda = [2,3, 3,2, 7,3, 6,3, 2,4, 5,3]\n",
        "imprimir_voos(agenda)"
      ],
      "metadata": {
        "colab": {
          "base_uri": "https://localhost:8080/"
        },
        "id": "Ee0mTgVGtYWq",
        "outputId": "22dc4b95-c01f-4e9f-f8c4-96fcd260731b"
      },
      "execution_count": 87,
      "outputs": [
        {
          "output_type": "stream",
          "name": "stdout",
          "text": [
            "+------------+--------+---------+---------------+-------------------------+-------+\n",
            "|   Pessoa   | Origem | Destino | Hora de Saída |     Hora de Chegada     | Valor |\n",
            "+------------+--------+---------+---------------+-------------------------+-------+\n",
            "| Viajante 1 |  LIS   |   FCO   |      9:15     |          12:03          |   99  |\n",
            "| Viajante 1 |  FCO   |   LIS   |     11:07     |          13:24          |  171  |\n",
            "|            |        |         |               | Total deste passageiro: |  270  |\n",
            "|     -      |   -    |    -    |       -       |            -            |   -   |\n",
            "| Viajante 2 |  MAD   |   FCO   |     11:01     |          12:39          |  260  |\n",
            "| Viajante 2 |  FCO   |   MAD   |      9:11     |          10:42          |  172  |\n",
            "|            |        |         |               | Total deste passageiro: |  432  |\n",
            "|     -      |   -    |    -    |       -       |            -            |   -   |\n",
            "| Viajante 3 |  CDG   |   FCO   |     17:07     |          20:04          |  291  |\n",
            "| Viajante 3 |  FCO   |   CDG   |     11:08     |          14:38          |  262  |\n",
            "|            |        |         |               | Total deste passageiro: |  553  |\n",
            "|     -      |   -    |    -    |       -       |            -            |   -   |\n",
            "| Viajante 4 |  DUB   |   FCO   |     15:27     |          17:18          |  151  |\n",
            "| Viajante 4 |  FCO   |   DUB   |     10:33     |          12:03          |   74  |\n",
            "|            |        |         |               | Total deste passageiro: |  225  |\n",
            "|     -      |   -    |    -    |       -       |            -            |   -   |\n",
            "| Viajante 5 |  BRU   |   FCO   |      9:08     |          12:12          |  364  |\n",
            "| Viajante 5 |  FCO   |   BRU   |     12:20     |          16:34          |  500  |\n",
            "|            |        |         |               | Total deste passageiro: |  864  |\n",
            "|     -      |   -    |    -    |       -       |            -            |   -   |\n",
            "| Viajante 6 |  LHR   |   FCO   |     13:40     |          15:38          |  137  |\n",
            "| Viajante 6 |  FCO   |   LHR   |     10:32     |          13:16          |  139  |\n",
            "|            |        |         |               | Total deste passageiro: |  276  |\n",
            "|     -      |   -    |    -    |       -       |            -            |   -   |\n",
            "+------------+--------+---------+---------------+-------------------------+-------+\n",
            "Valor total gasto: 2620\n"
          ]
        }
      ]
    },
    {
      "cell_type": "code",
      "source": [
        "#apenas para ILUSTRAR a QUANTIDDE de COMBINAÇÕES possíveis para essa solução:\n",
        "10**12"
      ],
      "metadata": {
        "colab": {
          "base_uri": "https://localhost:8080/"
        },
        "id": "thivhmj-vLgz",
        "outputId": "46cbb164-a0fd-4ac8-f42b-15f2e3db4f1a"
      },
      "execution_count": 88,
      "outputs": [
        {
          "output_type": "execute_result",
          "data": {
            "text/plain": [
              "1000000000000"
            ]
          },
          "metadata": {},
          "execution_count": 88
        }
      ]
    },
    {
      "cell_type": "markdown",
      "source": [
        "## Fitness function (Função de custo)\n"
      ],
      "metadata": {
        "id": "ahHSy0Qqvq9p"
      }
    },
    {
      "cell_type": "code",
      "source": [
        "def fitness_function(agenda):\n",
        "  id_voo = -1\n",
        "  preco_total = 0\n",
        "  for i in range(len(agenda) // 2):\n",
        "    origem = pessoas[i][1] #coluna 1 (segunda) da lista de pessoas\n",
        "    id_voo += 1\n",
        "    ida = voos[(origem, destino)][agenda[id_voo]]\n",
        "    preco_total += ida[2]\n",
        "    id_voo += 1\n",
        "    volta = voos[(destino, origem)][agenda[id_voo]]\n",
        "    preco_total += volta[2]\n",
        "  \n",
        "  return preco_total"
      ],
      "metadata": {
        "id": "nBke3DRQe9Mt"
      },
      "execution_count": 97,
      "outputs": []
    },
    {
      "cell_type": "code",
      "source": [
        "agenda = [1,2, 3,1, 4,1, 2,6, 8,3, 2,9]\n",
        "fitness_function(agenda)"
      ],
      "metadata": {
        "colab": {
          "base_uri": "https://localhost:8080/"
        },
        "id": "ALecXFnWflc6",
        "outputId": "a03dced1-2386-4f1d-ff96-043479592451"
      },
      "execution_count": 90,
      "outputs": [
        {
          "output_type": "execute_result",
          "data": {
            "text/plain": [
              "2741"
            ]
          },
          "metadata": {},
          "execution_count": 90
        }
      ]
    },
    {
      "cell_type": "code",
      "source": [
        "!pip install mlrose #vamos utilizar essa bibliote pronta para as soluções inteligentes\n",
        "#vide: https://mlrose.readthedocs.io/en/stable/"
      ],
      "metadata": {
        "colab": {
          "base_uri": "https://localhost:8080/"
        },
        "id": "HPFG0xoOgHdW",
        "outputId": "3ce6d7cf-c3a4-4cdc-b9c0-5983ff7a487d"
      },
      "execution_count": 91,
      "outputs": [
        {
          "output_type": "stream",
          "name": "stdout",
          "text": [
            "Requirement already satisfied: mlrose in /usr/local/lib/python3.7/dist-packages (1.3.0)\n",
            "Requirement already satisfied: sklearn in /usr/local/lib/python3.7/dist-packages (from mlrose) (0.0)\n",
            "Requirement already satisfied: numpy in /usr/local/lib/python3.7/dist-packages (from mlrose) (1.21.6)\n",
            "Requirement already satisfied: scipy in /usr/local/lib/python3.7/dist-packages (from mlrose) (1.4.1)\n",
            "Requirement already satisfied: scikit-learn in /usr/local/lib/python3.7/dist-packages (from sklearn->mlrose) (1.0.2)\n",
            "Requirement already satisfied: threadpoolctl>=2.0.0 in /usr/local/lib/python3.7/dist-packages (from scikit-learn->sklearn->mlrose) (3.1.0)\n",
            "Requirement already satisfied: joblib>=0.11 in /usr/local/lib/python3.7/dist-packages (from scikit-learn->sklearn->mlrose) (1.1.0)\n"
          ]
        }
      ]
    },
    {
      "cell_type": "code",
      "source": [
        "import six\n",
        "import sys\n",
        "sys.modules['sklearn.externals.six'] = six\n",
        "import mlrose"
      ],
      "metadata": {
        "id": "o8mMFNY4gdgY"
      },
      "execution_count": 92,
      "outputs": []
    },
    {
      "cell_type": "code",
      "source": [
        "#para usarmos essa biblioteca, temos que informar qual a função de fitness, para isso podemos fazer assim:\n",
        "\n",
        "fitness = mlrose.CustomFitness(fitness_function)"
      ],
      "metadata": {
        "id": "IOwPfDdDg4jx"
      },
      "execution_count": 93,
      "outputs": []
    },
    {
      "cell_type": "code",
      "source": [
        "# Trabalharemos com números discretos (inteiros)\n",
        "# parâmetros:\n",
        "# - lenght: tamanho da solução\n",
        "# - função de fitness\n",
        "# - maximize = que tipo de solução -> True as maiores; False as menores\n",
        "# - max_val: a quantidade de voos que temos em cada posição do vetor (o valor máximo de cada posição no vetor)\n",
        "\n",
        "problema = mlrose.DiscreteOpt(length=12, \n",
        "                              fitness_fn=fitness, \n",
        "                              maximize=False, \n",
        "                              max_val=10)"
      ],
      "metadata": {
        "id": "BZRj1W36hMOH"
      },
      "execution_count": 158,
      "outputs": []
    },
    {
      "cell_type": "markdown",
      "source": [
        "## Hill Climb\n"
      ],
      "metadata": {
        "id": "u6JNWHR2iWM9"
      }
    },
    {
      "cell_type": "code",
      "source": [
        "# o parâmetro random_state representa como é gerado o estado inicial\n",
        "melhor_solucao, melhor_custo = mlrose.hill_climb(problema, random_state=1)"
      ],
      "metadata": {
        "id": "FV2A4d12iY2f"
      },
      "execution_count": null,
      "outputs": []
    },
    {
      "cell_type": "code",
      "source": [
        "print(melhor_solucao)\n",
        "print(melhor_custo)"
      ],
      "metadata": {
        "colab": {
          "base_uri": "https://localhost:8080/"
        },
        "id": "ILhLfl_mi18j",
        "outputId": "367dfb10-d079-40c8-ebdc-5d81279533aa"
      },
      "execution_count": 160,
      "outputs": [
        {
          "output_type": "stream",
          "name": "stdout",
          "text": [
            "[2 6 5 7 8 1 3 6 0 2 9 1]\n",
            "1566.0\n"
          ]
        }
      ]
    },
    {
      "cell_type": "code",
      "source": [
        "imprimir_voos(melhor_solucao)"
      ],
      "metadata": {
        "colab": {
          "base_uri": "https://localhost:8080/"
        },
        "id": "C7buQ9J2jX4R",
        "outputId": "0503b9df-b6d2-4cd4-bdb8-4a46093f7a5b"
      },
      "execution_count": 161,
      "outputs": [
        {
          "output_type": "stream",
          "name": "stdout",
          "text": [
            "+------------+--------+---------+---------------+-------------------------+-------+\n",
            "|   Pessoa   | Origem | Destino | Hora de Saída |     Hora de Chegada     | Valor |\n",
            "+------------+--------+---------+---------------+-------------------------+-------+\n",
            "| Viajante 1 |  LIS   |   FCO   |      9:15     |          12:03          |   99  |\n",
            "| Viajante 1 |  FCO   |   LIS   |     15:07     |          17:21          |  129  |\n",
            "|            |        |         |               | Total deste passageiro: |  228  |\n",
            "|     -      |   -    |    -    |       -       |            -            |   -   |\n",
            "| Viajante 2 |  MAD   |   FCO   |     14:22     |          16:32          |  126  |\n",
            "| Viajante 2 |  FCO   |   MAD   |     17:06     |          20:00          |   95  |\n",
            "|            |        |         |               | Total deste passageiro: |  221  |\n",
            "|     -      |   -    |    -    |       -       |            -            |   -   |\n",
            "| Viajante 3 |  CDG   |   FCO   |     18:23     |          21:35          |  134  |\n",
            "| Viajante 3 |  FCO   |   CDG   |      8:23     |          11:07          |  143  |\n",
            "|            |        |         |               | Total deste passageiro: |  277  |\n",
            "|     -      |   -    |    -    |       -       |            -            |   -   |\n",
            "| Viajante 4 |  DUB   |   FCO   |     11:16     |          13:29          |   83  |\n",
            "| Viajante 4 |  FCO   |   DUB   |     15:25     |          16:58          |   62  |\n",
            "|            |        |         |               | Total deste passageiro: |  145  |\n",
            "|     -      |   -    |    -    |       -       |            -            |   -   |\n",
            "| Viajante 5 |  BRU   |   FCO   |      6:12     |          10:22          |  230  |\n",
            "| Viajante 5 |  FCO   |   BRU   |      9:49     |          13:51          |  229  |\n",
            "|            |        |         |               | Total deste passageiro: |  459  |\n",
            "|     -      |   -    |    -    |       -       |            -            |   -   |\n",
            "| Viajante 6 |  LHR   |   FCO   |     20:30     |          23:11          |  114  |\n",
            "| Viajante 6 |  FCO   |   LHR   |      8:19     |          11:16          |  122  |\n",
            "|            |        |         |               | Total deste passageiro: |  236  |\n",
            "|     -      |   -    |    -    |       -       |            -            |   -   |\n",
            "+------------+--------+---------+---------------+-------------------------+-------+\n",
            "Valor total gasto: 1566\n"
          ]
        }
      ]
    },
    {
      "cell_type": "code",
      "source": [
        "voos['BRU', 'FCO']"
      ],
      "metadata": {
        "colab": {
          "base_uri": "https://localhost:8080/"
        },
        "id": "FYBLMT3dkT73",
        "outputId": "00e29610-20a9-452c-c35c-4969c671daa1"
      },
      "execution_count": 162,
      "outputs": [
        {
          "output_type": "execute_result",
          "data": {
            "text/plain": [
              "[('6:12', '10:22', 230),\n",
              " ('7:53', '11:37', 433),\n",
              " ('9:08', '12:12', 364),\n",
              " ('10:30', '14:57', 290),\n",
              " ('12:19', '15:25', 342),\n",
              " ('13:54', '18:02', 294),\n",
              " ('15:44', '18:55', 382),\n",
              " ('16:52', '20:48', 448),\n",
              " ('18:26', '21:29', 464),\n",
              " ('20:07', '23:27', 473)]"
            ]
          },
          "metadata": {},
          "execution_count": 162
        }
      ]
    },
    {
      "cell_type": "code",
      "source": [
        "voos['FCO', 'BRU']"
      ],
      "metadata": {
        "colab": {
          "base_uri": "https://localhost:8080/"
        },
        "id": "oApIkWXokgmg",
        "outputId": "1d16c378-de2b-4747-9ac7-463f99522644"
      },
      "execution_count": 163,
      "outputs": [
        {
          "output_type": "execute_result",
          "data": {
            "text/plain": [
              "[('6:09', '9:49', 414),\n",
              " ('7:57', '11:15', 347),\n",
              " ('9:49', '13:51', 229),\n",
              " ('10:51', '14:16', 256),\n",
              " ('12:20', '16:34', 500),\n",
              " ('14:20', '17:32', 332),\n",
              " ('15:49', '20:10', 497),\n",
              " ('17:14', '20:59', 277),\n",
              " ('18:44', '22:42', 351),\n",
              " ('19:57', '23:15', 512)]"
            ]
          },
          "metadata": {},
          "execution_count": 163
        }
      ]
    },
    {
      "cell_type": "markdown",
      "source": [
        "## Simulated Annealing"
      ],
      "metadata": {
        "id": "v5P2lDrOlAMs"
      }
    },
    {
      "cell_type": "code",
      "source": [
        "melhor_solucao, melhor_custo = mlrose.simulated_annealing(problema, \n",
        "                                                          schedule=mlrose.decay.GeomDecay(init_temp=10000),\n",
        "                                                          random_state=0)"
      ],
      "metadata": {
        "id": "xXdvcnqhmUVQ"
      },
      "execution_count": 164,
      "outputs": []
    },
    {
      "cell_type": "code",
      "source": [
        "print(melhor_solucao, melhor_custo)"
      ],
      "metadata": {
        "colab": {
          "base_uri": "https://localhost:8080/"
        },
        "id": "_imHVveinix3",
        "outputId": "1651b93b-abe4-4db7-915c-be6608ce68bc"
      },
      "execution_count": 165,
      "outputs": [
        {
          "output_type": "stream",
          "name": "stdout",
          "text": [
            "[2 6 4 7 8 6 0 5 3 2 5 3] 1699.0\n"
          ]
        }
      ]
    },
    {
      "cell_type": "code",
      "source": [
        "imprimir_voos(melhor_solucao)"
      ],
      "metadata": {
        "colab": {
          "base_uri": "https://localhost:8080/"
        },
        "id": "EWBcBPvgpaQp",
        "outputId": "0dca4a1f-94f7-46b4-f069-f0e5d85e3a94"
      },
      "execution_count": 166,
      "outputs": [
        {
          "output_type": "stream",
          "name": "stdout",
          "text": [
            "+------------+--------+---------+---------------+-------------------------+-------+\n",
            "|   Pessoa   | Origem | Destino | Hora de Saída |     Hora de Chegada     | Valor |\n",
            "+------------+--------+---------+---------------+-------------------------+-------+\n",
            "| Viajante 1 |  LIS   |   FCO   |      9:15     |          12:03          |   99  |\n",
            "| Viajante 1 |  FCO   |   LIS   |     15:07     |          17:21          |  129  |\n",
            "|            |        |         |               | Total deste passageiro: |  228  |\n",
            "|     -      |   -    |    -    |       -       |            -            |   -   |\n",
            "| Viajante 2 |  MAD   |   FCO   |     12:44     |          14:17          |  134  |\n",
            "| Viajante 2 |  FCO   |   MAD   |     17:06     |          20:00          |   95  |\n",
            "|            |        |         |               | Total deste passageiro: |  229  |\n",
            "|     -      |   -    |    -    |       -       |            -            |   -   |\n",
            "| Viajante 3 |  CDG   |   FCO   |     18:23     |          21:35          |  134  |\n",
            "| Viajante 3 |  FCO   |   CDG   |     15:23     |          18:49          |  150  |\n",
            "|            |        |         |               | Total deste passageiro: |  284  |\n",
            "|     -      |   -    |    -    |       -       |            -            |   -   |\n",
            "| Viajante 4 |  DUB   |   FCO   |      6:17     |           8:26          |   89  |\n",
            "| Viajante 4 |  FCO   |   DUB   |     13:39     |          15:30          |   74  |\n",
            "|            |        |         |               | Total deste passageiro: |  163  |\n",
            "|     -      |   -    |    -    |       -       |            -            |   -   |\n",
            "| Viajante 5 |  BRU   |   FCO   |     10:30     |          14:57          |  290  |\n",
            "| Viajante 5 |  FCO   |   BRU   |      9:49     |          13:51          |  229  |\n",
            "|            |        |         |               | Total deste passageiro: |  519  |\n",
            "|     -      |   -    |    -    |       -       |            -            |   -   |\n",
            "| Viajante 6 |  LHR   |   FCO   |     13:40     |          15:38          |  137  |\n",
            "| Viajante 6 |  FCO   |   LHR   |     10:32     |          13:16          |  139  |\n",
            "|            |        |         |               | Total deste passageiro: |  276  |\n",
            "|     -      |   -    |    -    |       -       |            -            |   -   |\n",
            "+------------+--------+---------+---------------+-------------------------+-------+\n",
            "Valor total gasto: 1699\n"
          ]
        }
      ]
    },
    {
      "cell_type": "markdown",
      "source": [
        "## Algoritmo Genético (otimização)"
      ],
      "metadata": {
        "id": "e15fRtY7tDsB"
      }
    },
    {
      "cell_type": "code",
      "source": [
        "melhor_solucao, melhor_custo = mlrose.genetic_alg(problema,\n",
        "                                                  pop_size=10000,\n",
        "                                                  mutation_prob=0.2,\n",
        "                                                  random_state=1)\n"
      ],
      "metadata": {
        "id": "ZSmmOVIYtHRQ"
      },
      "execution_count": 184,
      "outputs": []
    },
    {
      "cell_type": "code",
      "source": [
        "melhor_custo, melhor_solucao"
      ],
      "metadata": {
        "colab": {
          "base_uri": "https://localhost:8080/"
        },
        "id": "_tpcxJfGtq0u",
        "outputId": "355b38bc-4948-4e7e-b86e-8b150b85740b"
      },
      "execution_count": 181,
      "outputs": [
        {
          "output_type": "execute_result",
          "data": {
            "text/plain": [
              "(1810.0, array([7, 7, 6, 5, 8, 4, 1, 6, 0, 2, 9, 1]))"
            ]
          },
          "metadata": {},
          "execution_count": 181
        }
      ]
    },
    {
      "cell_type": "code",
      "source": [
        "imprimir_voos(melhor_solucao)"
      ],
      "metadata": {
        "colab": {
          "base_uri": "https://localhost:8080/"
        },
        "id": "Fjj-Qdd7tvE3",
        "outputId": "104ee77d-86d2-4200-bece-ec6cc16b9e59"
      },
      "execution_count": 185,
      "outputs": [
        {
          "output_type": "stream",
          "name": "stdout",
          "text": [
            "+------------+--------+---------+---------------+-------------------------+-------+\n",
            "|   Pessoa   | Origem | Destino | Hora de Saída |     Hora de Chegada     | Valor |\n",
            "+------------+--------+---------+---------------+-------------------------+-------+\n",
            "| Viajante 1 |  LIS   |   FCO   |     16:51     |          19:09          |  147  |\n",
            "| Viajante 1 |  FCO   |   LIS   |     16:35     |          18:56          |  144  |\n",
            "|            |        |         |               | Total deste passageiro: |  291  |\n",
            "|     -      |   -    |    -    |       -       |            -            |   -   |\n",
            "| Viajante 2 |  MAD   |   FCO   |     15:58     |          18:40          |  173  |\n",
            "| Viajante 2 |  FCO   |   MAD   |     14:19     |          17:09          |  190  |\n",
            "|            |        |         |               | Total deste passageiro: |  363  |\n",
            "|     -      |   -    |    -    |       -       |            -            |   -   |\n",
            "| Viajante 3 |  CDG   |   FCO   |     18:23     |          21:35          |  134  |\n",
            "| Viajante 3 |  FCO   |   CDG   |     12:37     |          15:05          |  170  |\n",
            "|            |        |         |               | Total deste passageiro: |  304  |\n",
            "|     -      |   -    |    -    |       -       |            -            |   -   |\n",
            "| Viajante 4 |  DUB   |   FCO   |      8:04     |          10:11          |   95  |\n",
            "| Viajante 4 |  FCO   |   DUB   |     15:25     |          16:58          |   62  |\n",
            "|            |        |         |               | Total deste passageiro: |  157  |\n",
            "|     -      |   -    |    -    |       -       |            -            |   -   |\n",
            "| Viajante 5 |  BRU   |   FCO   |      6:12     |          10:22          |  230  |\n",
            "| Viajante 5 |  FCO   |   BRU   |      9:49     |          13:51          |  229  |\n",
            "|            |        |         |               | Total deste passageiro: |  459  |\n",
            "|     -      |   -    |    -    |       -       |            -            |   -   |\n",
            "| Viajante 6 |  LHR   |   FCO   |     20:30     |          23:11          |  114  |\n",
            "| Viajante 6 |  FCO   |   LHR   |      8:19     |          11:16          |  122  |\n",
            "|            |        |         |               | Total deste passageiro: |  236  |\n",
            "|     -      |   -    |    -    |       -       |            -            |   -   |\n",
            "+------------+--------+---------+---------------+-------------------------+-------+\n",
            "Valor total gasto: 1810\n"
          ]
        }
      ]
    }
  ]
}