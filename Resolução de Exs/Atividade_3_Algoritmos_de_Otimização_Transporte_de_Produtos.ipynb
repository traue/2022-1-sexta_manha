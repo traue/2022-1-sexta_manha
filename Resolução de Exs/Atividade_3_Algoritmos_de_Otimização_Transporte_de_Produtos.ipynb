{
  "nbformat": 4,
  "nbformat_minor": 0,
  "metadata": {
    "colab": {
      "name": "Exercício - Algoritmos de otimização - transporte de produtos.ipynb",
      "provenance": []
    },
    "kernelspec": {
      "name": "python3",
      "display_name": "Python 3"
    }
  },
  "cells": [
    {
      "cell_type": "markdown",
      "metadata": {
        "id": "m4fZzXnRFW0i"
      },
      "source": [
        "# Algoritmos de otimização - transporte de produtos"
      ]
    },
    {
      "cell_type": "markdown",
      "source": [
        "O exercício consiste em MAXIMIZAR o lucro de uma empresa de transportes\n",
        "\n",
        "\n",
        "\n",
        "*   Cada caminhão possui apenas 3m3 de espaço em seu baú\n",
        "*   Cada produto possui um nome, um voluma (em m3) e um preço\n",
        "*   É preciso maximizar o lucro em relação ao volume e o transporte não pode ocorrer com mais de 3m3 de itens\n",
        "*   É preciso implementar a fitness_funcion que retorna o custo de uma solução\n",
        "*   Você possui apenas um produto de cada para transportar no caminhão\n",
        "\n",
        "\n",
        "\n"
      ],
      "metadata": {
        "id": "hGnxE54dxD5o"
      }
    },
    {
      "cell_type": "markdown",
      "source": [
        "**Lista de produtos, volume, preço**\n",
        "\n",
        "\n",
        "'Refrigerador A', 0.751, 999.90\n",
        "\n",
        "'Refrigerador B', 0.635, 849.00\n",
        "\n",
        "'Refrigerador C', 0.870, 1199.89\n",
        "\n",
        "'Celular', 0.0000899, 2911.12\n",
        "\n",
        "'TV 55', 0.400, 4346.99\n",
        "\n",
        "'TV 50', 0.290, 3999.90\n",
        "\n",
        "'TV 42', 0.200, 2999.00\n",
        "\n",
        "'Ventilador', 0.496, 199.90\n",
        "\n",
        "'Microondas A', 0.0424, 308.66\n",
        "\n",
        "'Microondas B', 0.0544, 429.90\n",
        "\n",
        "'Microondas C', 0.0319, 299.29\n",
        "\n",
        "'Notebook A', 0.00350, 2499.90\n",
        "\n",
        "'Notebook B', 0.498, 1999.90\n",
        "\n",
        "'Notebook C', 0.527, 3999.00"
      ],
      "metadata": {
        "id": "EAkVS0_ux6rn"
      }
    },
    {
      "cell_type": "code",
      "metadata": {
        "id": "JNVoTIBnFONn",
        "colab": {
          "base_uri": "https://localhost:8080/"
        },
        "outputId": "1d7fd5c2-acc4-4d5c-e5a4-15b2e3abc968"
      },
      "source": [
        "!pip install mlrose"
      ],
      "execution_count": 1,
      "outputs": [
        {
          "output_type": "stream",
          "name": "stdout",
          "text": [
            "Looking in indexes: https://pypi.org/simple, https://us-python.pkg.dev/colab-wheels/public/simple/\n",
            "Collecting mlrose\n",
            "  Downloading mlrose-1.3.0-py3-none-any.whl (27 kB)\n",
            "Requirement already satisfied: numpy in /usr/local/lib/python3.7/dist-packages (from mlrose) (1.21.6)\n",
            "Requirement already satisfied: scipy in /usr/local/lib/python3.7/dist-packages (from mlrose) (1.4.1)\n",
            "Requirement already satisfied: sklearn in /usr/local/lib/python3.7/dist-packages (from mlrose) (0.0)\n",
            "Requirement already satisfied: scikit-learn in /usr/local/lib/python3.7/dist-packages (from sklearn->mlrose) (1.0.2)\n",
            "Requirement already satisfied: joblib>=0.11 in /usr/local/lib/python3.7/dist-packages (from scikit-learn->sklearn->mlrose) (1.1.0)\n",
            "Requirement already satisfied: threadpoolctl>=2.0.0 in /usr/local/lib/python3.7/dist-packages (from scikit-learn->sklearn->mlrose) (3.1.0)\n",
            "Installing collected packages: mlrose\n",
            "Successfully installed mlrose-1.3.0\n"
          ]
        }
      ]
    },
    {
      "cell_type": "code",
      "metadata": {
        "id": "RDMMYF51I3Tn"
      },
      "source": [
        "from prettytable import PrettyTable\n",
        "import six\n",
        "import sys\n",
        "sys.modules['sklearn.externals.six'] = six\n",
        "import mlrose"
      ],
      "execution_count": 2,
      "outputs": []
    },
    {
      "cell_type": "markdown",
      "metadata": {
        "id": "z12zZlrNI1L8"
      },
      "source": [
        "## Representação do problema"
      ]
    },
    {
      "cell_type": "code",
      "metadata": {
        "id": "wDLbNo1xWibM"
      },
      "source": [
        "# definição da lista de procuros, volume e preço:\n",
        "\n",
        "produtos = [('Refrigerador A', 0.751, 999.90),\n",
        "            ('Refrigerador B', 0.635, 849.00),\n",
        "            ('Refrigerador C', 0.870, 1199.89),\n",
        "            ('Celular', 0.0000899, 2911.12),\n",
        "            ('TV 55', 0.400, 4346.99),\n",
        "            ('TV 50', 0.290, 3999.90),\n",
        "            ('TV 42', 0.200, 2999.00),\n",
        "            ('Ventilador', 0.496, 199.90),\n",
        "            ('Microondas A', 0.0424, 308.66),\n",
        "            ('Microondas B', 0.0544, 429.90),\n",
        "            ('Microondas C', 0.0319, 299.29),\n",
        "            ('Notebook A', 0.00350, 2499.90),\n",
        "            ('Notebook B', 0.498, 1999.90),\n",
        "            ('Notebook C', 0.527, 3999.00)]\n",
        "\n",
        "# espação no caminhão:        \n",
        "espaco_disponivel = 3"
      ],
      "execution_count": 3,
      "outputs": []
    },
    {
      "cell_type": "code",
      "metadata": {
        "id": "TbZhWxigbB_8",
        "colab": {
          "base_uri": "https://localhost:8080/"
        },
        "outputId": "a3fb569e-09f7-49a7-bfc5-5e289e892725"
      },
      "source": [
        "print(produtos[0]) #primeiro produto da lista\n",
        "print(produtos[0][0]) #nome do primeiro produto da lista\n",
        "print(produtos[0][1]) #vaolume do primeiro produto da lista\n",
        "print(produtos[0][2]) #preço do primeiro produto da lista"
      ],
      "execution_count": 4,
      "outputs": [
        {
          "output_type": "stream",
          "name": "stdout",
          "text": [
            "('Refrigerador A', 0.751, 999.9)\n",
            "Refrigerador A\n",
            "0.751\n",
            "999.9\n"
          ]
        }
      ]
    },
    {
      "cell_type": "markdown",
      "source": [
        "A representação da solução pode ser feita por \"zeros\" e \"uns\" indicando se um produto deve ou não ser incluído no caminhão"
      ],
      "metadata": {
        "id": "mEqkzMy8z6HF"
      }
    },
    {
      "cell_type": "code",
      "metadata": {
        "id": "ujAJAoZQ1oCi"
      },
      "source": [
        "def imprimir_solucao(solucao):\n",
        "  tabela = PrettyTable(['Produto', 'Volume', 'Preço'])\n",
        "  volume_total = 0\n",
        "  preco_total = 0\n",
        "  for i in range(len(solucao)):\n",
        "    if solucao[i] == 1:\n",
        "      volume_total += produtos[i][1]\n",
        "      preco_total += produtos[i][2]\n",
        "      tabela.add_row([produtos[i][0], produtos[i][1], produtos[i][2]])\n",
        "  print(tabela)\n",
        "  print(f'Volume ocupado: {volume_total}')\n",
        "  print(f'Valor total: {preco_total}')"
      ],
      "execution_count": 5,
      "outputs": []
    },
    {
      "cell_type": "code",
      "metadata": {
        "id": "zt0oFhV9bTmU",
        "colab": {
          "base_uri": "https://localhost:8080/"
        },
        "outputId": "9c9ac190-743c-41b5-8472-88f793abaed3"
      },
      "source": [
        "imprimir_solucao([1, 1, 1, 1, 0, 1, 1, 0, 1, 1, 1, 0, 0, 1])\n",
        "#imprimir_solucao([0, 0, 0, 0, 0, 0, 0, 0, 0, 0, 0, 0, 0, 1])"
      ],
      "execution_count": 6,
      "outputs": [
        {
          "output_type": "stream",
          "name": "stdout",
          "text": [
            "+----------------+----------+---------+\n",
            "|    Produto     |  Volume  |  Preço  |\n",
            "+----------------+----------+---------+\n",
            "| Refrigerador A |  0.751   |  999.9  |\n",
            "| Refrigerador B |  0.635   |  849.0  |\n",
            "| Refrigerador C |   0.87   | 1199.89 |\n",
            "|    Celular     | 8.99e-05 | 2911.12 |\n",
            "|     TV 50      |   0.29   |  3999.9 |\n",
            "|     TV 42      |   0.2    |  2999.0 |\n",
            "|  Microondas A  |  0.0424  |  308.66 |\n",
            "|  Microondas B  |  0.0544  |  429.9  |\n",
            "|  Microondas C  |  0.0319  |  299.29 |\n",
            "|   Notebook C   |  0.527   |  3999.0 |\n",
            "+----------------+----------+---------+\n",
            "Volume ocupado: 3.4017899000000003\n",
            "Valor total: 17995.66\n"
          ]
        }
      ]
    },
    {
      "cell_type": "code",
      "metadata": {
        "id": "IZAWc1C7WoyG"
      },
      "source": [
        "def fitness_function(solucao):\n",
        "  preco_total = 0\n",
        "  volume_total = 0\n",
        "  for i in range(len(solucao)):\n",
        "    if solucao[i] == 1:\n",
        "      preco_total += produtos[i][2]\n",
        "      volume_total += produtos[i][1]\n",
        "  if volume_total > espaco_disponivel:\n",
        "    preco_total = 1 # é um controle, pois o custo 1 é ruim para o algoritmo\n",
        "  return preco_total"
      ],
      "execution_count": 7,
      "outputs": []
    },
    {
      "cell_type": "code",
      "metadata": {
        "id": "EMmRB8_kcAlp",
        "colab": {
          "base_uri": "https://localhost:8080/"
        },
        "outputId": "eae5ac76-a235-4fcc-bb3a-0924c812d6cd"
      },
      "source": [
        "fitness_function([0, 1, 0, 1, 0, 0, 1, 0, 1, 0, 1, 1, 0, 1])\n",
        "fitness_function([1, 1, 1, 1, 1, 1, 1, 1, 1, 1, 1, 1, 1, 1])"
      ],
      "execution_count": 8,
      "outputs": [
        {
          "output_type": "execute_result",
          "data": {
            "text/plain": [
              "1"
            ]
          },
          "metadata": {},
          "execution_count": 8
        }
      ]
    },
    {
      "cell_type": "code",
      "metadata": {
        "id": "kzRooBieJhax"
      },
      "source": [
        "fitness = mlrose.CustomFitness(fitness_function)"
      ],
      "execution_count": 9,
      "outputs": []
    },
    {
      "cell_type": "code",
      "metadata": {
        "id": "R_v7bi5GJvwk"
      },
      "source": [
        "problema = mlrose.DiscreteOpt(length = 14, fitness_fn = fitness, \n",
        "                             maximize = True, max_val = 2)"
      ],
      "execution_count": 10,
      "outputs": []
    },
    {
      "cell_type": "markdown",
      "metadata": {
        "id": "TfNpB5slN7Cp"
      },
      "source": [
        "## Hill climb"
      ]
    },
    {
      "cell_type": "code",
      "metadata": {
        "id": "l4eyqdAbOS0p",
        "colab": {
          "base_uri": "https://localhost:8080/"
        },
        "outputId": "e7c2fdee-40d8-4e52-cb7e-c6716cf4ed71"
      },
      "source": [
        "melhor_solucao, melhor_custo = mlrose.hill_climb(problema)\n",
        "melhor_solucao, melhor_custo"
      ],
      "execution_count": 11,
      "outputs": [
        {
          "output_type": "execute_result",
          "data": {
            "text/plain": [
              "(array([1, 0, 1, 1, 1, 1, 0, 0, 1, 1, 1, 1, 0, 1]), 20994.55)"
            ]
          },
          "metadata": {},
          "execution_count": 11
        }
      ]
    },
    {
      "cell_type": "code",
      "metadata": {
        "id": "mvt4jVU51v3P",
        "colab": {
          "base_uri": "https://localhost:8080/"
        },
        "outputId": "9053241e-be9c-4151-dbf0-a5dc37967d48"
      },
      "source": [
        "imprimir_solucao(melhor_solucao)"
      ],
      "execution_count": 12,
      "outputs": [
        {
          "output_type": "stream",
          "name": "stdout",
          "text": [
            "+----------------+----------+---------+\n",
            "|    Produto     |  Volume  |  Preço  |\n",
            "+----------------+----------+---------+\n",
            "| Refrigerador A |  0.751   |  999.9  |\n",
            "| Refrigerador C |   0.87   | 1199.89 |\n",
            "|    Celular     | 8.99e-05 | 2911.12 |\n",
            "|     TV 55      |   0.4    | 4346.99 |\n",
            "|     TV 50      |   0.29   |  3999.9 |\n",
            "|  Microondas A  |  0.0424  |  308.66 |\n",
            "|  Microondas B  |  0.0544  |  429.9  |\n",
            "|  Microondas C  |  0.0319  |  299.29 |\n",
            "|   Notebook A   |  0.0035  |  2499.9 |\n",
            "|   Notebook C   |  0.527   |  3999.0 |\n",
            "+----------------+----------+---------+\n",
            "Volume ocupado: 2.9702899\n",
            "Valor total: 20994.55\n"
          ]
        }
      ]
    },
    {
      "cell_type": "markdown",
      "metadata": {
        "id": "ZU8cD5k2N8wO"
      },
      "source": [
        "## Simulated annealing"
      ]
    },
    {
      "cell_type": "code",
      "metadata": {
        "id": "L9KjmUcMKGh_",
        "colab": {
          "base_uri": "https://localhost:8080/"
        },
        "outputId": "c71eff19-d0ff-4301-a891-0840dc21d15f"
      },
      "source": [
        "melhor_solucao, melhor_custo = mlrose.simulated_annealing(problema)\n",
        "melhor_solucao, melhor_custo"
      ],
      "execution_count": 13,
      "outputs": [
        {
          "output_type": "stream",
          "name": "stderr",
          "text": [
            "/usr/local/lib/python3.7/dist-packages/mlrose/algorithms.py:311: RuntimeWarning: overflow encountered in exp\n",
            "  prob = np.exp(delta_e/temp)\n"
          ]
        },
        {
          "output_type": "execute_result",
          "data": {
            "text/plain": [
              "(array([0, 1, 1, 1, 0, 1, 0, 1, 0, 1, 1, 1, 1, 0]), 14388.8)"
            ]
          },
          "metadata": {},
          "execution_count": 13
        }
      ]
    },
    {
      "cell_type": "code",
      "metadata": {
        "id": "AaS5qBdE13Ba",
        "colab": {
          "base_uri": "https://localhost:8080/"
        },
        "outputId": "1b6edfc0-a00f-47c1-88d6-5151f9dbc58a"
      },
      "source": [
        "imprimir_solucao(melhor_solucao)"
      ],
      "execution_count": 14,
      "outputs": [
        {
          "output_type": "stream",
          "name": "stdout",
          "text": [
            "+----------------+----------+---------+\n",
            "|    Produto     |  Volume  |  Preço  |\n",
            "+----------------+----------+---------+\n",
            "| Refrigerador B |  0.635   |  849.0  |\n",
            "| Refrigerador C |   0.87   | 1199.89 |\n",
            "|    Celular     | 8.99e-05 | 2911.12 |\n",
            "|     TV 50      |   0.29   |  3999.9 |\n",
            "|   Ventilador   |  0.496   |  199.9  |\n",
            "|  Microondas B  |  0.0544  |  429.9  |\n",
            "|  Microondas C  |  0.0319  |  299.29 |\n",
            "|   Notebook A   |  0.0035  |  2499.9 |\n",
            "|   Notebook B   |  0.498   |  1999.9 |\n",
            "+----------------+----------+---------+\n",
            "Volume ocupado: 2.8788899\n",
            "Valor total: 14388.8\n"
          ]
        }
      ]
    },
    {
      "cell_type": "markdown",
      "metadata": {
        "id": "D3xrk8dfOAJF"
      },
      "source": [
        "## Algoritmo genético"
      ]
    },
    {
      "cell_type": "code",
      "metadata": {
        "id": "YPQPoUKPP7vN",
        "colab": {
          "base_uri": "https://localhost:8080/"
        },
        "outputId": "df611a49-0f74-40b5-aba0-f8507855f494"
      },
      "source": [
        "melhor_solucao, melhor_custo = mlrose.genetic_alg(problema, pop_size=1000, mutation_prob=0.2)\n",
        "melhor_solucao, melhor_custo"
      ],
      "execution_count": 15,
      "outputs": [
        {
          "output_type": "execute_result",
          "data": {
            "text/plain": [
              "(array([0, 0, 1, 1, 1, 1, 1, 0, 1, 1, 1, 1, 1, 1]), 24993.550000000003)"
            ]
          },
          "metadata": {},
          "execution_count": 15
        }
      ]
    },
    {
      "cell_type": "code",
      "metadata": {
        "id": "r7fk0Z9B18jT",
        "colab": {
          "base_uri": "https://localhost:8080/"
        },
        "outputId": "1baf247e-f5ee-4c26-8220-02636e631f96"
      },
      "source": [
        "imprimir_solucao(melhor_solucao)"
      ],
      "execution_count": 16,
      "outputs": [
        {
          "output_type": "stream",
          "name": "stdout",
          "text": [
            "+----------------+----------+---------+\n",
            "|    Produto     |  Volume  |  Preço  |\n",
            "+----------------+----------+---------+\n",
            "| Refrigerador C |   0.87   | 1199.89 |\n",
            "|    Celular     | 8.99e-05 | 2911.12 |\n",
            "|     TV 55      |   0.4    | 4346.99 |\n",
            "|     TV 50      |   0.29   |  3999.9 |\n",
            "|     TV 42      |   0.2    |  2999.0 |\n",
            "|  Microondas A  |  0.0424  |  308.66 |\n",
            "|  Microondas B  |  0.0544  |  429.9  |\n",
            "|  Microondas C  |  0.0319  |  299.29 |\n",
            "|   Notebook A   |  0.0035  |  2499.9 |\n",
            "|   Notebook B   |  0.498   |  1999.9 |\n",
            "|   Notebook C   |  0.527   |  3999.0 |\n",
            "+----------------+----------+---------+\n",
            "Volume ocupado: 2.9172899\n",
            "Valor total: 24993.550000000003\n"
          ]
        }
      ]
    }
  ]
}