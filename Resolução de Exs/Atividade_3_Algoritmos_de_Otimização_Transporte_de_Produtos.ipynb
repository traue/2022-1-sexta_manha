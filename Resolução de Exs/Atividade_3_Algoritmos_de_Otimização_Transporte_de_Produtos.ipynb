{
  "nbformat": 4,
  "nbformat_minor": 0,
  "metadata": {
    "colab": {
      "name": "Atividade - Algoritmos de Otimização - Transporte de Produtos.ipynb",
      "provenance": [],
      "collapsed_sections": []
    },
    "kernelspec": {
      "name": "python3",
      "display_name": "Python 3"
    },
    "language_info": {
      "name": "python"
    }
  },
  "cells": [
    {
      "cell_type": "markdown",
      "source": [
        "# Transporte de Produtos (algoritmos de otimização)"
      ],
      "metadata": {
        "id": "a0PnW166v5fR"
      }
    },
    {
      "cell_type": "markdown",
      "source": [
        "## Problema\n",
        "\n",
        "\n",
        "A atividade consiste em MAXIMIZAR o lucro de uma empresa de transpostes\n",
        "\n",
        "\n",
        "\n",
        "*   Cada caminhão possui apenas 3m3 (três metros cúbicos) de espaço em seu báu\n",
        "*   Cada produto possui um nome, um volume (em m3) e um preço\n",
        "*   É preciso maximizar o lucro em relação ao volume e o transporte não pode ocorrer com mais de 3m3\n",
        "*   É preciso implementar a fitness_function que retorna o custo dessa solução\n",
        "*   Você possui apenas um produto de cada para transportar no caminhão\n",
        "\n",
        "\n",
        "**Lista de produtos:**\n",
        "\n",
        "(produto, volume, preço)\n",
        "\n",
        "'Refrigerador A', 0.751, 999.90\n",
        "\n",
        "'Refrigerador B', 0.635, 849.00\n",
        "\n",
        "'Refrigerador C', 0.870, 1199.89\n",
        "\n",
        "'Celular', 0.0000899, 2911.12\n",
        "\n",
        "'TV 55', 0.400, 4346.99\n",
        "\n",
        "'TV 50', 0.290, 3999.90\n",
        "\n",
        "'TV 42', 0.200, 2999.00\n",
        "\n",
        "'Ventilador', 0.496, 199.90\n",
        "\n",
        "'Microondas A', 0.0424, 308.66\n",
        "\n",
        "'Microondas B', 0.0544, 429.90\n",
        "\n",
        "'Microondas C', 0.0319, 299.29\n",
        "\n",
        "'Notebook A', 0.00350, 2499.90\n",
        "\n",
        "'Notebook B', 0.498, 1999.90\n",
        "\n",
        "'Notebook C', 0.527, 3999.00\n",
        "\n",
        "\n",
        "\n"
      ],
      "metadata": {
        "id": "cqjv2-l7wBQX"
      }
    },
    {
      "cell_type": "code",
      "source": [
        "!pip install mlrose\n",
        "from prettytable import PrettyTable\n",
        "import six\n",
        "import sys\n",
        "sys.modules['sklearn.externals.six'] = six\n",
        "import mlrose"
      ],
      "metadata": {
        "colab": {
          "base_uri": "https://localhost:8080/"
        },
        "id": "hj3X0Ej4xPcm",
        "outputId": "150704f4-2efd-4f30-8b71-b347261f04f5"
      },
      "execution_count": 19,
      "outputs": [
        {
          "output_type": "stream",
          "name": "stdout",
          "text": [
            "Requirement already satisfied: mlrose in /usr/local/lib/python3.7/dist-packages (1.3.0)\n",
            "Requirement already satisfied: numpy in /usr/local/lib/python3.7/dist-packages (from mlrose) (1.21.6)\n",
            "Requirement already satisfied: scipy in /usr/local/lib/python3.7/dist-packages (from mlrose) (1.4.1)\n",
            "Requirement already satisfied: sklearn in /usr/local/lib/python3.7/dist-packages (from mlrose) (0.0)\n",
            "Requirement already satisfied: scikit-learn in /usr/local/lib/python3.7/dist-packages (from sklearn->mlrose) (1.0.2)\n",
            "Requirement already satisfied: threadpoolctl>=2.0.0 in /usr/local/lib/python3.7/dist-packages (from scikit-learn->sklearn->mlrose) (3.1.0)\n",
            "Requirement already satisfied: joblib>=0.11 in /usr/local/lib/python3.7/dist-packages (from scikit-learn->sklearn->mlrose) (1.1.0)\n"
          ]
        }
      ]
    },
    {
      "cell_type": "markdown",
      "source": [
        "## Representação do problema"
      ],
      "metadata": {
        "id": "hFWdGp_Axbls"
      }
    },
    {
      "cell_type": "code",
      "source": [
        "# definição da lista de produtos com seu respectivo volume e preço\n",
        "\n",
        "produtos = [('Refrigerador A', 0.751, 999.90),\n",
        "            ('Refrigerador B', 0.635, 849.00),\n",
        "            ('Refrigerador C', 0.870, 1199.89),\n",
        "            ('Celular', 0.0000899, 2911.12),\n",
        "            ('TV 55', 0.400, 4346.99),\n",
        "            ('TV 50', 0.290, 3999.90),\n",
        "            ('TV 42', 0.200, 2999.00),\n",
        "            ('Ventilador', 0.496, 199.90),\n",
        "            ('Microondas A', 0.0424, 308.66),\n",
        "            ('Microondas B', 0.0544, 429.90),\n",
        "            ('Microondas C', 0.0319, 299.29),\n",
        "            ('Notebook A', 0.00350, 2499.90),\n",
        "            ('Notebook B', 0.498, 1999.90),\n",
        "            ('Notebook C', 0.527, 3999.00)]"
      ],
      "metadata": {
        "id": "IYo2AZ9Exdvt"
      },
      "execution_count": 20,
      "outputs": []
    },
    {
      "cell_type": "code",
      "source": [
        "espaco_disponivel = 3"
      ],
      "metadata": {
        "id": "EN_9-mcBxpfC"
      },
      "execution_count": 21,
      "outputs": []
    },
    {
      "cell_type": "code",
      "source": [
        "# como é a representação de cada produto...\n",
        "\n",
        "print(produtos[0]) #primeiro produto da lista\n",
        "print(produtos[0][0]) #nome do primeiro produto da lista\n",
        "print(produtos[0][1]) #vaolume do primeiro produto da lista\n",
        "print(produtos[0][2]) #preço do primeiro produto da lista"
      ],
      "metadata": {
        "colab": {
          "base_uri": "https://localhost:8080/"
        },
        "id": "89xO1sj_xwlM",
        "outputId": "5c51c061-1b8a-43b9-d164-5d752ca3db96"
      },
      "execution_count": 22,
      "outputs": [
        {
          "output_type": "stream",
          "name": "stdout",
          "text": [
            "('Refrigerador A', 0.751, 999.9)\n",
            "Refrigerador A\n",
            "0.751\n",
            "999.9\n"
          ]
        }
      ]
    },
    {
      "cell_type": "code",
      "source": [
        "def imprimir_solucao(solucao):\n",
        "  tabela = PrettyTable(['Produto', 'Volume', 'Preço'])\n",
        "  volume_total = 0\n",
        "  preco_total = 0\n",
        "  for i in range(len(solucao)):\n",
        "    if solucao[i] == 1:\n",
        "      volume_total += produtos[i][1]\n",
        "      preco_total += produtos[i][2]\n",
        "      tabela.add_row([produtos[i][0], produtos[i][1], produtos[i][2]])\n",
        "  print(tabela)\n",
        "  print(f'Volume ocupado: {volume_total}')\n",
        "  print(f'Valor total: {preco_total}')"
      ],
      "metadata": {
        "id": "2HaYs7MgyCLw"
      },
      "execution_count": 23,
      "outputs": []
    },
    {
      "cell_type": "code",
      "source": [
        "imprimir_solucao([1, 1, 1, 1, 0, 1, 1, 0, 1, 1, 1, 0, 0, 1])"
      ],
      "metadata": {
        "id": "blWVbsoyyNCC",
        "colab": {
          "base_uri": "https://localhost:8080/"
        },
        "outputId": "e7b8f359-9b18-4a26-f549-7363f2d2c5d8"
      },
      "execution_count": 24,
      "outputs": [
        {
          "output_type": "stream",
          "name": "stdout",
          "text": [
            "+----------------+----------+---------+\n",
            "|    Produto     |  Volume  |  Preço  |\n",
            "+----------------+----------+---------+\n",
            "| Refrigerador A |  0.751   |  999.9  |\n",
            "| Refrigerador B |  0.635   |  849.0  |\n",
            "| Refrigerador C |   0.87   | 1199.89 |\n",
            "|    Celular     | 8.99e-05 | 2911.12 |\n",
            "|     TV 50      |   0.29   |  3999.9 |\n",
            "|     TV 42      |   0.2    |  2999.0 |\n",
            "|  Microondas A  |  0.0424  |  308.66 |\n",
            "|  Microondas B  |  0.0544  |  429.9  |\n",
            "|  Microondas C  |  0.0319  |  299.29 |\n",
            "|   Notebook C   |  0.527   |  3999.0 |\n",
            "+----------------+----------+---------+\n",
            "Volume ocupado: 3.4017899000000003\n",
            "Valor total: 17995.66\n"
          ]
        }
      ]
    },
    {
      "cell_type": "markdown",
      "source": [
        "## Fitness function:"
      ],
      "metadata": {
        "id": "4Ox9n-8xzJ7v"
      }
    },
    {
      "cell_type": "code",
      "source": [
        "def fitness_function(solucao):\n",
        "  preco_total = 0\n",
        "  volume_total = 0\n",
        "  for i in range(len(solucao)):\n",
        "    if solucao[i] == 1:\n",
        "      preco_total += produtos[i][2]\n",
        "      volume_total += produtos[i][1]\n",
        "  if volume_total > espaco_disponivel:\n",
        "    preco_total = 1 # é um controle, pois o custo 1 é ruim para o algoritmo\n",
        "  return preco_total"
      ],
      "metadata": {
        "id": "_zHYPOhBzNRR"
      },
      "execution_count": 25,
      "outputs": []
    },
    {
      "cell_type": "code",
      "source": [
        "# exemplos:\n",
        "fitness_function([1, 1, 0, 1, 0, 0, 1, 0, 1, 0, 1, 1, 0, 1])\n",
        "fitness_function([1, 1, 1, 1, 1, 1, 1, 1, 1, 1, 1, 1, 1, 1])"
      ],
      "metadata": {
        "colab": {
          "base_uri": "https://localhost:8080/"
        },
        "id": "bSBooRNfzb7x",
        "outputId": "6ae26ce8-efbc-4bd3-97e2-a0360a976b5d"
      },
      "execution_count": 26,
      "outputs": [
        {
          "output_type": "execute_result",
          "data": {
            "text/plain": [
              "1"
            ]
          },
          "metadata": {},
          "execution_count": 26
        }
      ]
    },
    {
      "cell_type": "markdown",
      "source": [
        "## Hill Climb"
      ],
      "metadata": {
        "id": "HJVPIeM7zks-"
      }
    },
    {
      "cell_type": "markdown",
      "source": [
        "## Simulated annealing"
      ],
      "metadata": {
        "id": "1qpznfx8zm0I"
      }
    },
    {
      "cell_type": "markdown",
      "source": [
        "## Algoritmo genético"
      ],
      "metadata": {
        "id": "DvFv7_Hxzpgi"
      }
    }
  ]
}