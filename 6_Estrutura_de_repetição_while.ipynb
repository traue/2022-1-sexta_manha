{
  "nbformat": 4,
  "nbformat_minor": 0,
  "metadata": {
    "colab": {
      "name": "6 - Estrutura de repetição - while.ipynb",
      "provenance": [],
      "collapsed_sections": [],
      "include_colab_link": true
    },
    "kernelspec": {
      "name": "python3",
      "display_name": "Python 3"
    }
  },
  "cells": [
    {
      "cell_type": "markdown",
      "metadata": {
        "id": "view-in-github",
        "colab_type": "text"
      },
      "source": [
        "<a href=\"https://colab.research.google.com/github/traue/2022-1-sexta_manha/blob/main/6_Estrutura_de_repeti%C3%A7%C3%A3o_while.ipynb\" target=\"_parent\"><img src=\"https://colab.research.google.com/assets/colab-badge.svg\" alt=\"Open In Colab\"/></a>"
      ]
    },
    {
      "cell_type": "markdown",
      "metadata": {
        "id": "5hg58pyZe2oS"
      },
      "source": [
        "# Estruturas de repetição - while"
      ]
    },
    {
      "cell_type": "code",
      "metadata": {
        "id": "97oTadu-WF4t",
        "colab": {
          "base_uri": "https://localhost:8080/"
        },
        "outputId": "fda914f8-9421-4133-9339-ac2cc9745410"
      },
      "source": [
        "numero = 1\n",
        "while numero < 6:\n",
        "  print(numero)\n",
        "  numero += 1\n",
        "print('---')"
      ],
      "execution_count": null,
      "outputs": [
        {
          "output_type": "stream",
          "name": "stdout",
          "text": [
            "1\n",
            "2\n",
            "3\n",
            "4\n",
            "5\n",
            "---\n"
          ]
        }
      ]
    },
    {
      "cell_type": "code",
      "metadata": {
        "id": "aXkrSeO2Wvms",
        "colab": {
          "base_uri": "https://localhost:8080/"
        },
        "outputId": "0f21ee5b-a2ee-4aca-c011-7a6cfe104fc5"
      },
      "source": [
        "numero = 5\n",
        "while numero > 0:\n",
        "  print(numero)\n",
        "  numero -= 1"
      ],
      "execution_count": null,
      "outputs": [
        {
          "output_type": "stream",
          "name": "stdout",
          "text": [
            "5\n",
            "4\n",
            "3\n",
            "2\n",
            "1\n"
          ]
        }
      ]
    },
    {
      "cell_type": "code",
      "metadata": {
        "id": "-nIW4iunW6QQ",
        "colab": {
          "base_uri": "https://localhost:8080/"
        },
        "outputId": "caae4833-49ef-4acd-ab12-ca4236c75392"
      },
      "source": [
        "1 + 2 + 3 + 4 + 5"
      ],
      "execution_count": null,
      "outputs": [
        {
          "output_type": "execute_result",
          "data": {
            "text/plain": [
              "15"
            ]
          },
          "metadata": {},
          "execution_count": 3
        }
      ]
    },
    {
      "cell_type": "code",
      "metadata": {
        "id": "uCoU9t1wW9fG",
        "colab": {
          "base_uri": "https://localhost:8080/"
        },
        "outputId": "956765c1-e7c8-4c12-9369-7179b04a25f5"
      },
      "source": [
        "soma = 0\n",
        "numero = 1\n",
        "while numero < 6:\n",
        "  soma += numero\n",
        "  numero += 1\n",
        "print(soma)"
      ],
      "execution_count": null,
      "outputs": [
        {
          "output_type": "stream",
          "name": "stdout",
          "text": [
            "15\n"
          ]
        }
      ]
    },
    {
      "cell_type": "code",
      "metadata": {
        "id": "b7oXoYxXXNH6",
        "colab": {
          "base_uri": "https://localhost:8080/"
        },
        "outputId": "bd6b6c41-41a0-4b82-f012-ffb386743b34"
      },
      "source": [
        "numero = 12\n",
        "while numero < 1 or numero > 10:\n",
        "  numero = int(input('Digite um número de 1 a 10: '))"
      ],
      "execution_count": null,
      "outputs": [
        {
          "name": "stdout",
          "output_type": "stream",
          "text": [
            "Digite um número de 1 a 10: 12\n",
            "Digite um número de 1 a 10: -3\n",
            "Digite um número de 1 a 10: 999999\n",
            "Digite um número de 1 a 10: 10\n"
          ]
        }
      ]
    }
  ]
}